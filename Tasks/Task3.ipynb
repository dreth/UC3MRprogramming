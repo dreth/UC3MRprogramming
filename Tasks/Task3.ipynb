{
  "nbformat": 4,
  "nbformat_minor": 0,
  "metadata": {
    "colab": {
      "name": "Task3.ipynb",
      "provenance": []
    },
    "kernelspec": {
      "display_name": "R",
      "name": "ir"
    }
  },
  "cells": [
    {
      "cell_type": "markdown",
      "metadata": {
        "id": "tXJOPNxvXhzU"
      },
      "source": [
        "# Task 3: Maximum Likelihood Estimator\n",
        "### Daniel Alonso & Ander Iturburu"
      ]
    },
    {
      "cell_type": "markdown",
      "metadata": {
        "id": "57-i9XEuX8GZ"
      },
      "source": [
        "## Computation of MLE using user-written function and *opmitize()*"
      ]
    },
    {
      "cell_type": "markdown",
      "metadata": {
        "id": "D-W33_T1YuTy"
      },
      "source": [
        "First of all, we are going to calculate the MLE of gamma distribution by an user-written function and then, finding the maximum of the vector with *optimize()*"
      ]
    },
    {
      "cell_type": "code",
      "metadata": {
        "id": "SysNKadsWfie",
        "outputId": "ed7faf6d-6a51-42d7-ee1c-47b03c3b8f02",
        "colab": {
          "base_uri": "https://localhost:8080/",
          "height": 213
        }
      },
      "source": [
        "s = 3\n",
        "r = 1 \n",
        "x = rgamma(5000,shape=s,scale=r)\n",
        "L = function(v) {\n",
        "  shape <- v[1]\n",
        "  scale <- v[2]\n",
        "  -sum(log(dgamma(x, shape, scale)))\n",
        "}\n",
        "optim(c(.5,.5),L)"
      ],
      "execution_count": null,
      "outputs": [
        {
          "output_type": "display_data",
          "data": {
            "text/html": [
              "<dl>\n",
              "\t<dt>$par</dt>\n",
              "\t\t<dd><style>\n",
              ".list-inline {list-style: none; margin:0; padding: 0}\n",
              ".list-inline>li {display: inline-block}\n",
              ".list-inline>li:not(:last-child)::after {content: \"\\00b7\"; padding: 0 .5ex}\n",
              "</style>\n",
              "<ol class=list-inline><li>3.01992716429069</li><li>1.01686193133783</li></ol>\n",
              "</dd>\n",
              "\t<dt>$value</dt>\n",
              "\t\t<dd>9176.21258836363</dd>\n",
              "\t<dt>$counts</dt>\n",
              "\t\t<dd><style>\n",
              ".dl-inline {width: auto; margin:0; padding: 0}\n",
              ".dl-inline>dt, .dl-inline>dd {float: none; width: auto; display: inline-block}\n",
              ".dl-inline>dt::after {content: \":\\0020\"; padding-right: .5ex}\n",
              ".dl-inline>dt:not(:first-of-type) {padding-left: .5ex}\n",
              "</style><dl class=dl-inline><dt>function</dt><dd>67</dd><dt>gradient</dt><dd>&lt;NA&gt;</dd></dl>\n",
              "</dd>\n",
              "\t<dt>$convergence</dt>\n",
              "\t\t<dd>0</dd>\n",
              "\t<dt>$message</dt>\n",
              "\t\t<dd>NULL</dd>\n",
              "</dl>\n"
            ],
            "text/latex": "\\begin{description}\n\\item[\\$par] \\begin{enumerate*}\n\\item 3.01992716429069\n\\item 1.01686193133783\n\\end{enumerate*}\n\n\\item[\\$value] 9176.21258836363\n\\item[\\$counts] \\begin{description*}\n\\item[function] 67\n\\item[gradient] <NA>\n\\end{description*}\n\n\\item[\\$convergence] 0\n\\item[\\$message] NULL\n\\end{description}\n",
            "text/markdown": "$par\n:   1. 3.01992716429069\n2. 1.01686193133783\n\n\n\n$value\n:   9176.21258836363\n$counts\n:   function\n:   67gradient\n:   &lt;NA&gt;\n\n\n$convergence\n:   0\n$message\n:   NULL\n\n\n",
            "text/plain": [
              "$par\n",
              "[1] 3.019927 1.016862\n",
              "\n",
              "$value\n",
              "[1] 9176.213\n",
              "\n",
              "$counts\n",
              "function gradient \n",
              "      67       NA \n",
              "\n",
              "$convergence\n",
              "[1] 0\n",
              "\n",
              "$message\n",
              "NULL\n"
            ]
          },
          "metadata": {
            "tags": []
          }
        }
      ]
    },
    {
      "cell_type": "markdown",
      "metadata": {
        "id": "_HnYs97eEcQa"
      },
      "source": [
        "So, the estimators predicted by Maximum Likelihood are $k=3.01992716429069$ and $\\theta=1.01686193133783$, which are near to our actual values.\n"
      ]
    },
    {
      "cell_type": "markdown",
      "metadata": {
        "id": "XIFpsv9PYLUP"
      },
      "source": [
        "## Computation of MLE by *maxLik()*\n"
      ]
    },
    {
      "cell_type": "markdown",
      "metadata": {
        "id": "L_8e8A3ZFfh6"
      },
      "source": [
        "The main advantage of using *maxLik()* function over the common used *mle()* is that we can implement the **Newton-Raphson** algorithm in order to find our estimator. This means that we can also implement the **Berndt-Hall-Hall-Hausman** algorithm, a widely used algorithm for Maximum Likelihood problems."
      ]
    },
    {
      "cell_type": "markdown",
      "metadata": {
        "id": "HoJFwVbiG5Bk"
      },
      "source": [
        "The *maxLik()* function has the following structure:\n"
      ]
    },
    {
      "cell_type": "code",
      "metadata": {
        "id": "0r8L4QIZGzuo"
      },
      "source": [
        "maxLik ( logLik , grad = NULL , hess = NULL , start , method ,\n",
        "3 constraints =NULL , ...)"
      ],
      "execution_count": null,
      "outputs": []
    },
    {
      "cell_type": "markdown",
      "metadata": {
        "id": "DzoDT4DGHq-o"
      },
      "source": [
        "These arguments are the following:"
      ]
    },
    {
      "cell_type": "markdown",
      "metadata": {
        "id": "0XBEkUCKHzu0"
      },
      "source": [
        "\n",
        "\n",
        "*   **logLik**: The log-likelihood function to optimize.\n",
        "*   **grad**: The gradient of log-likelihood. If this element is *NULL*, we will use numeric gradient.\n",
        "* **hess** The hessian of log-likelihood. If this element is *NULL*, we will use numeric hessian.\n",
        "* **start** The start point in order to find our estimators. It is a numeric vector.\n",
        "* **method** The maximisation method. If it is missing, automatically the function will select a method that fits.\n",
        "* **constrains** The default argument is *NULL* for unconstrained maximizationt.\n",
        "* ...: further arguments, such as *control* are passed to the selected maximisation routine.\n",
        "\n"
      ]
    },
    {
      "cell_type": "markdown",
      "metadata": {
        "id": "44zd4kwZeLuY"
      },
      "source": [
        "Then, we are going to apply MLE using *maxLik()* function."
      ]
    },
    {
      "cell_type": "code",
      "metadata": {
        "id": "W6_qWMM5gg4m",
        "outputId": "fe805954-9424-451b-ca9b-debb84943abc",
        "colab": {
          "base_uri": "https://localhost:8080/",
          "height": 118
        }
      },
      "source": [
        "install.packages(\"maxLik\", repos=\"http://R-Forge.R-project.org\")"
      ],
      "execution_count": null,
      "outputs": [
        {
          "output_type": "stream",
          "text": [
            "Installing package into ‘/usr/local/lib/R/site-library’\n",
            "(as ‘lib’ is unspecified)\n",
            "\n",
            "also installing the dependencies ‘zoo’, ‘miscTools’, ‘sandwich’\n",
            "\n",
            "\n"
          ],
          "name": "stderr"
        }
      ]
    },
    {
      "cell_type": "code",
      "metadata": {
        "id": "JCT-Ni2xhOua",
        "outputId": "3e0ab5f0-4fe3-4259-8aa2-21076ef09c38",
        "colab": {
          "base_uri": "https://localhost:8080/",
          "height": 168
        }
      },
      "source": [
        "library(\"maxLik\")"
      ],
      "execution_count": null,
      "outputs": [
        {
          "output_type": "stream",
          "text": [
            "Loading required package: miscTools\n",
            "\n",
            "\n",
            "Please cite the 'maxLik' package as:\n",
            "Henningsen, Arne and Toomet, Ott (2011). maxLik: A package for maximum likelihood estimation in R. Computational Statistics 26(3), 443-458. DOI 10.1007/s00180-010-0217-1.\n",
            "\n",
            "If you have questions, suggestions, or comments regarding the 'maxLik' package, please use a forum or 'tracker' at maxLik's R-Forge site:\n",
            "https://r-forge.r-project.org/projects/maxlik/\n",
            "\n"
          ],
          "name": "stderr"
        }
      ]
    },
    {
      "cell_type": "code",
      "metadata": {
        "id": "CfVDcv6QenIo"
      },
      "source": [
        "s = 3\n",
        "r = 1 \n",
        "x = rgamma(5000,shape=s,scale=r)"
      ],
      "execution_count": null,
      "outputs": []
    },
    {
      "cell_type": "code",
      "metadata": {
        "id": "ghvk3msAevOs"
      },
      "source": [
        "LL = function(v) {\n",
        "  shape <- v[1]\n",
        "  scale <- v[2]\n",
        "  sum(log(dgamma(x, shape, scale)))\n",
        "}"
      ],
      "execution_count": null,
      "outputs": []
    },
    {
      "cell_type": "code",
      "metadata": {
        "id": "zaTcrMGsgaWh",
        "outputId": "10ca5e10-0391-4c60-d457-8ea0ee273d90",
        "colab": {
          "base_uri": "https://localhost:8080/",
          "height": 50
        }
      },
      "source": [
        "r=maxLik(LL, start=c(shape=0.5,scale=0.5),method=\"NR\")"
      ],
      "execution_count": null,
      "outputs": [
        {
          "output_type": "stream",
          "text": [
            "Warning message in dgamma(x, shape, scale):\n",
            "“NaNs produced”\n"
          ],
          "name": "stderr"
        }
      ]
    },
    {
      "cell_type": "code",
      "metadata": {
        "id": "4yjgGkey_ScW",
        "outputId": "d225600e-ac1b-40b1-c378-4e0c90a3b580",
        "colab": {
          "base_uri": "https://localhost:8080/",
          "height": 235
        }
      },
      "source": [
        "summary(r)"
      ],
      "execution_count": null,
      "outputs": [
        {
          "output_type": "display_data",
          "data": {
            "text/plain": [
              "--------------------------------------------\n",
              "Maximum Likelihood estimation\n",
              "Newton-Raphson maximisation, 10 iterations\n",
              "Return code 2: successive function values within tolerance limit\n",
              "Log-Likelihood: -9176.212 \n",
              "2  free parameters\n",
              "Estimates:\n",
              "      Estimate Std. error t value Pr(> t)    \n",
              "shape  3.01922    0.05743   52.57  <2e-16 ***\n",
              "scale  1.01649    0.02103   48.34  <2e-16 ***\n",
              "---\n",
              "Signif. codes:  0 ‘***’ 0.001 ‘**’ 0.01 ‘*’ 0.05 ‘.’ 0.1 ‘ ’ 1\n",
              "--------------------------------------------"
            ]
          },
          "metadata": {
            "tags": []
          }
        }
      ]
    },
    {
      "cell_type": "code",
      "metadata": {
        "id": "AaYWMKOcKCmx",
        "outputId": "0918b8fc-d1db-432e-c1d1-e8feca3ed82d",
        "colab": {
          "background_save": true
        }
      },
      "source": [
        "r=maxLik(LL, start=c(shape=0.5,scale=0.5))"
      ],
      "execution_count": null,
      "outputs": [
        {
          "output_type": "stream",
          "text": [
            "Warning message in dgamma(x, shape, scale):\n",
            "“NaNs produced”\n"
          ],
          "name": "stderr"
        }
      ]
    }
  ]
}