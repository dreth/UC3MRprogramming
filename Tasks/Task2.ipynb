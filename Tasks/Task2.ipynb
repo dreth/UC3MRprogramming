{
  "nbformat": 4,
  "nbformat_minor": 0,
  "metadata": {
    "colab": {
      "name": "Task2.ipynb",
      "provenance": [],
      "collapsed_sections": [],
      "toc_visible": true
    },
    "kernelspec": {
      "name": "ir",
      "display_name": "R"
    }
  },
  "cells": [
    {
      "cell_type": "markdown",
      "metadata": {
        "id": "ov-UXJktO6v4"
      },
      "source": [
        "# Task 2: R *apply* family\n",
        "##### Daniel Alonso & Ander Iturburu"
      ]
    },
    {
      "cell_type": "code",
      "metadata": {
        "id": "PKBz0Re7plrl"
      },
      "source": [
        "# loading some libraries\n",
        "library(dplyr)\n",
        "library(stats)"
      ],
      "execution_count": null,
      "outputs": []
    },
    {
      "cell_type": "markdown",
      "metadata": {
        "id": "QcxWJ3cuRE2s"
      },
      "source": [
        "The *apply()* family pertains to the R base package and is populated with functions to manipulate slices of data from matrices, arrays, lists and dataframes in a repetitive way. These functions allow crossing the data in a number of ways and avoid explicit use of loop constructs.\n"
      ]
    },
    {
      "cell_type": "markdown",
      "metadata": {
        "id": "mpRfUESzSBUI"
      },
      "source": [
        "the family is made up of the *apply()*, *lapply()*, *sapply()*, *vapply()*, *mapply()*, *rapply()*, and *tapply()* functions."
      ]
    },
    {
      "cell_type": "code",
      "metadata": {
        "id": "TGagci29Rfs0"
      },
      "source": [
        "data <- read.csv(\"/content/forestfires.csv\")"
      ],
      "execution_count": null,
      "outputs": []
    },
    {
      "cell_type": "code",
      "metadata": {
        "id": "VUVJl2PVmloS",
        "outputId": "d5f9eeb7-79c0-405c-eb3f-b3d3306d9cc1",
        "colab": {
          "base_uri": "https://localhost:8080/",
          "height": 195
        }
      },
      "source": [
        "head(data)"
      ],
      "execution_count": null,
      "outputs": [
        {
          "output_type": "display_data",
          "data": {
            "text/plain": [
              "  X Y month  day  FFMC DMC  DC    ISI  temp RH wind rain area\n",
              "1 7 5 mar    fri  86.2 26.2  94.3  5.1  8.2 51 6.7  0.0  0   \n",
              "2 7 4 oct    tue  90.6 35.4 669.1  6.7 18.0 33 0.9  0.0  0   \n",
              "3 7 4 oct    sat  90.6 43.7 686.9  6.7 14.6 33 1.3  0.0  0   \n",
              "4 8 6 mar    fri  91.7 33.3  77.5  9.0  8.3 97 4.0  0.2  0   \n",
              "5 8 6 mar    sun  89.3 51.3 102.2  9.6 11.4 99 1.8  0.0  0   \n",
              "6 8 6 aug    sun  92.3 85.3 488.0 14.7 22.2 29 5.4  0.0  0   "
            ],
            "text/latex": "A data.frame: 6 × 13\n\\begin{tabular}{r|lllllllllllll}\n  & X & Y & month & day & FFMC & DMC & DC & ISI & temp & RH & wind & rain & area\\\\\n  & <dbl> & <dbl> & <chr> & <chr> & <dbl> & <dbl> & <dbl> & <dbl> & <dbl> & <dbl> & <dbl> & <dbl> & <dbl>\\\\\n\\hline\n\t1 & 7 & 5 & mar    & fri  & 86.2 & 26.2 &  94.3 &  5.1 &  8.2 & 51 & 6.7 & 0.0 & 0\\\\\n\t2 & 7 & 4 & oct    & tue  & 90.6 & 35.4 & 669.1 &  6.7 & 18.0 & 33 & 0.9 & 0.0 & 0\\\\\n\t3 & 7 & 4 & oct    & sat  & 90.6 & 43.7 & 686.9 &  6.7 & 14.6 & 33 & 1.3 & 0.0 & 0\\\\\n\t4 & 8 & 6 & mar    & fri  & 91.7 & 33.3 &  77.5 &  9.0 &  8.3 & 97 & 4.0 & 0.2 & 0\\\\\n\t5 & 8 & 6 & mar    & sun  & 89.3 & 51.3 & 102.2 &  9.6 & 11.4 & 99 & 1.8 & 0.0 & 0\\\\\n\t6 & 8 & 6 & aug    & sun  & 92.3 & 85.3 & 488.0 & 14.7 & 22.2 & 29 & 5.4 & 0.0 & 0\\\\\n\\end{tabular}\n",
            "text/markdown": "\nA data.frame: 6 × 13\n\n| <!--/--> | X &lt;dbl&gt; | Y &lt;dbl&gt; | month &lt;chr&gt; | day &lt;chr&gt; | FFMC &lt;dbl&gt; | DMC &lt;dbl&gt; | DC &lt;dbl&gt; | ISI &lt;dbl&gt; | temp &lt;dbl&gt; | RH &lt;dbl&gt; | wind &lt;dbl&gt; | rain &lt;dbl&gt; | area &lt;dbl&gt; |\n|---|---|---|---|---|---|---|---|---|---|---|---|---|---|\n| 1 | 7 | 5 | mar    | fri  | 86.2 | 26.2 |  94.3 |  5.1 |  8.2 | 51 | 6.7 | 0.0 | 0 |\n| 2 | 7 | 4 | oct    | tue  | 90.6 | 35.4 | 669.1 |  6.7 | 18.0 | 33 | 0.9 | 0.0 | 0 |\n| 3 | 7 | 4 | oct    | sat  | 90.6 | 43.7 | 686.9 |  6.7 | 14.6 | 33 | 1.3 | 0.0 | 0 |\n| 4 | 8 | 6 | mar    | fri  | 91.7 | 33.3 |  77.5 |  9.0 |  8.3 | 97 | 4.0 | 0.2 | 0 |\n| 5 | 8 | 6 | mar    | sun  | 89.3 | 51.3 | 102.2 |  9.6 | 11.4 | 99 | 1.8 | 0.0 | 0 |\n| 6 | 8 | 6 | aug    | sun  | 92.3 | 85.3 | 488.0 | 14.7 | 22.2 | 29 | 5.4 | 0.0 | 0 |\n\n",
            "text/html": [
              "<table>\n",
              "<caption>A data.frame: 6 × 13</caption>\n",
              "<thead>\n",
              "\t<tr><th></th><th scope=col>X</th><th scope=col>Y</th><th scope=col>month</th><th scope=col>day</th><th scope=col>FFMC</th><th scope=col>DMC</th><th scope=col>DC</th><th scope=col>ISI</th><th scope=col>temp</th><th scope=col>RH</th><th scope=col>wind</th><th scope=col>rain</th><th scope=col>area</th></tr>\n",
              "\t<tr><th></th><th scope=col>&lt;dbl&gt;</th><th scope=col>&lt;dbl&gt;</th><th scope=col>&lt;chr&gt;</th><th scope=col>&lt;chr&gt;</th><th scope=col>&lt;dbl&gt;</th><th scope=col>&lt;dbl&gt;</th><th scope=col>&lt;dbl&gt;</th><th scope=col>&lt;dbl&gt;</th><th scope=col>&lt;dbl&gt;</th><th scope=col>&lt;dbl&gt;</th><th scope=col>&lt;dbl&gt;</th><th scope=col>&lt;dbl&gt;</th><th scope=col>&lt;dbl&gt;</th></tr>\n",
              "</thead>\n",
              "<tbody>\n",
              "\t<tr><th scope=row>1</th><td>7</td><td>5</td><td>mar   </td><td>fri </td><td>86.2</td><td>26.2</td><td> 94.3</td><td> 5.1</td><td> 8.2</td><td>51</td><td>6.7</td><td>0.0</td><td>0</td></tr>\n",
              "\t<tr><th scope=row>2</th><td>7</td><td>4</td><td>oct   </td><td>tue </td><td>90.6</td><td>35.4</td><td>669.1</td><td> 6.7</td><td>18.0</td><td>33</td><td>0.9</td><td>0.0</td><td>0</td></tr>\n",
              "\t<tr><th scope=row>3</th><td>7</td><td>4</td><td>oct   </td><td>sat </td><td>90.6</td><td>43.7</td><td>686.9</td><td> 6.7</td><td>14.6</td><td>33</td><td>1.3</td><td>0.0</td><td>0</td></tr>\n",
              "\t<tr><th scope=row>4</th><td>8</td><td>6</td><td>mar   </td><td>fri </td><td>91.7</td><td>33.3</td><td> 77.5</td><td> 9.0</td><td> 8.3</td><td>97</td><td>4.0</td><td>0.2</td><td>0</td></tr>\n",
              "\t<tr><th scope=row>5</th><td>8</td><td>6</td><td>mar   </td><td>sun </td><td>89.3</td><td>51.3</td><td>102.2</td><td> 9.6</td><td>11.4</td><td>99</td><td>1.8</td><td>0.0</td><td>0</td></tr>\n",
              "\t<tr><th scope=row>6</th><td>8</td><td>6</td><td>aug   </td><td>sun </td><td>92.3</td><td>85.3</td><td>488.0</td><td>14.7</td><td>22.2</td><td>29</td><td>5.4</td><td>0.0</td><td>0</td></tr>\n",
              "</tbody>\n",
              "</table>\n"
            ]
          },
          "metadata": {
            "tags": []
          }
        }
      ]
    },
    {
      "cell_type": "code",
      "metadata": {
        "id": "mdW1sLjnnJrE"
      },
      "source": [
        "X <- data.matrix(data)"
      ],
      "execution_count": null,
      "outputs": []
    },
    {
      "cell_type": "markdown",
      "metadata": {
        "id": "qLDBr0RTPxyk"
      },
      "source": [
        "## *apply()* function"
      ]
    },
    {
      "cell_type": "markdown",
      "metadata": {
        "id": "awNUIIG3le_U"
      },
      "source": [
        "*apply()* is the main function of this family. The structure that this function is the following: *apply(X, MARGIN, FUN, ...)*, where *X* is the array in which we are going to apply the function, *MARGIN* is an integer which can be 1 or 2, whether we are working with a row or a column, respectively and *FUN* is the function we are going to apply to *X*, it can be an R function or a function created by the user."
      ]
    },
    {
      "cell_type": "code",
      "metadata": {
        "id": "9nX5Shd1PvO0",
        "outputId": "d2737c00-360e-46bd-e67d-7dd53d5561ce",
        "colab": {
          "base_uri": "https://localhost:8080/",
          "height": 50
        }
      },
      "source": [
        "apply(X,2,sum)"
      ],
      "execution_count": null,
      "outputs": [
        {
          "output_type": "display_data",
          "data": {
            "text/plain": [
              "        X         Y     month       day      FFMC       DMC        DC       ISI \n",
              "  2414.00   2223.00   3494.00   1932.00  46863.30  57321.00 283285.00   4664.20 \n",
              "     temp        RH      wind      rain      area \n",
              "  9765.70  22897.00   2077.10     11.20   6642.05 "
            ],
            "text/latex": "\\begin{description*}\n\\item[X] 2414\n\\item[Y] 2223\n\\item[month] 3494\n\\item[day] 1932\n\\item[FFMC] 46863.3\n\\item[DMC] 57321\n\\item[DC] 283285\n\\item[ISI] 4664.2\n\\item[temp] 9765.7\n\\item[RH] 22897\n\\item[wind] 2077.1\n\\item[rain] 11.2\n\\item[area] 6642.05\n\\end{description*}\n",
            "text/markdown": "X\n:   2414Y\n:   2223month\n:   3494day\n:   1932FFMC\n:   46863.3DMC\n:   57321DC\n:   283285ISI\n:   4664.2temp\n:   9765.7RH\n:   22897wind\n:   2077.1rain\n:   11.2area\n:   6642.05\n\n",
            "text/html": [
              "<style>\n",
              ".dl-inline {width: auto; margin:0; padding: 0}\n",
              ".dl-inline>dt, .dl-inline>dd {float: none; width: auto; display: inline-block}\n",
              ".dl-inline>dt::after {content: \":\\0020\"; padding-right: .5ex}\n",
              ".dl-inline>dt:not(:first-of-type) {padding-left: .5ex}\n",
              "</style><dl class=dl-inline><dt>X</dt><dd>2414</dd><dt>Y</dt><dd>2223</dd><dt>month</dt><dd>3494</dd><dt>day</dt><dd>1932</dd><dt>FFMC</dt><dd>46863.3</dd><dt>DMC</dt><dd>57321</dd><dt>DC</dt><dd>283285</dd><dt>ISI</dt><dd>4664.2</dd><dt>temp</dt><dd>9765.7</dd><dt>RH</dt><dd>22897</dd><dt>wind</dt><dd>2077.1</dd><dt>rain</dt><dd>11.2</dd><dt>area</dt><dd>6642.05</dd></dl>\n"
            ]
          },
          "metadata": {
            "tags": []
          }
        }
      ]
    },
    {
      "cell_type": "markdown",
      "metadata": {
        "id": "vd_K-2CenYs2"
      },
      "source": [
        "In the case we create a function the way of applying the function would be the following:"
      ]
    },
    {
      "cell_type": "code",
      "metadata": {
        "id": "vTizM53ymxD2"
      },
      "source": [
        "fun <- function(x){\n",
        "  return (sum(x)/7)\n",
        "}"
      ],
      "execution_count": null,
      "outputs": []
    },
    {
      "cell_type": "code",
      "metadata": {
        "id": "UZBdiJCFoLhr",
        "outputId": "a02a1a8a-2963-4e09-f3bc-13fdecca447f",
        "colab": {
          "base_uri": "https://localhost:8080/",
          "height": 50
        }
      },
      "source": [
        "apply(X,2,fun)"
      ],
      "execution_count": null,
      "outputs": [
        {
          "output_type": "display_data",
          "data": {
            "text/plain": [
              "         X          Y      month        day       FFMC        DMC         DC \n",
              "  344.8571   317.5714   499.1429   276.0000  6694.7571  8188.7143 40469.2857 \n",
              "       ISI       temp         RH       wind       rain       area \n",
              "  666.3143  1395.1000  3271.0000   296.7286     1.6000   948.8643 "
            ],
            "text/latex": "\\begin{description*}\n\\item[X] 344.857142857143\n\\item[Y] 317.571428571429\n\\item[month] 499.142857142857\n\\item[day] 276\n\\item[FFMC] 6694.75714285714\n\\item[DMC] 8188.71428571429\n\\item[DC] 40469.2857142857\n\\item[ISI] 666.314285714286\n\\item[temp] 1395.1\n\\item[RH] 3271\n\\item[wind] 296.728571428571\n\\item[rain] 1.6\n\\item[area] 948.864285714286\n\\end{description*}\n",
            "text/markdown": "X\n:   344.857142857143Y\n:   317.571428571429month\n:   499.142857142857day\n:   276FFMC\n:   6694.75714285714DMC\n:   8188.71428571429DC\n:   40469.2857142857ISI\n:   666.314285714286temp\n:   1395.1RH\n:   3271wind\n:   296.728571428571rain\n:   1.6area\n:   948.864285714286\n\n",
            "text/html": [
              "<style>\n",
              ".dl-inline {width: auto; margin:0; padding: 0}\n",
              ".dl-inline>dt, .dl-inline>dd {float: none; width: auto; display: inline-block}\n",
              ".dl-inline>dt::after {content: \":\\0020\"; padding-right: .5ex}\n",
              ".dl-inline>dt:not(:first-of-type) {padding-left: .5ex}\n",
              "</style><dl class=dl-inline><dt>X</dt><dd>344.857142857143</dd><dt>Y</dt><dd>317.571428571429</dd><dt>month</dt><dd>499.142857142857</dd><dt>day</dt><dd>276</dd><dt>FFMC</dt><dd>6694.75714285714</dd><dt>DMC</dt><dd>8188.71428571429</dd><dt>DC</dt><dd>40469.2857142857</dd><dt>ISI</dt><dd>666.314285714286</dd><dt>temp</dt><dd>1395.1</dd><dt>RH</dt><dd>3271</dd><dt>wind</dt><dd>296.728571428571</dd><dt>rain</dt><dd>1.6</dd><dt>area</dt><dd>948.864285714286</dd></dl>\n"
            ]
          },
          "metadata": {
            "tags": []
          }
        }
      ]
    },
    {
      "cell_type": "markdown",
      "metadata": {
        "id": "Yyb6AKGjuHeD"
      },
      "source": [
        "## *lapply()* function"
      ]
    },
    {
      "cell_type": "markdown",
      "metadata": {
        "id": "vG6q8pkMvFw7"
      },
      "source": [
        "*lapply()* function is similar to *apply()* but it can be used for other objects like dataframes, lists or vectors and the output will be a list."
      ]
    },
    {
      "cell_type": "code",
      "metadata": {
        "id": "M9wA9CZtohWm"
      },
      "source": [
        "l1 <- list(data$FFMC,data$DMC,data$DC)"
      ],
      "execution_count": null,
      "outputs": []
    },
    {
      "cell_type": "code",
      "metadata": {
        "id": "GFw77I1ov05E",
        "outputId": "a89ce857-201c-4589-c982-23388e866b5f",
        "colab": {
          "base_uri": "https://localhost:8080/",
          "height": 95
        }
      },
      "source": [
        "lapply(l1,sum)"
      ],
      "execution_count": null,
      "outputs": [
        {
          "output_type": "display_data",
          "data": {
            "text/plain": [
              "[[1]]\n",
              "[1] 46863.3\n",
              "\n",
              "[[2]]\n",
              "[1] 57321\n",
              "\n",
              "[[3]]\n",
              "[1] 283285\n"
            ],
            "text/latex": "\\begin{enumerate}\n\\item 46863.3\n\\item 57321\n\\item 283285\n\\end{enumerate}\n",
            "text/markdown": "1. 46863.3\n2. 57321\n3. 283285\n\n\n",
            "text/html": [
              "<ol>\n",
              "\t<li>46863.3</li>\n",
              "\t<li>57321</li>\n",
              "\t<li>283285</li>\n",
              "</ol>\n"
            ]
          },
          "metadata": {
            "tags": []
          }
        }
      ]
    },
    {
      "cell_type": "markdown",
      "metadata": {
        "id": "JxnRjZukxnYh"
      },
      "source": [
        "In addition, if we have a list with more list in each element we can select just a part of that list with this function converting the elements selected into another list."
      ]
    },
    {
      "cell_type": "code",
      "metadata": {
        "id": "-j1tv1aIyjnq"
      },
      "source": [
        "l2 <- list(matrix(data$FFMC,data$DMC),matrix(data$DC,data$RH))"
      ],
      "execution_count": null,
      "outputs": []
    },
    {
      "cell_type": "code",
      "metadata": {
        "id": "CjUwi4Ynx6qY",
        "outputId": "c2968625-8dc2-40dc-9df4-93158e301239",
        "colab": {
          "base_uri": "https://localhost:8080/",
          "height": 112
        }
      },
      "source": [
        "lapply(l2,'[',,2)"
      ],
      "execution_count": null,
      "outputs": [
        {
          "output_type": "display_data",
          "data": {
            "text/plain": [
              "[[1]]\n",
              " [1] 92.4 90.9 93.4 93.5 94.3 88.6 88.6 91.7 91.8 90.3 90.6 90.0 90.6 88.1 79.5\n",
              "[16] 90.2 94.8 92.5 90.1 94.3 90.9 94.2 87.2 87.6 92.9 90.2\n",
              "\n",
              "[[2]]\n",
              " [1] 631.2 654.1 654.1 661.3 706.4 730.2 691.8  34.0  43.0 102.2 102.2 466.6\n",
              "[13] 631.2 638.8 661.3 668.0 668.0 668.0  77.5  97.8 692.3  77.5 614.5 713.9\n",
              "[25]  26.6  43.0 103.8 529.8 561.6 601.4 631.2 647.1 654.1 661.3 706.4 706.4\n",
              "[37] 706.4 728.6  80.8 624.2  80.8 488.0 601.4 638.8 704.4  30.2  15.5 601.4\n",
              "[49] 601.4 601.4 614.5\n"
            ],
            "text/latex": "\\begin{enumerate}\n\\item \\begin{enumerate*}\n\\item 92.4\n\\item 90.9\n\\item 93.4\n\\item 93.5\n\\item 94.3\n\\item 88.6\n\\item 88.6\n\\item 91.7\n\\item 91.8\n\\item 90.3\n\\item 90.6\n\\item 90\n\\item 90.6\n\\item 88.1\n\\item 79.5\n\\item 90.2\n\\item 94.8\n\\item 92.5\n\\item 90.1\n\\item 94.3\n\\item 90.9\n\\item 94.2\n\\item 87.2\n\\item 87.6\n\\item 92.9\n\\item 90.2\n\\end{enumerate*}\n\n\\item \\begin{enumerate*}\n\\item 631.2\n\\item 654.1\n\\item 654.1\n\\item 661.3\n\\item 706.4\n\\item 730.2\n\\item 691.8\n\\item 34\n\\item 43\n\\item 102.2\n\\item 102.2\n\\item 466.6\n\\item 631.2\n\\item 638.8\n\\item 661.3\n\\item 668\n\\item 668\n\\item 668\n\\item 77.5\n\\item 97.8\n\\item 692.3\n\\item 77.5\n\\item 614.5\n\\item 713.9\n\\item 26.6\n\\item 43\n\\item 103.8\n\\item 529.8\n\\item 561.6\n\\item 601.4\n\\item 631.2\n\\item 647.1\n\\item 654.1\n\\item 661.3\n\\item 706.4\n\\item 706.4\n\\item 706.4\n\\item 728.6\n\\item 80.8\n\\item 624.2\n\\item 80.8\n\\item 488\n\\item 601.4\n\\item 638.8\n\\item 704.4\n\\item 30.2\n\\item 15.5\n\\item 601.4\n\\item 601.4\n\\item 601.4\n\\item 614.5\n\\end{enumerate*}\n\n\\end{enumerate}\n",
            "text/markdown": "1. 1. 92.4\n2. 90.9\n3. 93.4\n4. 93.5\n5. 94.3\n6. 88.6\n7. 88.6\n8. 91.7\n9. 91.8\n10. 90.3\n11. 90.6\n12. 90\n13. 90.6\n14. 88.1\n15. 79.5\n16. 90.2\n17. 94.8\n18. 92.5\n19. 90.1\n20. 94.3\n21. 90.9\n22. 94.2\n23. 87.2\n24. 87.6\n25. 92.9\n26. 90.2\n\n\n\n2. 1. 631.2\n2. 654.1\n3. 654.1\n4. 661.3\n5. 706.4\n6. 730.2\n7. 691.8\n8. 34\n9. 43\n10. 102.2\n11. 102.2\n12. 466.6\n13. 631.2\n14. 638.8\n15. 661.3\n16. 668\n17. 668\n18. 668\n19. 77.5\n20. 97.8\n21. 692.3\n22. 77.5\n23. 614.5\n24. 713.9\n25. 26.6\n26. 43\n27. 103.8\n28. 529.8\n29. 561.6\n30. 601.4\n31. 631.2\n32. 647.1\n33. 654.1\n34. 661.3\n35. 706.4\n36. 706.4\n37. 706.4\n38. 728.6\n39. 80.8\n40. 624.2\n41. 80.8\n42. 488\n43. 601.4\n44. 638.8\n45. 704.4\n46. 30.2\n47. 15.5\n48. 601.4\n49. 601.4\n50. 601.4\n51. 614.5\n\n\n\n\n\n",
            "text/html": [
              "<ol>\n",
              "\t<li><style>\n",
              ".list-inline {list-style: none; margin:0; padding: 0}\n",
              ".list-inline>li {display: inline-block}\n",
              ".list-inline>li:not(:last-child)::after {content: \"\\00b7\"; padding: 0 .5ex}\n",
              "</style>\n",
              "<ol class=list-inline><li>92.4</li><li>90.9</li><li>93.4</li><li>93.5</li><li>94.3</li><li>88.6</li><li>88.6</li><li>91.7</li><li>91.8</li><li>90.3</li><li>90.6</li><li>90</li><li>90.6</li><li>88.1</li><li>79.5</li><li>90.2</li><li>94.8</li><li>92.5</li><li>90.1</li><li>94.3</li><li>90.9</li><li>94.2</li><li>87.2</li><li>87.6</li><li>92.9</li><li>90.2</li></ol>\n",
              "</li>\n",
              "\t<li><style>\n",
              ".list-inline {list-style: none; margin:0; padding: 0}\n",
              ".list-inline>li {display: inline-block}\n",
              ".list-inline>li:not(:last-child)::after {content: \"\\00b7\"; padding: 0 .5ex}\n",
              "</style>\n",
              "<ol class=list-inline><li>631.2</li><li>654.1</li><li>654.1</li><li>661.3</li><li>706.4</li><li>730.2</li><li>691.8</li><li>34</li><li>43</li><li>102.2</li><li>102.2</li><li>466.6</li><li>631.2</li><li>638.8</li><li>661.3</li><li>668</li><li>668</li><li>668</li><li>77.5</li><li>97.8</li><li>692.3</li><li>77.5</li><li>614.5</li><li>713.9</li><li>26.6</li><li>43</li><li>103.8</li><li>529.8</li><li>561.6</li><li>601.4</li><li>631.2</li><li>647.1</li><li>654.1</li><li>661.3</li><li>706.4</li><li>706.4</li><li>706.4</li><li>728.6</li><li>80.8</li><li>624.2</li><li>80.8</li><li>488</li><li>601.4</li><li>638.8</li><li>704.4</li><li>30.2</li><li>15.5</li><li>601.4</li><li>601.4</li><li>601.4</li><li>614.5</li></ol>\n",
              "</li>\n",
              "</ol>\n"
            ]
          },
          "metadata": {
            "tags": []
          }
        }
      ]
    },
    {
      "cell_type": "markdown",
      "metadata": {
        "id": "TeOzy3Wa2K3L"
      },
      "source": [
        "In the example above we extracted the 2nd column from **l2** with the selection operator `[` with *lapply()*."
      ]
    },
    {
      "cell_type": "markdown",
      "metadata": {
        "id": "uuRLDLam2gIL"
      },
      "source": [
        "## *sapply()* function"
      ]
    },
    {
      "cell_type": "markdown",
      "metadata": {
        "id": "S3uNpRFs3gj1"
      },
      "source": [
        "The *sapply()* function works like *lapply()*, but it tries to simplify the output to the most elementary data structure that is possible. Applying the lapply() function would give us a list unless you pass simplify=FALSE as a parameter to sapply()."
      ]
    },
    {
      "cell_type": "code",
      "metadata": {
        "id": "ga_wkQnA2r3v",
        "outputId": "a5438793-9fc3-4107-df39-7a243edb179d",
        "colab": {
          "base_uri": "https://localhost:8080/",
          "height": 34
        }
      },
      "source": [
        "s1 <- sapply(l2,'[',1,2)\n",
        "s1"
      ],
      "execution_count": null,
      "outputs": [
        {
          "output_type": "display_data",
          "data": {
            "text/plain": [
              "[1]  92.4 631.2"
            ],
            "text/latex": "\\begin{enumerate*}\n\\item 92.4\n\\item 631.2\n\\end{enumerate*}\n",
            "text/markdown": "1. 92.4\n2. 631.2\n\n\n",
            "text/html": [
              "<style>\n",
              ".list-inline {list-style: none; margin:0; padding: 0}\n",
              ".list-inline>li {display: inline-block}\n",
              ".list-inline>li:not(:last-child)::after {content: \"\\00b7\"; padding: 0 .5ex}\n",
              "</style>\n",
              "<ol class=list-inline><li>92.4</li><li>631.2</li></ol>\n"
            ]
          },
          "metadata": {
            "tags": []
          }
        }
      ]
    },
    {
      "cell_type": "code",
      "metadata": {
        "id": "N7STWj4r4hAr",
        "outputId": "284bd112-4113-449a-aab5-395b1913da17",
        "colab": {
          "base_uri": "https://localhost:8080/",
          "height": 34
        }
      },
      "source": [
        "is.vector(s1)"
      ],
      "execution_count": null,
      "outputs": [
        {
          "output_type": "display_data",
          "data": {
            "text/plain": [
              "[1] TRUE"
            ],
            "text/latex": "TRUE",
            "text/markdown": "TRUE",
            "text/html": [
              "TRUE"
            ]
          },
          "metadata": {
            "tags": []
          }
        }
      ]
    },
    {
      "cell_type": "code",
      "metadata": {
        "id": "YrZ2zyqu4sPB",
        "outputId": "4cddec6f-c0c2-4ed4-8b3e-658033a41316",
        "colab": {
          "base_uri": "https://localhost:8080/",
          "height": 34
        }
      },
      "source": [
        "is.list(s1)"
      ],
      "execution_count": null,
      "outputs": [
        {
          "output_type": "display_data",
          "data": {
            "text/plain": [
              "[1] FALSE"
            ],
            "text/latex": "FALSE",
            "text/markdown": "FALSE",
            "text/html": [
              "FALSE"
            ]
          },
          "metadata": {
            "tags": []
          }
        }
      ]
    },
    {
      "cell_type": "code",
      "metadata": {
        "id": "kfl--jSl4N3k",
        "outputId": "1f22dd94-2ea8-413c-b2d2-5877d804e3f5",
        "colab": {
          "base_uri": "https://localhost:8080/",
          "height": 78
        }
      },
      "source": [
        "s2<-sapply(l2,'[',1,2, simplify = F)\n",
        "s2"
      ],
      "execution_count": null,
      "outputs": [
        {
          "output_type": "display_data",
          "data": {
            "text/plain": [
              "[[1]]\n",
              "[1] 92.4\n",
              "\n",
              "[[2]]\n",
              "[1] 631.2\n"
            ],
            "text/latex": "\\begin{enumerate}\n\\item 92.4\n\\item 631.2\n\\end{enumerate}\n",
            "text/markdown": "1. 92.4\n2. 631.2\n\n\n",
            "text/html": [
              "<ol>\n",
              "\t<li>92.4</li>\n",
              "\t<li>631.2</li>\n",
              "</ol>\n"
            ]
          },
          "metadata": {
            "tags": []
          }
        }
      ]
    },
    {
      "cell_type": "code",
      "metadata": {
        "id": "oCENVy464qkD",
        "outputId": "627dbdf0-f55c-4478-b9bc-c0cc0acac25f",
        "colab": {
          "base_uri": "https://localhost:8080/",
          "height": 34
        }
      },
      "source": [
        "is.list(s2)"
      ],
      "execution_count": null,
      "outputs": [
        {
          "output_type": "display_data",
          "data": {
            "text/plain": [
              "[1] TRUE"
            ],
            "text/latex": "TRUE",
            "text/markdown": "TRUE",
            "text/html": [
              "TRUE"
            ]
          },
          "metadata": {
            "tags": []
          }
        }
      ]
    },
    {
      "cell_type": "markdown",
      "metadata": {
        "id": "VjyTV-M852tv"
      },
      "source": [
        "In this example we can see that in the case we don't simplify the result obtained using *sapply()* the result is the same of doing the operation with *lapply()*. But, if we don't simplify we just get a vector, which is the elementary data structure. In fact, we can also obtain a vector with *lapply* if we *unlist* the list obtained by this function."
      ]
    },
    {
      "cell_type": "markdown",
      "metadata": {
        "id": "boWrzZJL7jIl"
      },
      "source": [
        "## *rep()* function\n",
        "\n",
        "\n",
        "\n"
      ]
    },
    {
      "cell_type": "markdown",
      "metadata": {
        "id": "ydgXXcBX7oR6"
      },
      "source": [
        "The *rep()* is not a function of the *apply()* family but it is regularly used with them. When you apply it to a vector or a factor x, the function replicates its values a specified number of times."
      ]
    },
    {
      "cell_type": "code",
      "metadata": {
        "id": "riBrfUxG7nwS",
        "outputId": "bb9fcf00-fa33-4a58-bc99-57e25fd13b5d",
        "colab": {
          "base_uri": "https://localhost:8080/",
          "height": 50
        }
      },
      "source": [
        "s1 <- sapply(l2,'[',1,2)\n",
        "\n",
        "s1\n",
        "\n",
        "s1 <- rep(s1,c(3,2))\n",
        "\n",
        "s1"
      ],
      "execution_count": null,
      "outputs": [
        {
          "output_type": "display_data",
          "data": {
            "text/plain": [
              "[1]  92.4 631.2"
            ],
            "text/latex": "\\begin{enumerate*}\n\\item 92.4\n\\item 631.2\n\\end{enumerate*}\n",
            "text/markdown": "1. 92.4\n2. 631.2\n\n\n",
            "text/html": [
              "<style>\n",
              ".list-inline {list-style: none; margin:0; padding: 0}\n",
              ".list-inline>li {display: inline-block}\n",
              ".list-inline>li:not(:last-child)::after {content: \"\\00b7\"; padding: 0 .5ex}\n",
              "</style>\n",
              "<ol class=list-inline><li>92.4</li><li>631.2</li></ol>\n"
            ]
          },
          "metadata": {
            "tags": []
          }
        },
        {
          "output_type": "display_data",
          "data": {
            "text/plain": [
              "[1]  92.4  92.4  92.4 631.2 631.2"
            ],
            "text/latex": "\\begin{enumerate*}\n\\item 92.4\n\\item 92.4\n\\item 92.4\n\\item 631.2\n\\item 631.2\n\\end{enumerate*}\n",
            "text/markdown": "1. 92.4\n2. 92.4\n3. 92.4\n4. 631.2\n5. 631.2\n\n\n",
            "text/html": [
              "<style>\n",
              ".list-inline {list-style: none; margin:0; padding: 0}\n",
              ".list-inline>li {display: inline-block}\n",
              ".list-inline>li:not(:last-child)::after {content: \"\\00b7\"; padding: 0 .5ex}\n",
              "</style>\n",
              "<ol class=list-inline><li>92.4</li><li>92.4</li><li>92.4</li><li>631.2</li><li>631.2</li></ol>\n"
            ]
          },
          "metadata": {
            "tags": []
          }
        }
      ]
    },
    {
      "cell_type": "markdown",
      "metadata": {
        "id": "PYg_zWa58v1-"
      },
      "source": [
        "So, in this example we have replicated the first element three times and the second element two times."
      ]
    },
    {
      "cell_type": "markdown",
      "metadata": {
        "id": "97tOXCepflSv"
      },
      "source": [
        "## *mapply()* function"
      ]
    },
    {
      "cell_type": "markdown",
      "metadata": {
        "id": "l0V8T6KEfwd2"
      },
      "source": [
        "The *mapply()* function stands for ‘multivariate’ apply. Its purpose is to be able to vectorize arguments to a function that is not usually accepting vectors as arguments.\n",
        "\n",
        "In short, *mapply()* applies a Function to Multiple List or multiple Vector Arguments."
      ]
    },
    {
      "cell_type": "code",
      "metadata": {
        "id": "J8ArKhkUfvJI",
        "outputId": "ea66ad5c-e1d2-4d86-ae7b-e3a2b6f97f97",
        "colab": {
          "base_uri": "https://localhost:8080/",
          "height": 175
        }
      },
      "source": [
        "# we could do this\n",
        "m1 <- matrix(c(rep(1,5),rep(2,5),rep(3,5),rep(4,5),rep(5,5)),5,5)\n",
        "\n",
        "# but instead, we do this\n",
        "m1 <- mapply(rep,1:5,5)\n",
        "m1"
      ],
      "execution_count": null,
      "outputs": [
        {
          "output_type": "display_data",
          "data": {
            "text/plain": [
              "     [,1] [,2] [,3] [,4] [,5]\n",
              "[1,] 1    2    3    4    5   \n",
              "[2,] 1    2    3    4    5   \n",
              "[3,] 1    2    3    4    5   \n",
              "[4,] 1    2    3    4    5   \n",
              "[5,] 1    2    3    4    5   "
            ],
            "text/latex": "A matrix: 5 × 5 of type int\n\\begin{tabular}{lllll}\n\t 1 & 2 & 3 & 4 & 5\\\\\n\t 1 & 2 & 3 & 4 & 5\\\\\n\t 1 & 2 & 3 & 4 & 5\\\\\n\t 1 & 2 & 3 & 4 & 5\\\\\n\t 1 & 2 & 3 & 4 & 5\\\\\n\\end{tabular}\n",
            "text/markdown": "\nA matrix: 5 × 5 of type int\n\n| 1 | 2 | 3 | 4 | 5 |\n| 1 | 2 | 3 | 4 | 5 |\n| 1 | 2 | 3 | 4 | 5 |\n| 1 | 2 | 3 | 4 | 5 |\n| 1 | 2 | 3 | 4 | 5 |\n\n",
            "text/html": [
              "<table>\n",
              "<caption>A matrix: 5 × 5 of type int</caption>\n",
              "<tbody>\n",
              "\t<tr><td>1</td><td>2</td><td>3</td><td>4</td><td>5</td></tr>\n",
              "\t<tr><td>1</td><td>2</td><td>3</td><td>4</td><td>5</td></tr>\n",
              "\t<tr><td>1</td><td>2</td><td>3</td><td>4</td><td>5</td></tr>\n",
              "\t<tr><td>1</td><td>2</td><td>3</td><td>4</td><td>5</td></tr>\n",
              "\t<tr><td>1</td><td>2</td><td>3</td><td>4</td><td>5</td></tr>\n",
              "</tbody>\n",
              "</table>\n"
            ]
          },
          "metadata": {
            "tags": []
          }
        }
      ]
    },
    {
      "cell_type": "markdown",
      "metadata": {
        "id": "74N_etbhiWJU"
      },
      "source": [
        "As you can probably tell, this is a way shorter way of achieving the same thing and without using loops."
      ]
    },
    {
      "cell_type": "markdown",
      "metadata": {
        "id": "X8HgRjcsj58Y"
      },
      "source": [
        "## Functions Related To *apply()*"
      ]
    },
    {
      "cell_type": "markdown",
      "metadata": {
        "id": "kslEx9X1kEf9"
      },
      "source": [
        "### *sweep()* function"
      ]
    },
    {
      "cell_type": "markdown",
      "metadata": {
        "id": "qWXi3BQfkMOw"
      },
      "source": [
        "The *sweep()* function is probably the closest to the *apply()* family. You use it when you want to replicate different actions on the MARGIN elements that you have chosen (limiting here to the matrix case)."
      ]
    },
    {
      "cell_type": "markdown",
      "metadata": {
        "id": "Plz1LRYvlhU1"
      },
      "source": [
        "An example use for sweep would be manipulating a large or relatively large matrix column by column or row by row."
      ]
    },
    {
      "cell_type": "code",
      "metadata": {
        "id": "9xYblHxqj7kQ",
        "outputId": "5490abea-d458-4a17-f554-7fa9f20cebc7",
        "colab": {
          "base_uri": "https://localhost:8080/",
          "height": 202
        }
      },
      "source": [
        "# for example\n",
        "test_data <- head(data)\n",
        "ffmc_dmc_dc <- data %>% select(FFMC:DC)\n",
        "\n",
        "# summing 10 to FFMC, 20 to DMC and 30 to DC\n",
        "ffmc_dmc_dc <- sweep(ffmc_dmc_dc, MARGIN=2, c(10,20,30), \"+\")\n",
        "head(ffmc_dmc_dc)"
      ],
      "execution_count": null,
      "outputs": [
        {
          "output_type": "display_data",
          "data": {
            "text/plain": [
              "  FFMC  DMC   DC   \n",
              "1  96.2  46.2 124.3\n",
              "2 100.6  55.4 699.1\n",
              "3 100.6  63.7 716.9\n",
              "4 101.7  53.3 107.5\n",
              "5  99.3  71.3 132.2\n",
              "6 102.3 105.3 518.0"
            ],
            "text/latex": "A data.frame: 6 × 3\n\\begin{tabular}{r|lll}\n  & FFMC & DMC & DC\\\\\n  & <dbl> & <dbl> & <dbl>\\\\\n\\hline\n\t1 &  96.2 &  46.2 & 124.3\\\\\n\t2 & 100.6 &  55.4 & 699.1\\\\\n\t3 & 100.6 &  63.7 & 716.9\\\\\n\t4 & 101.7 &  53.3 & 107.5\\\\\n\t5 &  99.3 &  71.3 & 132.2\\\\\n\t6 & 102.3 & 105.3 & 518.0\\\\\n\\end{tabular}\n",
            "text/markdown": "\nA data.frame: 6 × 3\n\n| <!--/--> | FFMC &lt;dbl&gt; | DMC &lt;dbl&gt; | DC &lt;dbl&gt; |\n|---|---|---|---|\n| 1 |  96.2 |  46.2 | 124.3 |\n| 2 | 100.6 |  55.4 | 699.1 |\n| 3 | 100.6 |  63.7 | 716.9 |\n| 4 | 101.7 |  53.3 | 107.5 |\n| 5 |  99.3 |  71.3 | 132.2 |\n| 6 | 102.3 | 105.3 | 518.0 |\n\n",
            "text/html": [
              "<table>\n",
              "<caption>A data.frame: 6 × 3</caption>\n",
              "<thead>\n",
              "\t<tr><th></th><th scope=col>FFMC</th><th scope=col>DMC</th><th scope=col>DC</th></tr>\n",
              "\t<tr><th></th><th scope=col>&lt;dbl&gt;</th><th scope=col>&lt;dbl&gt;</th><th scope=col>&lt;dbl&gt;</th></tr>\n",
              "</thead>\n",
              "<tbody>\n",
              "\t<tr><th scope=row>1</th><td> 96.2</td><td> 46.2</td><td>124.3</td></tr>\n",
              "\t<tr><th scope=row>2</th><td>100.6</td><td> 55.4</td><td>699.1</td></tr>\n",
              "\t<tr><th scope=row>3</th><td>100.6</td><td> 63.7</td><td>716.9</td></tr>\n",
              "\t<tr><th scope=row>4</th><td>101.7</td><td> 53.3</td><td>107.5</td></tr>\n",
              "\t<tr><th scope=row>5</th><td> 99.3</td><td> 71.3</td><td>132.2</td></tr>\n",
              "\t<tr><th scope=row>6</th><td>102.3</td><td>105.3</td><td>518.0</td></tr>\n",
              "</tbody>\n",
              "</table>\n"
            ]
          },
          "metadata": {
            "tags": []
          }
        }
      ]
    },
    {
      "cell_type": "markdown",
      "metadata": {
        "id": "Yw8ZRWlUqnT7"
      },
      "source": [
        "Alternatively, we can use sweep to normalize data (for example) using the parameter STATS, were we subtract the mean of each entry in each column and divide each entry in each column by the standard deviation of each column. "
      ]
    },
    {
      "cell_type": "code",
      "metadata": {
        "id": "VwPKVCoglp6j",
        "outputId": "1ddb07d7-2535-4e3c-e6c4-73f6e1c5d481",
        "colab": {
          "base_uri": "https://localhost:8080/",
          "height": 202
        }
      },
      "source": [
        "# get mean and std\n",
        "test_data <- head(data)\n",
        "ffmc_dmc_dc <- data %>% select(FFMC:DC)\n",
        "\n",
        "means <- apply(ffmc_dmc_dc, 2, mean)\n",
        "stds <- apply(ffmc_dmc_dc, 2, sd) \n",
        "\n",
        "# sweep through cols with mean and then std\n",
        "norm_data <- sweep(sweep(ffmc_dmc_dc, 2, means, '-'), 2, stds, '/')\n",
        "head(norm_data)"
      ],
      "execution_count": null,
      "outputs": [
        {
          "output_type": "display_data",
          "data": {
            "text/plain": [
              "  FFMC         DMC        DC        \n",
              "1 -0.805179637 -1.3220451 -1.8287056\n",
              "2 -0.008094195 -1.1783995  0.4884179\n",
              "3 -0.008094195 -1.0488061  0.5601729\n",
              "4  0.191177166 -1.2111882 -1.8964295\n",
              "5 -0.243596712 -0.9301423 -1.7968593\n",
              "6  0.299870636 -0.3992778 -0.2416292"
            ],
            "text/latex": "A data.frame: 6 × 3\n\\begin{tabular}{r|lll}\n  & FFMC & DMC & DC\\\\\n  & <dbl> & <dbl> & <dbl>\\\\\n\\hline\n\t1 & -0.805179637 & -1.3220451 & -1.8287056\\\\\n\t2 & -0.008094195 & -1.1783995 &  0.4884179\\\\\n\t3 & -0.008094195 & -1.0488061 &  0.5601729\\\\\n\t4 &  0.191177166 & -1.2111882 & -1.8964295\\\\\n\t5 & -0.243596712 & -0.9301423 & -1.7968593\\\\\n\t6 &  0.299870636 & -0.3992778 & -0.2416292\\\\\n\\end{tabular}\n",
            "text/markdown": "\nA data.frame: 6 × 3\n\n| <!--/--> | FFMC &lt;dbl&gt; | DMC &lt;dbl&gt; | DC &lt;dbl&gt; |\n|---|---|---|---|\n| 1 | -0.805179637 | -1.3220451 | -1.8287056 |\n| 2 | -0.008094195 | -1.1783995 |  0.4884179 |\n| 3 | -0.008094195 | -1.0488061 |  0.5601729 |\n| 4 |  0.191177166 | -1.2111882 | -1.8964295 |\n| 5 | -0.243596712 | -0.9301423 | -1.7968593 |\n| 6 |  0.299870636 | -0.3992778 | -0.2416292 |\n\n",
            "text/html": [
              "<table>\n",
              "<caption>A data.frame: 6 × 3</caption>\n",
              "<thead>\n",
              "\t<tr><th></th><th scope=col>FFMC</th><th scope=col>DMC</th><th scope=col>DC</th></tr>\n",
              "\t<tr><th></th><th scope=col>&lt;dbl&gt;</th><th scope=col>&lt;dbl&gt;</th><th scope=col>&lt;dbl&gt;</th></tr>\n",
              "</thead>\n",
              "<tbody>\n",
              "\t<tr><th scope=row>1</th><td>-0.805179637</td><td>-1.3220451</td><td>-1.8287056</td></tr>\n",
              "\t<tr><th scope=row>2</th><td>-0.008094195</td><td>-1.1783995</td><td> 0.4884179</td></tr>\n",
              "\t<tr><th scope=row>3</th><td>-0.008094195</td><td>-1.0488061</td><td> 0.5601729</td></tr>\n",
              "\t<tr><th scope=row>4</th><td> 0.191177166</td><td>-1.2111882</td><td>-1.8964295</td></tr>\n",
              "\t<tr><th scope=row>5</th><td>-0.243596712</td><td>-0.9301423</td><td>-1.7968593</td></tr>\n",
              "\t<tr><th scope=row>6</th><td> 0.299870636</td><td>-0.3992778</td><td>-0.2416292</td></tr>\n",
              "</tbody>\n",
              "</table>\n"
            ]
          },
          "metadata": {
            "tags": []
          }
        }
      ]
    },
    {
      "cell_type": "markdown",
      "metadata": {
        "id": "pthtIKxUri8i"
      },
      "source": [
        "Note that the computations were performed column-wise because the parameter MARGIN=2 was used."
      ]
    },
    {
      "cell_type": "markdown",
      "metadata": {
        "id": "_Tp06bZ3ru7x"
      },
      "source": [
        "### *aggregate()* function"
      ]
    },
    {
      "cell_type": "markdown",
      "metadata": {
        "id": "b4EGdeIztmc9"
      },
      "source": [
        "This function is contained in the stats package, and you use it like this: *aggregate(x, by, FUN, ..., simplify = TRUE)*.\n",
        "\n",
        "It works similarly to the *apply()* function: you specify the object, the function and you say whether you want to simplify, just like with the *sapply()* function. The critical difference is the use of the by clause, which sets the variable or dataframe field by which we want to perform the aggregation."
      ]
    },
    {
      "cell_type": "code",
      "metadata": {
        "id": "Tq8dG2-Ruae8",
        "outputId": "d91eb85c-522f-4342-92ad-73db68a7442e",
        "colab": {
          "base_uri": "https://localhost:8080/",
          "height": 326
        }
      },
      "source": [
        "# cols to aggregate\n",
        "aggregate(data %>% select(FFMC,DMC,DC), by=list(month = data$month), FUN=mean)"
      ],
      "execution_count": null,
      "outputs": [
        {
          "output_type": "display_data",
          "data": {
            "text/plain": [
              "   month  FFMC     DMC       DC       \n",
              "1  apr    85.78889  15.91111  48.55556\n",
              "2  aug    92.33696 153.73261 641.07772\n",
              "3  dec    84.96667  26.12222 351.24444\n",
              "4  feb    82.90500   9.47500  54.67000\n",
              "5  jan    50.40000   2.40000  90.35000\n",
              "6  jul    91.32812 110.38750 450.60312\n",
              "7  jun    89.42941  93.38235 297.70588\n",
              "8  mar    89.44444  34.54259  75.94259\n",
              "9  may    87.35000  26.70000  93.75000\n",
              "10 nov    79.50000   3.00000 106.70000\n",
              "11 oct    90.45333  41.42000 681.67333\n",
              "12 sep    91.24302 120.92267 734.61570"
            ],
            "text/latex": "A data.frame: 12 × 4\n\\begin{tabular}{llll}\n month & FFMC & DMC & DC\\\\\n <chr> & <dbl> & <dbl> & <dbl>\\\\\n\\hline\n\t apr    & 85.78889 &  15.91111 &  48.55556\\\\\n\t aug    & 92.33696 & 153.73261 & 641.07772\\\\\n\t dec    & 84.96667 &  26.12222 & 351.24444\\\\\n\t feb    & 82.90500 &   9.47500 &  54.67000\\\\\n\t jan    & 50.40000 &   2.40000 &  90.35000\\\\\n\t jul    & 91.32812 & 110.38750 & 450.60312\\\\\n\t jun    & 89.42941 &  93.38235 & 297.70588\\\\\n\t mar    & 89.44444 &  34.54259 &  75.94259\\\\\n\t may    & 87.35000 &  26.70000 &  93.75000\\\\\n\t nov    & 79.50000 &   3.00000 & 106.70000\\\\\n\t oct    & 90.45333 &  41.42000 & 681.67333\\\\\n\t sep    & 91.24302 & 120.92267 & 734.61570\\\\\n\\end{tabular}\n",
            "text/markdown": "\nA data.frame: 12 × 4\n\n| month &lt;chr&gt; | FFMC &lt;dbl&gt; | DMC &lt;dbl&gt; | DC &lt;dbl&gt; |\n|---|---|---|---|\n| apr    | 85.78889 |  15.91111 |  48.55556 |\n| aug    | 92.33696 | 153.73261 | 641.07772 |\n| dec    | 84.96667 |  26.12222 | 351.24444 |\n| feb    | 82.90500 |   9.47500 |  54.67000 |\n| jan    | 50.40000 |   2.40000 |  90.35000 |\n| jul    | 91.32812 | 110.38750 | 450.60312 |\n| jun    | 89.42941 |  93.38235 | 297.70588 |\n| mar    | 89.44444 |  34.54259 |  75.94259 |\n| may    | 87.35000 |  26.70000 |  93.75000 |\n| nov    | 79.50000 |   3.00000 | 106.70000 |\n| oct    | 90.45333 |  41.42000 | 681.67333 |\n| sep    | 91.24302 | 120.92267 | 734.61570 |\n\n",
            "text/html": [
              "<table>\n",
              "<caption>A data.frame: 12 × 4</caption>\n",
              "<thead>\n",
              "\t<tr><th scope=col>month</th><th scope=col>FFMC</th><th scope=col>DMC</th><th scope=col>DC</th></tr>\n",
              "\t<tr><th scope=col>&lt;chr&gt;</th><th scope=col>&lt;dbl&gt;</th><th scope=col>&lt;dbl&gt;</th><th scope=col>&lt;dbl&gt;</th></tr>\n",
              "</thead>\n",
              "<tbody>\n",
              "\t<tr><td>apr   </td><td>85.78889</td><td> 15.91111</td><td> 48.55556</td></tr>\n",
              "\t<tr><td>aug   </td><td>92.33696</td><td>153.73261</td><td>641.07772</td></tr>\n",
              "\t<tr><td>dec   </td><td>84.96667</td><td> 26.12222</td><td>351.24444</td></tr>\n",
              "\t<tr><td>feb   </td><td>82.90500</td><td>  9.47500</td><td> 54.67000</td></tr>\n",
              "\t<tr><td>jan   </td><td>50.40000</td><td>  2.40000</td><td> 90.35000</td></tr>\n",
              "\t<tr><td>jul   </td><td>91.32812</td><td>110.38750</td><td>450.60312</td></tr>\n",
              "\t<tr><td>jun   </td><td>89.42941</td><td> 93.38235</td><td>297.70588</td></tr>\n",
              "\t<tr><td>mar   </td><td>89.44444</td><td> 34.54259</td><td> 75.94259</td></tr>\n",
              "\t<tr><td>may   </td><td>87.35000</td><td> 26.70000</td><td> 93.75000</td></tr>\n",
              "\t<tr><td>nov   </td><td>79.50000</td><td>  3.00000</td><td>106.70000</td></tr>\n",
              "\t<tr><td>oct   </td><td>90.45333</td><td> 41.42000</td><td>681.67333</td></tr>\n",
              "\t<tr><td>sep   </td><td>91.24302</td><td>120.92267</td><td>734.61570</td></tr>\n",
              "</tbody>\n",
              "</table>\n"
            ]
          },
          "metadata": {
            "tags": []
          }
        }
      ]
    },
    {
      "cell_type": "markdown",
      "metadata": {
        "id": "3aurG-vMvPpm"
      },
      "source": [
        "In this previous example we did an aggregation by month using mean as the aggregation function, this works similarly to using group_by() and then summarize(), however, the way we did it here shows a shorter way of doing so."
      ]
    },
    {
      "cell_type": "markdown",
      "metadata": {
        "id": "JixF5vJxvg4Y"
      },
      "source": [
        "We can perform a similar aggregation by perhaps selecting only fridays of each month.\n"
      ]
    },
    {
      "cell_type": "code",
      "metadata": {
        "id": "PQ7UbRsSujR6",
        "outputId": "281b630c-f70c-47f2-9398-7189d61f9e27",
        "colab": {
          "base_uri": "https://localhost:8080/",
          "height": 285
        }
      },
      "source": [
        "# doing the same aggregation by using a filtering by day\n",
        "data <- data %>% filter(day == \"fri \")\n",
        "aggregate(data %>% select(FFMC,DMC,DC), \n",
        "            by=list(month = data$month), FUN=mean)"
      ],
      "execution_count": null,
      "outputs": [
        {
          "output_type": "display_data",
          "data": {
            "text/plain": [
              "   month  FFMC     DMC       DC       \n",
              "1  apr    83.00000  23.30000  85.30000\n",
              "2  aug    91.06667 161.41905 665.20000\n",
              "3  dec    84.70000  26.70000 352.60000\n",
              "4  feb    85.42000   8.36000  39.64000\n",
              "5  jul    90.20000 110.46667 381.50000\n",
              "6  jun    91.56667  81.53333 299.16667\n",
              "7  mar    90.00909  34.46364  81.19091\n",
              "8  may    89.60000  25.40000  73.70000\n",
              "9  oct    90.00000  41.50000 682.60000\n",
              "10 sep    92.18421 125.61316 738.88947"
            ],
            "text/latex": "A data.frame: 10 × 4\n\\begin{tabular}{llll}\n month & FFMC & DMC & DC\\\\\n <chr> & <dbl> & <dbl> & <dbl>\\\\\n\\hline\n\t apr    & 83.00000 &  23.30000 &  85.30000\\\\\n\t aug    & 91.06667 & 161.41905 & 665.20000\\\\\n\t dec    & 84.70000 &  26.70000 & 352.60000\\\\\n\t feb    & 85.42000 &   8.36000 &  39.64000\\\\\n\t jul    & 90.20000 & 110.46667 & 381.50000\\\\\n\t jun    & 91.56667 &  81.53333 & 299.16667\\\\\n\t mar    & 90.00909 &  34.46364 &  81.19091\\\\\n\t may    & 89.60000 &  25.40000 &  73.70000\\\\\n\t oct    & 90.00000 &  41.50000 & 682.60000\\\\\n\t sep    & 92.18421 & 125.61316 & 738.88947\\\\\n\\end{tabular}\n",
            "text/markdown": "\nA data.frame: 10 × 4\n\n| month &lt;chr&gt; | FFMC &lt;dbl&gt; | DMC &lt;dbl&gt; | DC &lt;dbl&gt; |\n|---|---|---|---|\n| apr    | 83.00000 |  23.30000 |  85.30000 |\n| aug    | 91.06667 | 161.41905 | 665.20000 |\n| dec    | 84.70000 |  26.70000 | 352.60000 |\n| feb    | 85.42000 |   8.36000 |  39.64000 |\n| jul    | 90.20000 | 110.46667 | 381.50000 |\n| jun    | 91.56667 |  81.53333 | 299.16667 |\n| mar    | 90.00909 |  34.46364 |  81.19091 |\n| may    | 89.60000 |  25.40000 |  73.70000 |\n| oct    | 90.00000 |  41.50000 | 682.60000 |\n| sep    | 92.18421 | 125.61316 | 738.88947 |\n\n",
            "text/html": [
              "<table>\n",
              "<caption>A data.frame: 10 × 4</caption>\n",
              "<thead>\n",
              "\t<tr><th scope=col>month</th><th scope=col>FFMC</th><th scope=col>DMC</th><th scope=col>DC</th></tr>\n",
              "\t<tr><th scope=col>&lt;chr&gt;</th><th scope=col>&lt;dbl&gt;</th><th scope=col>&lt;dbl&gt;</th><th scope=col>&lt;dbl&gt;</th></tr>\n",
              "</thead>\n",
              "<tbody>\n",
              "\t<tr><td>apr   </td><td>83.00000</td><td> 23.30000</td><td> 85.30000</td></tr>\n",
              "\t<tr><td>aug   </td><td>91.06667</td><td>161.41905</td><td>665.20000</td></tr>\n",
              "\t<tr><td>dec   </td><td>84.70000</td><td> 26.70000</td><td>352.60000</td></tr>\n",
              "\t<tr><td>feb   </td><td>85.42000</td><td>  8.36000</td><td> 39.64000</td></tr>\n",
              "\t<tr><td>jul   </td><td>90.20000</td><td>110.46667</td><td>381.50000</td></tr>\n",
              "\t<tr><td>jun   </td><td>91.56667</td><td> 81.53333</td><td>299.16667</td></tr>\n",
              "\t<tr><td>mar   </td><td>90.00909</td><td> 34.46364</td><td> 81.19091</td></tr>\n",
              "\t<tr><td>may   </td><td>89.60000</td><td> 25.40000</td><td> 73.70000</td></tr>\n",
              "\t<tr><td>oct   </td><td>90.00000</td><td> 41.50000</td><td>682.60000</td></tr>\n",
              "\t<tr><td>sep   </td><td>92.18421</td><td>125.61316</td><td>738.88947</td></tr>\n",
              "</tbody>\n",
              "</table>\n"
            ]
          },
          "metadata": {
            "tags": []
          }
        }
      ]
    }
  ]
}