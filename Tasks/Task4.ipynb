{
  "nbformat": 4,
  "nbformat_minor": 0,
  "metadata": {
    "colab": {
      "name": "Task4.ipynb",
      "provenance": [],
      "collapsed_sections": []
    },
    "kernelspec": {
      "name": "ir",
      "display_name": "R"
    }
  },
  "cells": [
    {
      "cell_type": "markdown",
      "metadata": {
        "id": "2v_k2Hz4ZepE"
      },
      "source": [
        "# Task 4: exercises 1\n",
        "### Daniel Alonso & Ander Iturburu\n"
      ]
    },
    {
      "cell_type": "markdown",
      "metadata": {
        "id": "cw-xh3A0Zrpy"
      },
      "source": [
        "## Exercise 1"
      ]
    },
    {
      "cell_type": "markdown",
      "metadata": {
        "id": "9LVchUO0ZvO4"
      },
      "source": [
        "(a) $[1,2,\\dots,38]$"
      ]
    },
    {
      "cell_type": "code",
      "metadata": {
        "id": "SysNKadsWfie",
        "outputId": "75d32100-e312-4c16-fa93-aa69c91a5ead",
        "colab": {
          "base_uri": "https://localhost:8080/",
          "height": 34
        }
      },
      "source": [
        "x <- 1:38\n",
        "x"
      ],
      "execution_count": null,
      "outputs": [
        {
          "output_type": "display_data",
          "data": {
            "text/plain": [
              " [1]  1  2  3  4  5  6  7  8  9 10 11 12 13 14 15 16 17 18 19 20 21 22 23 24 25\n",
              "[26] 26 27 28 29 30 31 32 33 34 35 36 37 38"
            ],
            "text/latex": "\\begin{enumerate*}\n\\item 1\n\\item 2\n\\item 3\n\\item 4\n\\item 5\n\\item 6\n\\item 7\n\\item 8\n\\item 9\n\\item 10\n\\item 11\n\\item 12\n\\item 13\n\\item 14\n\\item 15\n\\item 16\n\\item 17\n\\item 18\n\\item 19\n\\item 20\n\\item 21\n\\item 22\n\\item 23\n\\item 24\n\\item 25\n\\item 26\n\\item 27\n\\item 28\n\\item 29\n\\item 30\n\\item 31\n\\item 32\n\\item 33\n\\item 34\n\\item 35\n\\item 36\n\\item 37\n\\item 38\n\\end{enumerate*}\n",
            "text/markdown": "1. 1\n2. 2\n3. 3\n4. 4\n5. 5\n6. 6\n7. 7\n8. 8\n9. 9\n10. 10\n11. 11\n12. 12\n13. 13\n14. 14\n15. 15\n16. 16\n17. 17\n18. 18\n19. 19\n20. 20\n21. 21\n22. 22\n23. 23\n24. 24\n25. 25\n26. 26\n27. 27\n28. 28\n29. 29\n30. 30\n31. 31\n32. 32\n33. 33\n34. 34\n35. 35\n36. 36\n37. 37\n38. 38\n\n\n",
            "text/html": [
              "<style>\n",
              ".list-inline {list-style: none; margin:0; padding: 0}\n",
              ".list-inline>li {display: inline-block}\n",
              ".list-inline>li:not(:last-child)::after {content: \"\\00b7\"; padding: 0 .5ex}\n",
              "</style>\n",
              "<ol class=list-inline><li>1</li><li>2</li><li>3</li><li>4</li><li>5</li><li>6</li><li>7</li><li>8</li><li>9</li><li>10</li><li>11</li><li>12</li><li>13</li><li>14</li><li>15</li><li>16</li><li>17</li><li>18</li><li>19</li><li>20</li><li>21</li><li>22</li><li>23</li><li>24</li><li>25</li><li>26</li><li>27</li><li>28</li><li>29</li><li>30</li><li>31</li><li>32</li><li>33</li><li>34</li><li>35</li><li>36</li><li>37</li><li>38</li></ol>\n"
            ]
          },
          "metadata": {
            "tags": []
          }
        }
      ]
    },
    {
      "cell_type": "markdown",
      "metadata": {
        "id": "RCNHjh9daNF_"
      },
      "source": [
        "(b) $[30,29,\\dots,1]$"
      ]
    },
    {
      "cell_type": "code",
      "metadata": {
        "id": "CIz4_WTWaDxJ",
        "outputId": "667babc0-d6e6-40cd-cea5-7636688878d8",
        "colab": {
          "base_uri": "https://localhost:8080/",
          "height": 34
        }
      },
      "source": [
        "y <- 30:1\n",
        "y"
      ],
      "execution_count": null,
      "outputs": [
        {
          "output_type": "display_data",
          "data": {
            "text/plain": [
              " [1] 30 29 28 27 26 25 24 23 22 21 20 19 18 17 16 15 14 13 12 11 10  9  8  7  6\n",
              "[26]  5  4  3  2  1"
            ],
            "text/latex": "\\begin{enumerate*}\n\\item 30\n\\item 29\n\\item 28\n\\item 27\n\\item 26\n\\item 25\n\\item 24\n\\item 23\n\\item 22\n\\item 21\n\\item 20\n\\item 19\n\\item 18\n\\item 17\n\\item 16\n\\item 15\n\\item 14\n\\item 13\n\\item 12\n\\item 11\n\\item 10\n\\item 9\n\\item 8\n\\item 7\n\\item 6\n\\item 5\n\\item 4\n\\item 3\n\\item 2\n\\item 1\n\\end{enumerate*}\n",
            "text/markdown": "1. 30\n2. 29\n3. 28\n4. 27\n5. 26\n6. 25\n7. 24\n8. 23\n9. 22\n10. 21\n11. 20\n12. 19\n13. 18\n14. 17\n15. 16\n16. 15\n17. 14\n18. 13\n19. 12\n20. 11\n21. 10\n22. 9\n23. 8\n24. 7\n25. 6\n26. 5\n27. 4\n28. 3\n29. 2\n30. 1\n\n\n",
            "text/html": [
              "<style>\n",
              ".list-inline {list-style: none; margin:0; padding: 0}\n",
              ".list-inline>li {display: inline-block}\n",
              ".list-inline>li:not(:last-child)::after {content: \"\\00b7\"; padding: 0 .5ex}\n",
              "</style>\n",
              "<ol class=list-inline><li>30</li><li>29</li><li>28</li><li>27</li><li>26</li><li>25</li><li>24</li><li>23</li><li>22</li><li>21</li><li>20</li><li>19</li><li>18</li><li>17</li><li>16</li><li>15</li><li>14</li><li>13</li><li>12</li><li>11</li><li>10</li><li>9</li><li>8</li><li>7</li><li>6</li><li>5</li><li>4</li><li>3</li><li>2</li><li>1</li></ol>\n"
            ]
          },
          "metadata": {
            "tags": []
          }
        }
      ]
    },
    {
      "cell_type": "markdown",
      "metadata": {
        "id": "3jWtna3dadA8"
      },
      "source": [
        "(c) $[1,2,3,4,3,2,1]$"
      ]
    },
    {
      "cell_type": "code",
      "metadata": {
        "id": "NegjECe7alIC",
        "outputId": "e8040d2a-1332-4b41-f00e-320df72f1613",
        "colab": {
          "base_uri": "https://localhost:8080/",
          "height": 34
        }
      },
      "source": [
        "z <- c(1,2,3,4,3,2,1)\n",
        "z"
      ],
      "execution_count": null,
      "outputs": [
        {
          "output_type": "display_data",
          "data": {
            "text/plain": [
              "[1] 1 2 3 4 3 2 1"
            ],
            "text/latex": "\\begin{enumerate*}\n\\item 1\n\\item 2\n\\item 3\n\\item 4\n\\item 3\n\\item 2\n\\item 1\n\\end{enumerate*}\n",
            "text/markdown": "1. 1\n2. 2\n3. 3\n4. 4\n5. 3\n6. 2\n7. 1\n\n\n",
            "text/html": [
              "<style>\n",
              ".list-inline {list-style: none; margin:0; padding: 0}\n",
              ".list-inline>li {display: inline-block}\n",
              ".list-inline>li:not(:last-child)::after {content: \"\\00b7\"; padding: 0 .5ex}\n",
              "</style>\n",
              "<ol class=list-inline><li>1</li><li>2</li><li>3</li><li>4</li><li>3</li><li>2</li><li>1</li></ol>\n"
            ]
          },
          "metadata": {
            "tags": []
          }
        }
      ]
    },
    {
      "cell_type": "markdown",
      "metadata": {
        "id": "Gwq4H5ICayt_"
      },
      "source": [
        "(d) $[2,4,6,\\dots, 18,20]$"
      ]
    },
    {
      "cell_type": "code",
      "metadata": {
        "id": "hwpsTGgzaazc",
        "outputId": "0f0886e8-7922-42c5-ebd7-92748bce286e",
        "colab": {
          "base_uri": "https://localhost:8080/",
          "height": 34
        }
      },
      "source": [
        "w <- seq(2,20,2)\n",
        "w"
      ],
      "execution_count": null,
      "outputs": [
        {
          "output_type": "display_data",
          "data": {
            "text/plain": [
              " [1]  2  4  6  8 10 12 14 16 18 20"
            ],
            "text/latex": "\\begin{enumerate*}\n\\item 2\n\\item 4\n\\item 6\n\\item 8\n\\item 10\n\\item 12\n\\item 14\n\\item 16\n\\item 18\n\\item 20\n\\end{enumerate*}\n",
            "text/markdown": "1. 2\n2. 4\n3. 6\n4. 8\n5. 10\n6. 12\n7. 14\n8. 16\n9. 18\n10. 20\n\n\n",
            "text/html": [
              "<style>\n",
              ".list-inline {list-style: none; margin:0; padding: 0}\n",
              ".list-inline>li {display: inline-block}\n",
              ".list-inline>li:not(:last-child)::after {content: \"\\00b7\"; padding: 0 .5ex}\n",
              "</style>\n",
              "<ol class=list-inline><li>2</li><li>4</li><li>6</li><li>8</li><li>10</li><li>12</li><li>14</li><li>16</li><li>18</li><li>20</li></ol>\n"
            ]
          },
          "metadata": {
            "tags": []
          }
        }
      ]
    },
    {
      "cell_type": "markdown",
      "metadata": {
        "id": "KaUQih6tbMEB"
      },
      "source": [
        "(e) $[1,2,3,1,2,3,\\dots,1,2,3]$"
      ]
    },
    {
      "cell_type": "code",
      "metadata": {
        "id": "qvhqIf_sbKDH",
        "outputId": "1f770879-40a2-44c1-f37e-950a02833e92",
        "colab": {
          "base_uri": "https://localhost:8080/",
          "height": 34
        }
      },
      "source": [
        "k <- rep(c(1, 2, 3), times = 10)\n",
        "k"
      ],
      "execution_count": null,
      "outputs": [
        {
          "output_type": "display_data",
          "data": {
            "text/plain": [
              " [1] 1 2 3 1 2 3 1 2 3 1 2 3 1 2 3 1 2 3 1 2 3 1 2 3 1 2 3 1 2 3"
            ],
            "text/latex": "\\begin{enumerate*}\n\\item 1\n\\item 2\n\\item 3\n\\item 1\n\\item 2\n\\item 3\n\\item 1\n\\item 2\n\\item 3\n\\item 1\n\\item 2\n\\item 3\n\\item 1\n\\item 2\n\\item 3\n\\item 1\n\\item 2\n\\item 3\n\\item 1\n\\item 2\n\\item 3\n\\item 1\n\\item 2\n\\item 3\n\\item 1\n\\item 2\n\\item 3\n\\item 1\n\\item 2\n\\item 3\n\\end{enumerate*}\n",
            "text/markdown": "1. 1\n2. 2\n3. 3\n4. 1\n5. 2\n6. 3\n7. 1\n8. 2\n9. 3\n10. 1\n11. 2\n12. 3\n13. 1\n14. 2\n15. 3\n16. 1\n17. 2\n18. 3\n19. 1\n20. 2\n21. 3\n22. 1\n23. 2\n24. 3\n25. 1\n26. 2\n27. 3\n28. 1\n29. 2\n30. 3\n\n\n",
            "text/html": [
              "<style>\n",
              ".list-inline {list-style: none; margin:0; padding: 0}\n",
              ".list-inline>li {display: inline-block}\n",
              ".list-inline>li:not(:last-child)::after {content: \"\\00b7\"; padding: 0 .5ex}\n",
              "</style>\n",
              "<ol class=list-inline><li>1</li><li>2</li><li>3</li><li>1</li><li>2</li><li>3</li><li>1</li><li>2</li><li>3</li><li>1</li><li>2</li><li>3</li><li>1</li><li>2</li><li>3</li><li>1</li><li>2</li><li>3</li><li>1</li><li>2</li><li>3</li><li>1</li><li>2</li><li>3</li><li>1</li><li>2</li><li>3</li><li>1</li><li>2</li><li>3</li></ol>\n"
            ]
          },
          "metadata": {
            "tags": []
          }
        }
      ]
    },
    {
      "cell_type": "code",
      "metadata": {
        "id": "ZF6PTBw1kCSH",
        "outputId": "fc2c354c-52af-402f-8194-2339855ce2aa",
        "colab": {
          "base_uri": "https://localhost:8080/",
          "height": 34
        }
      },
      "source": [
        ""
      ],
      "execution_count": null,
      "outputs": [
        {
          "output_type": "display_data",
          "data": {
            "text/plain": [
              "[1] 1 2"
            ],
            "text/latex": "\\begin{enumerate*}\n\\item 1\n\\item 2\n\\end{enumerate*}\n",
            "text/markdown": "1. 1\n2. 2\n\n\n",
            "text/html": [
              "<style>\n",
              ".list-inline {list-style: none; margin:0; padding: 0}\n",
              ".list-inline>li {display: inline-block}\n",
              ".list-inline>li:not(:last-child)::after {content: \"\\00b7\"; padding: 0 .5ex}\n",
              "</style>\n",
              "<ol class=list-inline><li>1</li><li>2</li></ol>\n"
            ]
          },
          "metadata": {
            "tags": []
          }
        }
      ]
    },
    {
      "cell_type": "markdown",
      "metadata": {
        "id": "xvSVEFFyeCHT"
      },
      "source": [
        "(f) $[1,2,3,1,2,3,\\dots,1]$"
      ]
    },
    {
      "cell_type": "code",
      "metadata": {
        "id": "T3TrWXOIbfd6",
        "outputId": "dc8f9596-588a-4ace-e3ba-99b08f2889ef",
        "colab": {
          "base_uri": "https://localhost:8080/",
          "height": 34
        }
      },
      "source": [
        "k[1:(length(k)-2)]"
      ],
      "execution_count": null,
      "outputs": [
        {
          "output_type": "display_data",
          "data": {
            "text/plain": [
              " [1] 1 2 3 1 2 3 1 2 3 1 2 3 1 2 3 1 2 3 1 2 3 1 2 3 1 2 3 1"
            ],
            "text/latex": "\\begin{enumerate*}\n\\item 1\n\\item 2\n\\item 3\n\\item 1\n\\item 2\n\\item 3\n\\item 1\n\\item 2\n\\item 3\n\\item 1\n\\item 2\n\\item 3\n\\item 1\n\\item 2\n\\item 3\n\\item 1\n\\item 2\n\\item 3\n\\item 1\n\\item 2\n\\item 3\n\\item 1\n\\item 2\n\\item 3\n\\item 1\n\\item 2\n\\item 3\n\\item 1\n\\end{enumerate*}\n",
            "text/markdown": "1. 1\n2. 2\n3. 3\n4. 1\n5. 2\n6. 3\n7. 1\n8. 2\n9. 3\n10. 1\n11. 2\n12. 3\n13. 1\n14. 2\n15. 3\n16. 1\n17. 2\n18. 3\n19. 1\n20. 2\n21. 3\n22. 1\n23. 2\n24. 3\n25. 1\n26. 2\n27. 3\n28. 1\n\n\n",
            "text/html": [
              "<style>\n",
              ".list-inline {list-style: none; margin:0; padding: 0}\n",
              ".list-inline>li {display: inline-block}\n",
              ".list-inline>li:not(:last-child)::after {content: \"\\00b7\"; padding: 0 .5ex}\n",
              "</style>\n",
              "<ol class=list-inline><li>1</li><li>2</li><li>3</li><li>1</li><li>2</li><li>3</li><li>1</li><li>2</li><li>3</li><li>1</li><li>2</li><li>3</li><li>1</li><li>2</li><li>3</li><li>1</li><li>2</li><li>3</li><li>1</li><li>2</li><li>3</li><li>1</li><li>2</li><li>3</li><li>1</li><li>2</li><li>3</li><li>1</li></ol>\n"
            ]
          },
          "metadata": {
            "tags": []
          }
        }
      ]
    },
    {
      "cell_type": "markdown",
      "metadata": {
        "id": "ATivKN-lpMdo"
      },
      "source": [
        "(g) $[``label 1\",``label 2\",``label 3\",\\dots,``label 30\"]$"
      ]
    },
    {
      "cell_type": "code",
      "metadata": {
        "id": "eNa56HPCt1R_",
        "outputId": "71a62ac4-899d-4dbd-bcbf-d4accae296ff",
        "colab": {
          "base_uri": "https://localhost:8080/",
          "height": 50
        }
      },
      "source": [
        "l <- paste(rep(\"label\",times=30), 1:30, sep=\"\")\n",
        "l"
      ],
      "execution_count": null,
      "outputs": [
        {
          "output_type": "display_data",
          "data": {
            "text/plain": [
              " [1] \"label1\"  \"label2\"  \"label3\"  \"label4\"  \"label5\"  \"label6\"  \"label7\" \n",
              " [8] \"label8\"  \"label9\"  \"label10\" \"label11\" \"label12\" \"label13\" \"label14\"\n",
              "[15] \"label15\" \"label16\" \"label17\" \"label18\" \"label19\" \"label20\" \"label21\"\n",
              "[22] \"label22\" \"label23\" \"label24\" \"label25\" \"label26\" \"label27\" \"label28\"\n",
              "[29] \"label29\" \"label30\""
            ],
            "text/latex": "\\begin{enumerate*}\n\\item 'label1'\n\\item 'label2'\n\\item 'label3'\n\\item 'label4'\n\\item 'label5'\n\\item 'label6'\n\\item 'label7'\n\\item 'label8'\n\\item 'label9'\n\\item 'label10'\n\\item 'label11'\n\\item 'label12'\n\\item 'label13'\n\\item 'label14'\n\\item 'label15'\n\\item 'label16'\n\\item 'label17'\n\\item 'label18'\n\\item 'label19'\n\\item 'label20'\n\\item 'label21'\n\\item 'label22'\n\\item 'label23'\n\\item 'label24'\n\\item 'label25'\n\\item 'label26'\n\\item 'label27'\n\\item 'label28'\n\\item 'label29'\n\\item 'label30'\n\\end{enumerate*}\n",
            "text/markdown": "1. 'label1'\n2. 'label2'\n3. 'label3'\n4. 'label4'\n5. 'label5'\n6. 'label6'\n7. 'label7'\n8. 'label8'\n9. 'label9'\n10. 'label10'\n11. 'label11'\n12. 'label12'\n13. 'label13'\n14. 'label14'\n15. 'label15'\n16. 'label16'\n17. 'label17'\n18. 'label18'\n19. 'label19'\n20. 'label20'\n21. 'label21'\n22. 'label22'\n23. 'label23'\n24. 'label24'\n25. 'label25'\n26. 'label26'\n27. 'label27'\n28. 'label28'\n29. 'label29'\n30. 'label30'\n\n\n",
            "text/html": [
              "<style>\n",
              ".list-inline {list-style: none; margin:0; padding: 0}\n",
              ".list-inline>li {display: inline-block}\n",
              ".list-inline>li:not(:last-child)::after {content: \"\\00b7\"; padding: 0 .5ex}\n",
              "</style>\n",
              "<ol class=list-inline><li>'label1'</li><li>'label2'</li><li>'label3'</li><li>'label4'</li><li>'label5'</li><li>'label6'</li><li>'label7'</li><li>'label8'</li><li>'label9'</li><li>'label10'</li><li>'label11'</li><li>'label12'</li><li>'label13'</li><li>'label14'</li><li>'label15'</li><li>'label16'</li><li>'label17'</li><li>'label18'</li><li>'label19'</li><li>'label20'</li><li>'label21'</li><li>'label22'</li><li>'label23'</li><li>'label24'</li><li>'label25'</li><li>'label26'</li><li>'label27'</li><li>'label28'</li><li>'label29'</li><li>'label30'</li></ol>\n"
            ]
          },
          "metadata": {
            "tags": []
          }
        }
      ]
    },
    {
      "cell_type": "markdown",
      "metadata": {
        "id": "GVuH17IGuMaA"
      },
      "source": [
        "(h) $[``label-1\",``label-2\",``label-3\",\\dots,``label-30\"]$"
      ]
    },
    {
      "cell_type": "code",
      "metadata": {
        "id": "TjzLzrNgultW",
        "outputId": "17043943-9254-44d3-d4b8-c19b1f2888fd",
        "colab": {
          "base_uri": "https://localhost:8080/",
          "height": 52
        }
      },
      "source": [
        "l <- paste(rep(\"label\",times=30), 1:30, sep=\"-\")\n",
        "l"
      ],
      "execution_count": null,
      "outputs": [
        {
          "output_type": "display_data",
          "data": {
            "text/plain": [
              " [1] \"label-1\"  \"label-2\"  \"label-3\"  \"label-4\"  \"label-5\"  \"label-6\" \n",
              " [7] \"label-7\"  \"label-8\"  \"label-9\"  \"label-10\" \"label-11\" \"label-12\"\n",
              "[13] \"label-13\" \"label-14\" \"label-15\" \"label-16\" \"label-17\" \"label-18\"\n",
              "[19] \"label-19\" \"label-20\" \"label-21\" \"label-22\" \"label-23\" \"label-24\"\n",
              "[25] \"label-25\" \"label-26\" \"label-27\" \"label-28\" \"label-29\" \"label-30\""
            ],
            "text/latex": "\\begin{enumerate*}\n\\item 'label-1'\n\\item 'label-2'\n\\item 'label-3'\n\\item 'label-4'\n\\item 'label-5'\n\\item 'label-6'\n\\item 'label-7'\n\\item 'label-8'\n\\item 'label-9'\n\\item 'label-10'\n\\item 'label-11'\n\\item 'label-12'\n\\item 'label-13'\n\\item 'label-14'\n\\item 'label-15'\n\\item 'label-16'\n\\item 'label-17'\n\\item 'label-18'\n\\item 'label-19'\n\\item 'label-20'\n\\item 'label-21'\n\\item 'label-22'\n\\item 'label-23'\n\\item 'label-24'\n\\item 'label-25'\n\\item 'label-26'\n\\item 'label-27'\n\\item 'label-28'\n\\item 'label-29'\n\\item 'label-30'\n\\end{enumerate*}\n",
            "text/markdown": "1. 'label-1'\n2. 'label-2'\n3. 'label-3'\n4. 'label-4'\n5. 'label-5'\n6. 'label-6'\n7. 'label-7'\n8. 'label-8'\n9. 'label-9'\n10. 'label-10'\n11. 'label-11'\n12. 'label-12'\n13. 'label-13'\n14. 'label-14'\n15. 'label-15'\n16. 'label-16'\n17. 'label-17'\n18. 'label-18'\n19. 'label-19'\n20. 'label-20'\n21. 'label-21'\n22. 'label-22'\n23. 'label-23'\n24. 'label-24'\n25. 'label-25'\n26. 'label-26'\n27. 'label-27'\n28. 'label-28'\n29. 'label-29'\n30. 'label-30'\n\n\n",
            "text/html": [
              "<style>\n",
              ".list-inline {list-style: none; margin:0; padding: 0}\n",
              ".list-inline>li {display: inline-block}\n",
              ".list-inline>li:not(:last-child)::after {content: \"\\00b7\"; padding: 0 .5ex}\n",
              "</style>\n",
              "<ol class=list-inline><li>'label-1'</li><li>'label-2'</li><li>'label-3'</li><li>'label-4'</li><li>'label-5'</li><li>'label-6'</li><li>'label-7'</li><li>'label-8'</li><li>'label-9'</li><li>'label-10'</li><li>'label-11'</li><li>'label-12'</li><li>'label-13'</li><li>'label-14'</li><li>'label-15'</li><li>'label-16'</li><li>'label-17'</li><li>'label-18'</li><li>'label-19'</li><li>'label-20'</li><li>'label-21'</li><li>'label-22'</li><li>'label-23'</li><li>'label-24'</li><li>'label-25'</li><li>'label-26'</li><li>'label-27'</li><li>'label-28'</li><li>'label-29'</li><li>'label-30'</li></ol>\n"
            ]
          },
          "metadata": {
            "tags": []
          }
        }
      ]
    },
    {
      "cell_type": "markdown",
      "metadata": {
        "id": "5Q_a24ghl7J4"
      },
      "source": [
        "(i) $x^2e^x, \\; x=0.1,0.2,\\dots,1$\n"
      ]
    },
    {
      "cell_type": "code",
      "metadata": {
        "id": "P840Sp7qjm8A",
        "outputId": "35dda06a-40fe-4c2c-8c28-b3ddeb80dbb4",
        "colab": {
          "base_uri": "https://localhost:8080/",
          "height": 52
        }
      },
      "source": [
        "v <- seq(0.1,1,0.1)\n",
        "f <- function(x){(x**2)*exp(x)}\n",
        "fv <- f(v)\n",
        "fv"
      ],
      "execution_count": null,
      "outputs": [
        {
          "output_type": "display_data",
          "data": {
            "text/plain": [
              " [1] 0.01105171 0.04885611 0.12148729 0.23869195 0.41218032 0.65596277\n",
              " [7] 0.98673883 1.42434619 1.99227852 2.71828183"
            ],
            "text/latex": "\\begin{enumerate*}\n\\item 0.0110517091807565\n\\item 0.0488561103264068\n\\item 0.12148729268184\n\\item 0.238691951622603\n\\item 0.412180317675032\n\\item 0.655962768140583\n\\item 0.986738826660534\n\\item 1.42434619423518\n\\item 1.99227852003713\n\\item 2.71828182845905\n\\end{enumerate*}\n",
            "text/markdown": "1. 0.0110517091807565\n2. 0.0488561103264068\n3. 0.12148729268184\n4. 0.238691951622603\n5. 0.412180317675032\n6. 0.655962768140583\n7. 0.986738826660534\n8. 1.42434619423518\n9. 1.99227852003713\n10. 2.71828182845905\n\n\n",
            "text/html": [
              "<style>\n",
              ".list-inline {list-style: none; margin:0; padding: 0}\n",
              ".list-inline>li {display: inline-block}\n",
              ".list-inline>li:not(:last-child)::after {content: \"\\00b7\"; padding: 0 .5ex}\n",
              "</style>\n",
              "<ol class=list-inline><li>0.0110517091807565</li><li>0.0488561103264068</li><li>0.12148729268184</li><li>0.238691951622603</li><li>0.412180317675032</li><li>0.655962768140583</li><li>0.986738826660534</li><li>1.42434619423518</li><li>1.99227852003713</li><li>2.71828182845905</li></ol>\n"
            ]
          },
          "metadata": {
            "tags": []
          }
        }
      ]
    },
    {
      "cell_type": "markdown",
      "metadata": {
        "id": "Bx34maxIwBQy"
      },
      "source": [
        "## Exercise 2"
      ]
    },
    {
      "cell_type": "markdown",
      "metadata": {
        "id": "XHe29uaKwIap"
      },
      "source": [
        "$ r = \\sum_{n=5}^{23} (j^{2} + 3*j^{0.5})$"
      ]
    },
    {
      "cell_type": "code",
      "metadata": {
        "id": "6G07EzdrwB2Y",
        "outputId": "13c14bd8-4584-4741-9545-62381fdc8ed0",
        "colab": {
          "base_uri": "https://localhost:8080/",
          "height": 52
        }
      },
      "source": [
        "# Using loops\n",
        "r1 <- 0\n",
        "for (n in 5:23) {\n",
        "  r1 <- r1 + (n**2 + 3*(n**0.5))\n",
        "}\n",
        "\n",
        "# Not using loops\n",
        "v <- 5:23\n",
        "f <- function(j){(j^2) + 3*(j^0.5)}\n",
        "r2 <- sum(f(v))\n",
        "\n",
        "# checking equality\n",
        "r1 == r2\n",
        "r1"
      ],
      "execution_count": null,
      "outputs": [
        {
          "output_type": "display_data",
          "data": {
            "text/plain": [
              "[1] TRUE"
            ],
            "text/latex": "TRUE",
            "text/markdown": "TRUE",
            "text/html": [
              "TRUE"
            ]
          },
          "metadata": {
            "tags": []
          }
        },
        {
          "output_type": "display_data",
          "data": {
            "text/plain": [
              "[1] 4502.766"
            ],
            "text/latex": "4502.76560925871",
            "text/markdown": "4502.76560925871",
            "text/html": [
              "4502.76560925871"
            ]
          },
          "metadata": {
            "tags": []
          }
        }
      ]
    },
    {
      "cell_type": "markdown",
      "metadata": {
        "id": "kNKbP1ybyyVx"
      },
      "source": [
        "$ r = \\sum_{i=1}^{18} \\frac{1.3^{i}}{i}$"
      ]
    },
    {
      "cell_type": "code",
      "metadata": {
        "id": "FuxGt8_YyyGp",
        "outputId": "f1b626d8-3d4e-4978-a42f-58532513fc69",
        "colab": {
          "base_uri": "https://localhost:8080/",
          "height": 52
        }
      },
      "source": [
        "# Using loops\n",
        "r1 <- 0\n",
        "for (i in 1:18) {\n",
        "  r1 <- (1.3^i)/i\n",
        "}\n",
        "\n",
        "# Not using loops\n",
        "v <- 1:18\n",
        "f <- function(j){(1.3^i) / i}\n",
        "r2 <- sum(f(v))\n",
        "\n",
        "# checking equality\n",
        "r1 == r2\n",
        "r1"
      ],
      "execution_count": null,
      "outputs": [
        {
          "output_type": "display_data",
          "data": {
            "text/plain": [
              "[1] TRUE"
            ],
            "text/latex": "TRUE",
            "text/markdown": "TRUE",
            "text/html": [
              "TRUE"
            ]
          },
          "metadata": {
            "tags": []
          }
        },
        {
          "output_type": "display_data",
          "data": {
            "text/plain": [
              "[1] 6.247523"
            ],
            "text/latex": "6.24752260844208",
            "text/markdown": "6.24752260844208",
            "text/html": [
              "6.24752260844208"
            ]
          },
          "metadata": {
            "tags": []
          }
        }
      ]
    },
    {
      "cell_type": "markdown",
      "metadata": {
        "id": "Z22f-mLfzuY_"
      },
      "source": [
        "$ r = \\sum_{i=1}^{10} \\sum_{j=1}^{6} \\frac{i^{4}}{3+j}$"
      ]
    },
    {
      "cell_type": "code",
      "metadata": {
        "id": "cvkKTYMCxade",
        "outputId": "7c7a531d-134e-42fc-9d82-fcd7c794f7f3",
        "colab": {
          "base_uri": "https://localhost:8080/",
          "height": 69
        }
      },
      "source": [
        "# Using loops\n",
        "r1 <- 0\n",
        "for (i in 1:10) {\n",
        "  for (j in 1:6) {\n",
        "    r1 <- r1 + ((i^4)/(3+j))\n",
        "  }\n",
        "}\n",
        "\n",
        "# Not using loops\n",
        "v1 <- 1:10\n",
        "v2 <- 1:6\n",
        "f <- function(i,j){(i^4)/(3+j)}\n",
        "r2 <- sum(outer(v1,v2,FUN=f))\n",
        "\n",
        "# checking equality\n",
        "round(r1,10) == round(r2,10)\n",
        "r1\n",
        "r2"
      ],
      "execution_count": null,
      "outputs": [
        {
          "output_type": "display_data",
          "data": {
            "text/plain": [
              "[1] TRUE"
            ],
            "text/latex": "TRUE",
            "text/markdown": "TRUE",
            "text/html": [
              "TRUE"
            ]
          },
          "metadata": {
            "tags": []
          }
        },
        {
          "output_type": "display_data",
          "data": {
            "text/plain": [
              "[1] 25222.42"
            ],
            "text/latex": "25222.4194444444",
            "text/markdown": "25222.4194444444",
            "text/html": [
              "25222.4194444444"
            ]
          },
          "metadata": {
            "tags": []
          }
        },
        {
          "output_type": "display_data",
          "data": {
            "text/plain": [
              "[1] 25222.42"
            ],
            "text/latex": "25222.4194444444",
            "text/markdown": "25222.4194444444",
            "text/html": [
              "25222.4194444444"
            ]
          },
          "metadata": {
            "tags": []
          }
        }
      ]
    },
    {
      "cell_type": "markdown",
      "metadata": {
        "id": "LbjVwDya9wnz"
      },
      "source": [
        "## Exercise 3"
      ]
    },
    {
      "cell_type": "markdown",
      "metadata": {
        "id": "CPUxeeKu-SDR"
      },
      "source": [
        "#### *(a) What does the next code do?*"
      ]
    },
    {
      "cell_type": "code",
      "metadata": {
        "id": "qMqWIYep2gTT",
        "outputId": "c17070b8-19f5-41b7-b684-55e824c9851e",
        "colab": {
          "base_uri": "https://localhost:8080/",
          "height": 161
        }
      },
      "source": [
        "set.seed(75)\n",
        "M = matrix(sample(1:10, size=60, replace=TRUE), nrow=6, ncol=10)\n",
        "M"
      ],
      "execution_count": null,
      "outputs": [
        {
          "output_type": "display_data",
          "data": {
            "text/plain": [
              "     [,1] [,2] [,3] [,4] [,5] [,6] [,7] [,8] [,9] [,10]\n",
              "[1,] 8    8     8   7    7     5    2    2    6    5   \n",
              "[2,] 9    5     2   6    6     1    6    6    3    7   \n",
              "[3,] 5    1    10   2    5     6    8    9   10    8   \n",
              "[4,] 9    3     1   1    6    10   10    7    9   10   \n",
              "[5,] 7    3     3   3    6     4    4    6   10    2   \n",
              "[6,] 9    3     3   4    1     2    1   10    6    1   "
            ],
            "text/latex": "A matrix: 6 × 10 of type int\n\\begin{tabular}{llllllllll}\n\t 8 & 8 &  8 & 7 & 7 &  5 &  2 &  2 &  6 &  5\\\\\n\t 9 & 5 &  2 & 6 & 6 &  1 &  6 &  6 &  3 &  7\\\\\n\t 5 & 1 & 10 & 2 & 5 &  6 &  8 &  9 & 10 &  8\\\\\n\t 9 & 3 &  1 & 1 & 6 & 10 & 10 &  7 &  9 & 10\\\\\n\t 7 & 3 &  3 & 3 & 6 &  4 &  4 &  6 & 10 &  2\\\\\n\t 9 & 3 &  3 & 4 & 1 &  2 &  1 & 10 &  6 &  1\\\\\n\\end{tabular}\n",
            "text/markdown": "\nA matrix: 6 × 10 of type int\n\n| 8 | 8 |  8 | 7 | 7 |  5 |  2 |  2 |  6 |  5 |\n| 9 | 5 |  2 | 6 | 6 |  1 |  6 |  6 |  3 |  7 |\n| 5 | 1 | 10 | 2 | 5 |  6 |  8 |  9 | 10 |  8 |\n| 9 | 3 |  1 | 1 | 6 | 10 | 10 |  7 |  9 | 10 |\n| 7 | 3 |  3 | 3 | 6 |  4 |  4 |  6 | 10 |  2 |\n| 9 | 3 |  3 | 4 | 1 |  2 |  1 | 10 |  6 |  1 |\n\n",
            "text/html": [
              "<table>\n",
              "<caption>A matrix: 6 × 10 of type int</caption>\n",
              "<tbody>\n",
              "\t<tr><td>8</td><td>8</td><td> 8</td><td>7</td><td>7</td><td> 5</td><td> 2</td><td> 2</td><td> 6</td><td> 5</td></tr>\n",
              "\t<tr><td>9</td><td>5</td><td> 2</td><td>6</td><td>6</td><td> 1</td><td> 6</td><td> 6</td><td> 3</td><td> 7</td></tr>\n",
              "\t<tr><td>5</td><td>1</td><td>10</td><td>2</td><td>5</td><td> 6</td><td> 8</td><td> 9</td><td>10</td><td> 8</td></tr>\n",
              "\t<tr><td>9</td><td>3</td><td> 1</td><td>1</td><td>6</td><td>10</td><td>10</td><td> 7</td><td> 9</td><td>10</td></tr>\n",
              "\t<tr><td>7</td><td>3</td><td> 3</td><td>3</td><td>6</td><td> 4</td><td> 4</td><td> 6</td><td>10</td><td> 2</td></tr>\n",
              "\t<tr><td>9</td><td>3</td><td> 3</td><td>4</td><td>1</td><td> 2</td><td> 1</td><td>10</td><td> 6</td><td> 1</td></tr>\n",
              "</tbody>\n",
              "</table>\n"
            ]
          },
          "metadata": {
            "tags": []
          }
        }
      ]
    },
    {
      "cell_type": "markdown",
      "metadata": {
        "id": "4noZDMq3-CmK"
      },
      "source": [
        "The code creates a random sample of elements in the vector 1:10 of size 60, expressed as matrix with dimensions 6x10\n",
        "\n",
        "The randomization is done using the seed 75 for reproducibility"
      ]
    },
    {
      "cell_type": "markdown",
      "metadata": {
        "id": "WOWZl0ho_wzJ"
      },
      "source": [
        "#### *(b) Find the number of elements in each row that are greater than 4*"
      ]
    },
    {
      "cell_type": "code",
      "metadata": {
        "id": "qS88k5Uf98Dn",
        "outputId": "0b0b55d8-6477-43a6-9f67-4fe4a1f1ab8c",
        "colab": {
          "base_uri": "https://localhost:8080/",
          "height": 35
        }
      },
      "source": [
        "apply(M, 1, function(x)sum(x > 4))"
      ],
      "execution_count": null,
      "outputs": [
        {
          "output_type": "display_data",
          "data": {
            "text/plain": [
              "[1] 8 7 8 7 4 3"
            ],
            "text/latex": "\\begin{enumerate*}\n\\item 8\n\\item 7\n\\item 8\n\\item 7\n\\item 4\n\\item 3\n\\end{enumerate*}\n",
            "text/markdown": "1. 8\n2. 7\n3. 8\n4. 7\n5. 4\n6. 3\n\n\n",
            "text/html": [
              "<style>\n",
              ".list-inline {list-style: none; margin:0; padding: 0}\n",
              ".list-inline>li {display: inline-block}\n",
              ".list-inline>li:not(:last-child)::after {content: \"\\00b7\"; padding: 0 .5ex}\n",
              "</style>\n",
              "<ol class=list-inline><li>8</li><li>7</li><li>8</li><li>7</li><li>4</li><li>3</li></ol>\n"
            ]
          },
          "metadata": {
            "tags": []
          }
        }
      ]
    },
    {
      "cell_type": "markdown",
      "metadata": {
        "id": "x4nkbYFW91wu"
      },
      "source": [
        "#### (c)  Replace the third column of the previous vector $M$ by the sum of the second and third column"
      ]
    },
    {
      "cell_type": "code",
      "metadata": {
        "id": "a1nQXuina_Yo",
        "outputId": "bc7ddc2d-1dde-44f4-c0a8-8b5a4e4d9b96",
        "colab": {
          "base_uri": "https://localhost:8080/",
          "height": 155
        }
      },
      "source": [
        "M[,2]=M[,2]+M[,3]\n",
        "M"
      ],
      "execution_count": null,
      "outputs": [
        {
          "output_type": "display_data",
          "data": {
            "text/plain": [
              "     [,1] [,2] [,3] [,4] [,5] [,6] [,7] [,8] [,9] [,10]\n",
              "[1,] 8    16    8   7    7     5    2    2    6    5   \n",
              "[2,] 9     7    2   6    6     1    6    6    3    7   \n",
              "[3,] 5    11   10   2    5     6    8    9   10    8   \n",
              "[4,] 9     4    1   1    6    10   10    7    9   10   \n",
              "[5,] 7     6    3   3    6     4    4    6   10    2   \n",
              "[6,] 9     6    3   4    1     2    1   10    6    1   "
            ],
            "text/latex": "A matrix: 6 × 10 of type int\n\\begin{tabular}{llllllllll}\n\t 8 & 16 &  8 & 7 & 7 &  5 &  2 &  2 &  6 &  5\\\\\n\t 9 &  7 &  2 & 6 & 6 &  1 &  6 &  6 &  3 &  7\\\\\n\t 5 & 11 & 10 & 2 & 5 &  6 &  8 &  9 & 10 &  8\\\\\n\t 9 &  4 &  1 & 1 & 6 & 10 & 10 &  7 &  9 & 10\\\\\n\t 7 &  6 &  3 & 3 & 6 &  4 &  4 &  6 & 10 &  2\\\\\n\t 9 &  6 &  3 & 4 & 1 &  2 &  1 & 10 &  6 &  1\\\\\n\\end{tabular}\n",
            "text/markdown": "\nA matrix: 6 × 10 of type int\n\n| 8 | 16 |  8 | 7 | 7 |  5 |  2 |  2 |  6 |  5 |\n| 9 |  7 |  2 | 6 | 6 |  1 |  6 |  6 |  3 |  7 |\n| 5 | 11 | 10 | 2 | 5 |  6 |  8 |  9 | 10 |  8 |\n| 9 |  4 |  1 | 1 | 6 | 10 | 10 |  7 |  9 | 10 |\n| 7 |  6 |  3 | 3 | 6 |  4 |  4 |  6 | 10 |  2 |\n| 9 |  6 |  3 | 4 | 1 |  2 |  1 | 10 |  6 |  1 |\n\n",
            "text/html": [
              "<table>\n",
              "<caption>A matrix: 6 × 10 of type int</caption>\n",
              "<tbody>\n",
              "\t<tr><td>8</td><td>16</td><td> 8</td><td>7</td><td>7</td><td> 5</td><td> 2</td><td> 2</td><td> 6</td><td> 5</td></tr>\n",
              "\t<tr><td>9</td><td> 7</td><td> 2</td><td>6</td><td>6</td><td> 1</td><td> 6</td><td> 6</td><td> 3</td><td> 7</td></tr>\n",
              "\t<tr><td>5</td><td>11</td><td>10</td><td>2</td><td>5</td><td> 6</td><td> 8</td><td> 9</td><td>10</td><td> 8</td></tr>\n",
              "\t<tr><td>9</td><td> 4</td><td> 1</td><td>1</td><td>6</td><td>10</td><td>10</td><td> 7</td><td> 9</td><td>10</td></tr>\n",
              "\t<tr><td>7</td><td> 6</td><td> 3</td><td>3</td><td>6</td><td> 4</td><td> 4</td><td> 6</td><td>10</td><td> 2</td></tr>\n",
              "\t<tr><td>9</td><td> 6</td><td> 3</td><td>4</td><td>1</td><td> 2</td><td> 1</td><td>10</td><td> 6</td><td> 1</td></tr>\n",
              "</tbody>\n",
              "</table>\n"
            ]
          },
          "metadata": {
            "tags": []
          }
        }
      ]
    },
    {
      "cell_type": "code",
      "metadata": {
        "id": "VHQTASyYcgst",
        "outputId": "f8f25ff7-14ea-4c48-dc1c-62b8bc900dfa",
        "colab": {
          "base_uri": "https://localhost:8080/",
          "height": 34
        }
      },
      "source": [
        "dim(M)[1]"
      ],
      "execution_count": null,
      "outputs": [
        {
          "output_type": "display_data",
          "data": {
            "text/plain": [
              "[1] 6"
            ],
            "text/latex": "6",
            "text/markdown": "6",
            "text/html": [
              "6"
            ]
          },
          "metadata": {
            "tags": []
          }
        }
      ]
    },
    {
      "cell_type": "markdown",
      "metadata": {
        "id": "9reTSDHDb9WB"
      },
      "source": [
        "## Exercise 4"
      ]
    },
    {
      "cell_type": "code",
      "metadata": {
        "id": "Q5KPlNXzcIdq"
      },
      "source": [
        " evenmatrix=function(mat){\n",
        "  for (i in 1:dim(mat)[1]){\n",
        "    for ( j in 1:dim(mat)[2]){\n",
        "      if(mat[i,j] %% 2 != 0){\n",
        "        mat[i,j]=2*mat[i,j]\n",
        "      }\n",
        "    }\n",
        "  }\n",
        "  return(mat)\n",
        "}"
      ],
      "execution_count": null,
      "outputs": []
    }
  ]
}