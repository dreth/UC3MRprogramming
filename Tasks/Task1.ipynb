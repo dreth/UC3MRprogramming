{
  "nbformat": 4,
  "nbformat_minor": 0,
  "metadata": {
    "colab": {
      "name": "Task1.ipynb",
      "provenance": [],
      "collapsed_sections": []
    },
    "kernelspec": {
      "name": "ir",
      "display_name": "R"
    }
  },
  "cells": [
    {
      "cell_type": "markdown",
      "metadata": {
        "id": "JmE55zkWDVhs"
      },
      "source": [
        "# Task 1: Using R in Google Colab\n",
        "##### Daniel Alonso & Ander Iturburu"
      ]
    },
    {
      "cell_type": "markdown",
      "metadata": {
        "id": "CXdhzdXqDYpv"
      },
      "source": [
        "## How to use R in Google Colab\n",
        "\n",
        "Given that Google colab only has an option to use python notebooks, we have to go to a standard notebook creating URL but specifying the language as a parameter in the URL as follows:\n",
        "\n",
        "https://colab.research.google.com/notebook#create=true&language=r"
      ]
    },
    {
      "cell_type": "markdown",
      "metadata": {
        "id": "AoqHfzpSDyBc"
      },
      "source": [
        "## Importing R libraries"
      ]
    },
    {
      "cell_type": "code",
      "metadata": {
        "id": "Jsh1GoiWDxs2",
        "outputId": "40408074-8258-4632-8053-b7c48e0f9838",
        "colab": {
          "base_uri": "https://localhost:8080/",
          "height": 269
        }
      },
      "source": [
        "library(ggplot2)\n",
        "library(dplyr)"
      ],
      "execution_count": null,
      "outputs": [
        {
          "output_type": "stream",
          "text": [
            "\n",
            "Attaching package: ‘dplyr’\n",
            "\n",
            "\n",
            "The following objects are masked from ‘package:stats’:\n",
            "\n",
            "    filter, lag\n",
            "\n",
            "\n",
            "The following objects are masked from ‘package:base’:\n",
            "\n",
            "    intersect, setdiff, setequal, union\n",
            "\n",
            "\n"
          ],
          "name": "stderr"
        }
      ]
    },
    {
      "cell_type": "markdown",
      "metadata": {
        "id": "ShJwDWD6D9rG"
      },
      "source": [
        "## Importing data into R"
      ]
    },
    {
      "cell_type": "code",
      "metadata": {
        "id": "NzfhVoXiD89w"
      },
      "source": [
        "data <- read.csv(\"forestfires.csv\")"
      ],
      "execution_count": null,
      "outputs": []
    },
    {
      "cell_type": "markdown",
      "metadata": {
        "id": "tU_2k5NnERlD"
      },
      "source": [
        "## Exploring the imported dataset"
      ]
    },
    {
      "cell_type": "code",
      "metadata": {
        "id": "gn-NK1QFEO7q",
        "outputId": "c940dae5-35b2-4562-8476-82a560f122a9",
        "colab": {
          "base_uri": "https://localhost:8080/",
          "height": 202
        }
      },
      "source": [
        "head(data)"
      ],
      "execution_count": null,
      "outputs": [
        {
          "output_type": "display_data",
          "data": {
            "text/plain": [
              "  X Y month  day  FFMC DMC  DC    ISI  temp RH wind rain area\n",
              "1 7 5 mar    fri  86.2 26.2  94.3  5.1  8.2 51 6.7  0.0  0   \n",
              "2 7 4 oct    tue  90.6 35.4 669.1  6.7 18.0 33 0.9  0.0  0   \n",
              "3 7 4 oct    sat  90.6 43.7 686.9  6.7 14.6 33 1.3  0.0  0   \n",
              "4 8 6 mar    fri  91.7 33.3  77.5  9.0  8.3 97 4.0  0.2  0   \n",
              "5 8 6 mar    sun  89.3 51.3 102.2  9.6 11.4 99 1.8  0.0  0   \n",
              "6 8 6 aug    sun  92.3 85.3 488.0 14.7 22.2 29 5.4  0.0  0   "
            ],
            "text/latex": "A data.frame: 6 × 13\n\\begin{tabular}{r|lllllllllllll}\n  & X & Y & month & day & FFMC & DMC & DC & ISI & temp & RH & wind & rain & area\\\\\n  & <dbl> & <dbl> & <fct> & <fct> & <dbl> & <dbl> & <dbl> & <dbl> & <dbl> & <dbl> & <dbl> & <dbl> & <dbl>\\\\\n\\hline\n\t1 & 7 & 5 & mar    & fri  & 86.2 & 26.2 &  94.3 &  5.1 &  8.2 & 51 & 6.7 & 0.0 & 0\\\\\n\t2 & 7 & 4 & oct    & tue  & 90.6 & 35.4 & 669.1 &  6.7 & 18.0 & 33 & 0.9 & 0.0 & 0\\\\\n\t3 & 7 & 4 & oct    & sat  & 90.6 & 43.7 & 686.9 &  6.7 & 14.6 & 33 & 1.3 & 0.0 & 0\\\\\n\t4 & 8 & 6 & mar    & fri  & 91.7 & 33.3 &  77.5 &  9.0 &  8.3 & 97 & 4.0 & 0.2 & 0\\\\\n\t5 & 8 & 6 & mar    & sun  & 89.3 & 51.3 & 102.2 &  9.6 & 11.4 & 99 & 1.8 & 0.0 & 0\\\\\n\t6 & 8 & 6 & aug    & sun  & 92.3 & 85.3 & 488.0 & 14.7 & 22.2 & 29 & 5.4 & 0.0 & 0\\\\\n\\end{tabular}\n",
            "text/markdown": "\nA data.frame: 6 × 13\n\n| <!--/--> | X &lt;dbl&gt; | Y &lt;dbl&gt; | month &lt;fct&gt; | day &lt;fct&gt; | FFMC &lt;dbl&gt; | DMC &lt;dbl&gt; | DC &lt;dbl&gt; | ISI &lt;dbl&gt; | temp &lt;dbl&gt; | RH &lt;dbl&gt; | wind &lt;dbl&gt; | rain &lt;dbl&gt; | area &lt;dbl&gt; |\n|---|---|---|---|---|---|---|---|---|---|---|---|---|---|\n| 1 | 7 | 5 | mar    | fri  | 86.2 | 26.2 |  94.3 |  5.1 |  8.2 | 51 | 6.7 | 0.0 | 0 |\n| 2 | 7 | 4 | oct    | tue  | 90.6 | 35.4 | 669.1 |  6.7 | 18.0 | 33 | 0.9 | 0.0 | 0 |\n| 3 | 7 | 4 | oct    | sat  | 90.6 | 43.7 | 686.9 |  6.7 | 14.6 | 33 | 1.3 | 0.0 | 0 |\n| 4 | 8 | 6 | mar    | fri  | 91.7 | 33.3 |  77.5 |  9.0 |  8.3 | 97 | 4.0 | 0.2 | 0 |\n| 5 | 8 | 6 | mar    | sun  | 89.3 | 51.3 | 102.2 |  9.6 | 11.4 | 99 | 1.8 | 0.0 | 0 |\n| 6 | 8 | 6 | aug    | sun  | 92.3 | 85.3 | 488.0 | 14.7 | 22.2 | 29 | 5.4 | 0.0 | 0 |\n\n",
            "text/html": [
              "<table>\n",
              "<caption>A data.frame: 6 × 13</caption>\n",
              "<thead>\n",
              "\t<tr><th></th><th scope=col>X</th><th scope=col>Y</th><th scope=col>month</th><th scope=col>day</th><th scope=col>FFMC</th><th scope=col>DMC</th><th scope=col>DC</th><th scope=col>ISI</th><th scope=col>temp</th><th scope=col>RH</th><th scope=col>wind</th><th scope=col>rain</th><th scope=col>area</th></tr>\n",
              "\t<tr><th></th><th scope=col>&lt;dbl&gt;</th><th scope=col>&lt;dbl&gt;</th><th scope=col>&lt;fct&gt;</th><th scope=col>&lt;fct&gt;</th><th scope=col>&lt;dbl&gt;</th><th scope=col>&lt;dbl&gt;</th><th scope=col>&lt;dbl&gt;</th><th scope=col>&lt;dbl&gt;</th><th scope=col>&lt;dbl&gt;</th><th scope=col>&lt;dbl&gt;</th><th scope=col>&lt;dbl&gt;</th><th scope=col>&lt;dbl&gt;</th><th scope=col>&lt;dbl&gt;</th></tr>\n",
              "</thead>\n",
              "<tbody>\n",
              "\t<tr><th scope=row>1</th><td>7</td><td>5</td><td>mar   </td><td>fri </td><td>86.2</td><td>26.2</td><td> 94.3</td><td> 5.1</td><td> 8.2</td><td>51</td><td>6.7</td><td>0.0</td><td>0</td></tr>\n",
              "\t<tr><th scope=row>2</th><td>7</td><td>4</td><td>oct   </td><td>tue </td><td>90.6</td><td>35.4</td><td>669.1</td><td> 6.7</td><td>18.0</td><td>33</td><td>0.9</td><td>0.0</td><td>0</td></tr>\n",
              "\t<tr><th scope=row>3</th><td>7</td><td>4</td><td>oct   </td><td>sat </td><td>90.6</td><td>43.7</td><td>686.9</td><td> 6.7</td><td>14.6</td><td>33</td><td>1.3</td><td>0.0</td><td>0</td></tr>\n",
              "\t<tr><th scope=row>4</th><td>8</td><td>6</td><td>mar   </td><td>fri </td><td>91.7</td><td>33.3</td><td> 77.5</td><td> 9.0</td><td> 8.3</td><td>97</td><td>4.0</td><td>0.2</td><td>0</td></tr>\n",
              "\t<tr><th scope=row>5</th><td>8</td><td>6</td><td>mar   </td><td>sun </td><td>89.3</td><td>51.3</td><td>102.2</td><td> 9.6</td><td>11.4</td><td>99</td><td>1.8</td><td>0.0</td><td>0</td></tr>\n",
              "\t<tr><th scope=row>6</th><td>8</td><td>6</td><td>aug   </td><td>sun </td><td>92.3</td><td>85.3</td><td>488.0</td><td>14.7</td><td>22.2</td><td>29</td><td>5.4</td><td>0.0</td><td>0</td></tr>\n",
              "</tbody>\n",
              "</table>\n"
            ]
          },
          "metadata": {
            "tags": []
          }
        }
      ]
    },
    {
      "cell_type": "code",
      "metadata": {
        "id": "x0eU7tbYE9PR"
      },
      "source": [
        ""
      ],
      "execution_count": null,
      "outputs": []
    },
    {
      "cell_type": "code",
      "metadata": {
        "id": "Sl-dO04pFZOB"
      },
      "source": [
        ""
      ],
      "execution_count": null,
      "outputs": []
    }
  ]
}