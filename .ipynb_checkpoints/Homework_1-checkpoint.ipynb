{
 "cells": [
  {
   "cell_type": "markdown",
   "metadata": {
    "id": "W39c9aUzbxhm"
   },
   "source": [
    "# Homework 1\n",
    "## Basic descriptive information and plots for our selected dataset\n",
    "\n",
    "### Daniel Alonso and Ander Iturburu\n",
    "\n",
    "#### Data extracted from <a href=\"https://www.kaggle.com/c/titanic/overview\">kaggle titanic dataset challenge</a>"
   ]
  },
  {
   "cell_type": "code",
   "execution_count": 15,
   "metadata": {
    "colab": {
     "base_uri": "https://localhost:8080/",
     "height": 125
    },
    "id": "BLEhqqrldrPQ",
    "outputId": "b70a3902-593a-4e2f-fe4a-ac40a1f0d310"
   },
   "outputs": [
    {
     "name": "stderr",
     "output_type": "stream",
     "text": [
      "Installing packages into ‘/home/dreth/R/x86_64-pc-linux-gnu-library/4.0’\n",
      "(as ‘lib’ is unspecified)\n",
      "\n"
     ]
    }
   ],
   "source": [
    "install.packages(c('dplyr', 'fitdistrplus', 'PerformanceAnalytics','reshape2','ggmosaic','vcd','EnvStats'))"
   ]
  },
  {
   "cell_type": "code",
   "execution_count": 1,
   "metadata": {
    "colab": {
     "base_uri": "https://localhost:8080/",
     "height": 215
    },
    "id": "lkA3Y92acAlY",
    "outputId": "7faeea5c-a775-4a27-b18f-0289d430f8ec"
   },
   "outputs": [
    {
     "name": "stderr",
     "output_type": "stream",
     "text": [
      "\n",
      "Attaching package: ‘dplyr’\n",
      "\n",
      "\n",
      "The following objects are masked from ‘package:stats’:\n",
      "\n",
      "    filter, lag\n",
      "\n",
      "\n",
      "The following objects are masked from ‘package:base’:\n",
      "\n",
      "    intersect, setdiff, setequal, union\n",
      "\n",
      "\n",
      "Loading required package: MASS\n",
      "\n",
      "\n",
      "Attaching package: ‘MASS’\n",
      "\n",
      "\n",
      "The following object is masked from ‘package:dplyr’:\n",
      "\n",
      "    select\n",
      "\n",
      "\n",
      "Loading required package: survival\n",
      "\n",
      "Loading required package: xts\n",
      "\n",
      "Loading required package: zoo\n",
      "\n",
      "\n",
      "Attaching package: ‘zoo’\n",
      "\n",
      "\n",
      "The following objects are masked from ‘package:base’:\n",
      "\n",
      "    as.Date, as.Date.numeric\n",
      "\n",
      "\n",
      "\n",
      "Attaching package: ‘xts’\n",
      "\n",
      "\n",
      "The following objects are masked from ‘package:dplyr’:\n",
      "\n",
      "    first, last\n",
      "\n",
      "\n",
      "\n",
      "Attaching package: ‘PerformanceAnalytics’\n",
      "\n",
      "\n",
      "The following object is masked from ‘package:graphics’:\n",
      "\n",
      "    legend\n",
      "\n",
      "\n",
      "Loading required package: grid\n",
      "\n",
      "\n",
      "Attaching package: ‘vcd’\n",
      "\n",
      "\n",
      "The following object is masked from ‘package:PerformanceAnalytics’:\n",
      "\n",
      "    Kappa\n",
      "\n",
      "\n",
      "\n",
      "Attaching package: ‘EnvStats’\n",
      "\n",
      "\n",
      "The following objects are masked from ‘package:PerformanceAnalytics’:\n",
      "\n",
      "    kurtosis, skewness\n",
      "\n",
      "\n",
      "The following object is masked from ‘package:MASS’:\n",
      "\n",
      "    boxcox\n",
      "\n",
      "\n",
      "The following objects are masked from ‘package:stats’:\n",
      "\n",
      "    predict, predict.lm\n",
      "\n",
      "\n",
      "The following object is masked from ‘package:base’:\n",
      "\n",
      "    print.default\n",
      "\n",
      "\n"
     ]
    }
   ],
   "source": [
    "library(dplyr)\n",
    "library(ggplot2)\n",
    "library(fitdistrplus)\n",
    "library(PerformanceAnalytics)\n",
    "library(reshape2)\n",
    "library(vcd)\n",
    "library(EnvStats)"
   ]
  },
  {
   "cell_type": "code",
   "execution_count": 2,
   "metadata": {
    "id": "VkiZGsCh3Vxk"
   },
   "outputs": [],
   "source": [
    "# setting plot sizes\n",
    "options(repr.plot.width = 14, repr.plot.height = 8)"
   ]
  },
  {
   "cell_type": "code",
   "execution_count": 3,
   "metadata": {
    "id": "GxMYXxyNcbq0"
   },
   "outputs": [],
   "source": [
    "# importing data\n",
    "data = read.csv('data/titanic.csv')"
   ]
  },
  {
   "cell_type": "code",
   "execution_count": 4,
   "metadata": {
    "colab": {
     "base_uri": "https://localhost:8080/",
     "height": 202
    },
    "id": "G6XdfvPWhXCS",
    "outputId": "1f81cfd3-9955-4f12-9d82-55d1ed7806bd"
   },
   "outputs": [
    {
     "data": {
      "text/html": [
       "<table>\n",
       "<caption>A data.frame: 6 × 12</caption>\n",
       "<thead>\n",
       "\t<tr><th></th><th scope=col>PassengerId</th><th scope=col>Survived</th><th scope=col>Pclass</th><th scope=col>Name</th><th scope=col>Sex</th><th scope=col>Age</th><th scope=col>SibSp</th><th scope=col>Parch</th><th scope=col>Ticket</th><th scope=col>Fare</th><th scope=col>Cabin</th><th scope=col>Embarked</th></tr>\n",
       "\t<tr><th></th><th scope=col>&lt;dbl&gt;</th><th scope=col>&lt;dbl&gt;</th><th scope=col>&lt;dbl&gt;</th><th scope=col>&lt;chr&gt;</th><th scope=col>&lt;chr&gt;</th><th scope=col>&lt;dbl&gt;</th><th scope=col>&lt;dbl&gt;</th><th scope=col>&lt;dbl&gt;</th><th scope=col>&lt;chr&gt;</th><th scope=col>&lt;dbl&gt;</th><th scope=col>&lt;chr&gt;</th><th scope=col>&lt;chr&gt;</th></tr>\n",
       "</thead>\n",
       "<tbody>\n",
       "\t<tr><th scope=row>1</th><td>1</td><td>0</td><td>3</td><td>Braund, Mr. Owen Harris                                                            </td><td>male   </td><td>22</td><td>1</td><td>0</td><td>A/5 21171          </td><td> 7.2500</td><td>                </td><td>S</td></tr>\n",
       "\t<tr><th scope=row>2</th><td>2</td><td>1</td><td>1</td><td>Cumings, Mrs. John Bradley (Florence Briggs Thayer)                                </td><td>female </td><td>38</td><td>1</td><td>0</td><td>PC 17599           </td><td>71.2833</td><td>C85             </td><td>C</td></tr>\n",
       "\t<tr><th scope=row>3</th><td>3</td><td>1</td><td>3</td><td>Heikkinen, Miss. Laina                                                             </td><td>female </td><td>26</td><td>0</td><td>0</td><td>STON/O2. 3101282   </td><td> 7.9250</td><td>                </td><td>S</td></tr>\n",
       "\t<tr><th scope=row>4</th><td>4</td><td>1</td><td>1</td><td>Futrelle, Mrs. Jacques Heath (Lily May Peel)                                       </td><td>female </td><td>35</td><td>1</td><td>0</td><td>113803             </td><td>53.1000</td><td>C123            </td><td>S</td></tr>\n",
       "\t<tr><th scope=row>5</th><td>5</td><td>0</td><td>3</td><td>Allen, Mr. William Henry                                                           </td><td>male   </td><td>35</td><td>0</td><td>0</td><td>373450             </td><td> 8.0500</td><td>                </td><td>S</td></tr>\n",
       "\t<tr><th scope=row>6</th><td>6</td><td>0</td><td>3</td><td>Moran, Mr. James                                                                   </td><td>male   </td><td>NA</td><td>0</td><td>0</td><td>330877             </td><td> 8.4583</td><td>                </td><td>Q</td></tr>\n",
       "</tbody>\n",
       "</table>\n"
      ],
      "text/latex": [
       "A data.frame: 6 × 12\n",
       "\\begin{tabular}{r|llllllllllll}\n",
       "  & PassengerId & Survived & Pclass & Name & Sex & Age & SibSp & Parch & Ticket & Fare & Cabin & Embarked\\\\\n",
       "  & <dbl> & <dbl> & <dbl> & <chr> & <chr> & <dbl> & <dbl> & <dbl> & <chr> & <dbl> & <chr> & <chr>\\\\\n",
       "\\hline\n",
       "\t1 & 1 & 0 & 3 & Braund, Mr. Owen Harris                                                             & male    & 22 & 1 & 0 & A/5 21171           &  7.2500 &                  & S\\\\\n",
       "\t2 & 2 & 1 & 1 & Cumings, Mrs. John Bradley (Florence Briggs Thayer)                                 & female  & 38 & 1 & 0 & PC 17599            & 71.2833 & C85              & C\\\\\n",
       "\t3 & 3 & 1 & 3 & Heikkinen, Miss. Laina                                                              & female  & 26 & 0 & 0 & STON/O2. 3101282    &  7.9250 &                  & S\\\\\n",
       "\t4 & 4 & 1 & 1 & Futrelle, Mrs. Jacques Heath (Lily May Peel)                                        & female  & 35 & 1 & 0 & 113803              & 53.1000 & C123             & S\\\\\n",
       "\t5 & 5 & 0 & 3 & Allen, Mr. William Henry                                                            & male    & 35 & 0 & 0 & 373450              &  8.0500 &                  & S\\\\\n",
       "\t6 & 6 & 0 & 3 & Moran, Mr. James                                                                    & male    & NA & 0 & 0 & 330877              &  8.4583 &                  & Q\\\\\n",
       "\\end{tabular}\n"
      ],
      "text/markdown": [
       "\n",
       "A data.frame: 6 × 12\n",
       "\n",
       "| <!--/--> | PassengerId &lt;dbl&gt; | Survived &lt;dbl&gt; | Pclass &lt;dbl&gt; | Name &lt;chr&gt; | Sex &lt;chr&gt; | Age &lt;dbl&gt; | SibSp &lt;dbl&gt; | Parch &lt;dbl&gt; | Ticket &lt;chr&gt; | Fare &lt;dbl&gt; | Cabin &lt;chr&gt; | Embarked &lt;chr&gt; |\n",
       "|---|---|---|---|---|---|---|---|---|---|---|---|---|\n",
       "| 1 | 1 | 0 | 3 | Braund, Mr. Owen Harris                                                             | male    | 22 | 1 | 0 | A/5 21171           |  7.2500 | <!----> | S |\n",
       "| 2 | 2 | 1 | 1 | Cumings, Mrs. John Bradley (Florence Briggs Thayer)                                 | female  | 38 | 1 | 0 | PC 17599            | 71.2833 | C85              | C |\n",
       "| 3 | 3 | 1 | 3 | Heikkinen, Miss. Laina                                                              | female  | 26 | 0 | 0 | STON/O2. 3101282    |  7.9250 | <!----> | S |\n",
       "| 4 | 4 | 1 | 1 | Futrelle, Mrs. Jacques Heath (Lily May Peel)                                        | female  | 35 | 1 | 0 | 113803              | 53.1000 | C123             | S |\n",
       "| 5 | 5 | 0 | 3 | Allen, Mr. William Henry                                                            | male    | 35 | 0 | 0 | 373450              |  8.0500 | <!----> | S |\n",
       "| 6 | 6 | 0 | 3 | Moran, Mr. James                                                                    | male    | NA | 0 | 0 | 330877              |  8.4583 | <!----> | Q |\n",
       "\n"
      ],
      "text/plain": [
       "  PassengerId Survived Pclass\n",
       "1 1           0        3     \n",
       "2 2           1        1     \n",
       "3 3           1        3     \n",
       "4 4           1        1     \n",
       "5 5           0        3     \n",
       "6 6           0        3     \n",
       "  Name                                                                               \n",
       "1 Braund, Mr. Owen Harris                                                            \n",
       "2 Cumings, Mrs. John Bradley (Florence Briggs Thayer)                                \n",
       "3 Heikkinen, Miss. Laina                                                             \n",
       "4 Futrelle, Mrs. Jacques Heath (Lily May Peel)                                       \n",
       "5 Allen, Mr. William Henry                                                           \n",
       "6 Moran, Mr. James                                                                   \n",
       "  Sex     Age SibSp Parch Ticket              Fare    Cabin            Embarked\n",
       "1 male    22  1     0     A/5 21171            7.2500                  S       \n",
       "2 female  38  1     0     PC 17599            71.2833 C85              C       \n",
       "3 female  26  0     0     STON/O2. 3101282     7.9250                  S       \n",
       "4 female  35  1     0     113803              53.1000 C123             S       \n",
       "5 male    35  0     0     373450               8.0500                  S       \n",
       "6 male    NA  0     0     330877               8.4583                  Q       "
      ]
     },
     "metadata": {},
     "output_type": "display_data"
    }
   ],
   "source": [
    "# looking at the data\n",
    "head(data)"
   ]
  },
  {
   "cell_type": "markdown",
   "metadata": {},
   "source": [
    "<img src=\"img/definition of variables.png\" style=\"width:500px;\">\n",
    "\n",
    "### VARIABLES:\n",
    "\n",
    "#### ID:\n",
    "\n",
    "- PassengerId\n",
    "\n",
    "#### OTHER:\n",
    "\n",
    "- Name\n",
    "- Ticket\n",
    "- Cabin\n",
    "\n",
    "#### CONTINUOUS:\n",
    "\n",
    "- Fare\n",
    "- Age\n",
    "\n",
    "#### DISCRETE:\n",
    "\n",
    "- SibSp\n",
    "- Sex\n",
    "- Survived\n",
    "- Pclass\n",
    "- parch\n",
    "\n",
    "\n",
    "\n",
    "\n",
    "#### Variable Notes\n",
    "\n",
    "**pclass**: A proxy for socio-economic status (SES)\n",
    "\n",
    "- 1st = Upper\n",
    "- 2nd = Middle\n",
    "- 3rd = Lower\n",
    "\n",
    "**age**: Age is fractional if less than 1. If the age is estimated, is it in the form of xx.5\n",
    "\n",
    "**sibsp**: The dataset defines family relations in this way...\n",
    "\n",
    "- Sibling = brother, sister, stepbrother, stepsister\n",
    "- Spouse = husband, wife (mistresses and fiancés were ignored)\n",
    "\n",
    "**parch**: The dataset defines family relations in this way...\n",
    "\n",
    "- Parent = mother, father\n",
    "- Child = daughter, son, stepdaughter, stepson\n",
    "\n",
    "note: Some children travelled only with a nanny, therefore parch=0 for them."
   ]
  },
  {
   "cell_type": "code",
   "execution_count": 5,
   "metadata": {},
   "outputs": [],
   "source": [
    "# ommitting nans\n",
    "data_n <- na.omit(data)"
   ]
  },
  {
   "cell_type": "markdown",
   "metadata": {},
   "source": [
    "## Histograms:"
   ]
  },
  {
   "cell_type": "code",
   "execution_count": 6,
   "metadata": {
    "colab": {
     "base_uri": "https://localhost:8080/",
     "height": 497
    },
    "id": "yzF8xfDRhgRz",
    "outputId": "8af8240d-0336-43d4-c580-8e92aa21c4f4"
   },
   "outputs": [
    {
     "data": {
      "text/html": [
       "<strong>png:</strong> 2"
      ],
      "text/latex": [
       "\\textbf{png:} 2"
      ],
      "text/markdown": [
       "**png:** 2"
      ],
      "text/plain": [
       "png \n",
       "  2 "
      ]
     },
     "metadata": {},
     "output_type": "display_data"
    }
   ],
   "source": [
    "# Fare\n",
    "png(file=\"./plots/fare_hist.png\", width=1200, height=800)\n",
    "hist(data$Fare)\n",
    "dev.off()"
   ]
  },
  {
   "cell_type": "code",
   "execution_count": 7,
   "metadata": {},
   "outputs": [
    {
     "data": {
      "text/html": [
       "<strong>png:</strong> 2"
      ],
      "text/latex": [
       "\\textbf{png:} 2"
      ],
      "text/markdown": [
       "**png:** 2"
      ],
      "text/plain": [
       "png \n",
       "  2 "
      ]
     },
     "metadata": {},
     "output_type": "display_data"
    }
   ],
   "source": [
    "# Age\n",
    "png(file=\"./plots/age_hist.png\", width=1200, height=800)\n",
    "hist(data$Age)\n",
    "dev.off()"
   ]
  },
  {
   "cell_type": "markdown",
   "metadata": {},
   "source": [
    "## fitting distributions to data:"
   ]
  },
  {
   "cell_type": "code",
   "execution_count": 8,
   "metadata": {
    "colab": {
     "base_uri": "https://localhost:8080/",
     "height": 497
    },
    "id": "hrc8IvrbhklT",
    "outputId": "a2a001e6-720e-40cc-d774-b6b324dd236f"
   },
   "outputs": [
    {
     "data": {
      "text/html": [
       "<strong>png:</strong> 2"
      ],
      "text/latex": [
       "\\textbf{png:} 2"
      ],
      "text/markdown": [
       "**png:** 2"
      ],
      "text/plain": [
       "png \n",
       "  2 "
      ]
     },
     "metadata": {},
     "output_type": "display_data"
    }
   ],
   "source": [
    "# Age\n",
    "png(file=\"./plots/age_fitdist.png\", width=1200, height=800)\n",
    "plot(summary(fitdist(data_n$Age,\"norm\")))\n",
    "dev.off()"
   ]
  },
  {
   "cell_type": "code",
   "execution_count": 9,
   "metadata": {},
   "outputs": [
    {
     "data": {
      "text/html": [
       "<strong>png:</strong> 2"
      ],
      "text/latex": [
       "\\textbf{png:} 2"
      ],
      "text/markdown": [
       "**png:** 2"
      ],
      "text/plain": [
       "png \n",
       "  2 "
      ]
     },
     "metadata": {},
     "output_type": "display_data"
    }
   ],
   "source": [
    "# Age\n",
    "png(file=\"./plots/fare_fitdist.png\", width=1200, height=800)\n",
    "plot(summary(fitdist(data_n$Fare+1,\"gamma\")))\n",
    "dev.off()"
   ]
  },
  {
   "cell_type": "markdown",
   "metadata": {},
   "source": [
    "## Quantiles:"
   ]
  },
  {
   "cell_type": "code",
   "execution_count": 10,
   "metadata": {
    "colab": {
     "base_uri": "https://localhost:8080/",
     "height": 497
    },
    "id": "M3k34A0zi150",
    "outputId": "a9099adf-345c-46b1-acb6-0183f9158632"
   },
   "outputs": [
    {
     "data": {
      "text/html": [
       "<strong>png:</strong> 2"
      ],
      "text/latex": [
       "\\textbf{png:} 2"
      ],
      "text/markdown": [
       "**png:** 2"
      ],
      "text/plain": [
       "png \n",
       "  2 "
      ]
     },
     "metadata": {},
     "output_type": "display_data"
    }
   ],
   "source": [
    "# boxplots\n",
    "png(file=\"./plots/age_boxplot.png\", width=700, height=1200)\n",
    "options(repr.plot.width = 8, repr.plot.height = 14)\n",
    "five <- data.frame(x=rep(1,5), five=fivenum(data_n$Age))\n",
    "ggplot(data=data_n, aes(x=0, y=data_n$Age)) + \n",
    "    geom_boxplot() + \n",
    "    theme(text = element_text(size=18)) +\n",
    "    ylab(\"Age\") +\n",
    "    scale_x_discrete(breaks = NULL) +\n",
    "    geom_text(data=five, aes(x=0, y=five, label=five),nudge_x =0.5)\n",
    "dev.off()"
   ]
  },
  {
   "cell_type": "code",
   "execution_count": 11,
   "metadata": {
    "id": "Ea2bHl5ojC5f"
   },
   "outputs": [
    {
     "data": {
      "text/html": [
       "<strong>png:</strong> 2"
      ],
      "text/latex": [
       "\\textbf{png:} 2"
      ],
      "text/markdown": [
       "**png:** 2"
      ],
      "text/plain": [
       "png \n",
       "  2 "
      ]
     },
     "metadata": {},
     "output_type": "display_data"
    }
   ],
   "source": [
    "# boxplots\n",
    "png(file=\"./plots/fare_boxplot.png\", width=700, height=1200)\n",
    "options(repr.plot.width = 8, repr.plot.height = 14)\n",
    "five <- data.frame(x=rep(1,5), five=fivenum(data_n$Fare))\n",
    "ggplot(data=data_n, aes(x=0, y=data_n$Fare)) + \n",
    "    geom_boxplot() + \n",
    "    theme(text = element_text(size=18)) +\n",
    "    ylab(\"Fare\") +\n",
    "    scale_x_discrete(breaks = NULL) +\n",
    "    geom_text(data=five, aes(x=0, y=five, label=five),nudge_x =0.5)\n",
    "dev.off()"
   ]
  },
  {
   "cell_type": "code",
   "execution_count": 12,
   "metadata": {
    "colab": {
     "base_uri": "https://localhost:8080/",
     "height": 497
    },
    "id": "ev0EC74FkReQ",
    "outputId": "50fbde67-c1f5-4579-ac62-e684624f5f54"
   },
   "outputs": [
    {
     "data": {
      "text/html": [
       "<strong>png:</strong> 2"
      ],
      "text/latex": [
       "\\textbf{png:} 2"
      ],
      "text/markdown": [
       "**png:** 2"
      ],
      "text/plain": [
       "png \n",
       "  2 "
      ]
     },
     "metadata": {},
     "output_type": "display_data"
    }
   ],
   "source": [
    "# fare quantiles\n",
    "png(file=\"./plots/fare_quants.png\", width=800, height=500)\n",
    "options(repr.plot.width = 14, repr.plot.height = 8)\n",
    "plot(quantile(data_n$Fare))\n",
    "dev.off()\n"
   ]
  },
  {
   "cell_type": "code",
   "execution_count": 13,
   "metadata": {
    "id": "zkoFsfmelvvr"
   },
   "outputs": [
    {
     "data": {
      "text/html": [
       "<strong>png:</strong> 2"
      ],
      "text/latex": [
       "\\textbf{png:} 2"
      ],
      "text/markdown": [
       "**png:** 2"
      ],
      "text/plain": [
       "png \n",
       "  2 "
      ]
     },
     "metadata": {},
     "output_type": "display_data"
    }
   ],
   "source": [
    "# fare quantiles\n",
    "png(file=\"./plots/age_quants.png\", width=800, height=500)\n",
    "options(repr.plot.width = 14, repr.plot.height = 8)\n",
    "plot(quantile(data_n$Age))\n",
    "dev.off()\n"
   ]
  },
  {
   "cell_type": "markdown",
   "metadata": {},
   "source": [
    "## relationships between variables: correlations"
   ]
  },
  {
   "cell_type": "code",
   "execution_count": 14,
   "metadata": {
    "colab": {
     "base_uri": "https://localhost:8080/",
     "height": 497
    },
    "id": "b9OurFsuk68F",
    "outputId": "968a8240-cb93-41b7-986d-39089a3d046c"
   },
   "outputs": [
    {
     "data": {
      "text/html": [
       "<strong>png:</strong> 2"
      ],
      "text/latex": [
       "\\textbf{png:} 2"
      ],
      "text/markdown": [
       "**png:** 2"
      ],
      "text/plain": [
       "png \n",
       "  2 "
      ]
     },
     "metadata": {},
     "output_type": "display_data"
    }
   ],
   "source": [
    "# age vs fare\n",
    "png(file=\"./plots/fare_vs_age_scatter_log.png\", width=800, height=500)\n",
    "log_data_n = data_n %>% mutate(logAge = log(Age), logFare = log(Fare+100))\n",
    "ggplot(data=log_data_n, aes(x=logFare, y=logAge)) + \n",
    "    geom_point() +\n",
    "    theme(text = element_text(size=18))\n",
    "dev.off()\n"
   ]
  },
  {
   "cell_type": "code",
   "execution_count": 15,
   "metadata": {
    "colab": {
     "base_uri": "https://localhost:8080/",
     "height": 99
    },
    "id": "oKR8rYyNlDgT",
    "outputId": "51b9401f-881a-4f4f-b2e3-ccc89072ce40"
   },
   "outputs": [
    {
     "data": {
      "text/html": [
       "<table>\n",
       "<caption>A matrix: 2 × 2 of type dbl</caption>\n",
       "<thead>\n",
       "\t<tr><th></th><th scope=col>Age</th><th scope=col>Fare</th></tr>\n",
       "</thead>\n",
       "<tbody>\n",
       "\t<tr><th scope=row>Age</th><td>1.0000000</td><td>0.1350512</td></tr>\n",
       "\t<tr><th scope=row>Fare</th><td>0.1350512</td><td>1.0000000</td></tr>\n",
       "</tbody>\n",
       "</table>\n"
      ],
      "text/latex": [
       "A matrix: 2 × 2 of type dbl\n",
       "\\begin{tabular}{r|ll}\n",
       "  & Age & Fare\\\\\n",
       "\\hline\n",
       "\tAge & 1.0000000 & 0.1350512\\\\\n",
       "\tFare & 0.1350512 & 1.0000000\\\\\n",
       "\\end{tabular}\n"
      ],
      "text/markdown": [
       "\n",
       "A matrix: 2 × 2 of type dbl\n",
       "\n",
       "| <!--/--> | Age | Fare |\n",
       "|---|---|---|\n",
       "| Age | 1.0000000 | 0.1350512 |\n",
       "| Fare | 0.1350512 | 1.0000000 |\n",
       "\n"
      ],
      "text/plain": [
       "     Age       Fare     \n",
       "Age  1.0000000 0.1350512\n",
       "Fare 0.1350512 1.0000000"
      ]
     },
     "metadata": {},
     "output_type": "display_data"
    }
   ],
   "source": [
    "# checking correlation between the variables using a spearman correlation coefficient\n",
    "cols <- data_n %>% dplyr::select(Age, Fare)\n",
    "cor(cols, method=\"spearman\")"
   ]
  },
  {
   "cell_type": "code",
   "execution_count": 16,
   "metadata": {
    "colab": {
     "base_uri": "https://localhost:8080/",
     "height": 497
    },
    "id": "zikK07Qpn-TP",
    "outputId": "56da3591-724a-4a9b-ecaa-41d6ada0efea"
   },
   "outputs": [
    {
     "name": "stderr",
     "output_type": "stream",
     "text": [
      "Warning message in cor.test.default(as.numeric(x), as.numeric(y), method = method):\n",
      "“Cannot compute exact p-value with ties”\n"
     ]
    },
    {
     "data": {
      "text/html": [
       "<strong>png:</strong> 2"
      ],
      "text/latex": [
       "\\textbf{png:} 2"
      ],
      "text/markdown": [
       "**png:** 2"
      ],
      "text/plain": [
       "png \n",
       "  2 "
      ]
     },
     "metadata": {},
     "output_type": "display_data"
    }
   ],
   "source": [
    "# checking correlation for all the numerical variables using a performance analytics plot\n",
    "png(file=\"./plots/fare_vs_age_performanceanalytics.png\", width=800, height=500)\n",
    "pa <- data_n %>% dplyr::select(Age, Fare)\n",
    "chart.Correlation(pa, histogram=TRUE, pch=19, method=\"spearman\")\n",
    "dev.off()"
   ]
  },
  {
   "cell_type": "markdown",
   "metadata": {
    "id": "qmMcLvAExgt7"
   },
   "source": [
    "## categorical variables"
   ]
  },
  {
   "cell_type": "markdown",
   "metadata": {},
   "source": [
    "### sex"
   ]
  },
  {
   "cell_type": "code",
   "execution_count": 24,
   "metadata": {},
   "outputs": [
    {
     "data": {
      "text/html": [
       "<table>\n",
       "<caption>A data.frame: 6 × 12</caption>\n",
       "<thead>\n",
       "\t<tr><th></th><th scope=col>PassengerId</th><th scope=col>Survived</th><th scope=col>Pclass</th><th scope=col>Name</th><th scope=col>Sex</th><th scope=col>Age</th><th scope=col>SibSp</th><th scope=col>Parch</th><th scope=col>Ticket</th><th scope=col>Fare</th><th scope=col>Cabin</th><th scope=col>Embarked</th></tr>\n",
       "\t<tr><th></th><th scope=col>&lt;dbl&gt;</th><th scope=col>&lt;dbl&gt;</th><th scope=col>&lt;dbl&gt;</th><th scope=col>&lt;chr&gt;</th><th scope=col>&lt;chr&gt;</th><th scope=col>&lt;dbl&gt;</th><th scope=col>&lt;dbl&gt;</th><th scope=col>&lt;dbl&gt;</th><th scope=col>&lt;chr&gt;</th><th scope=col>&lt;dbl&gt;</th><th scope=col>&lt;chr&gt;</th><th scope=col>&lt;chr&gt;</th></tr>\n",
       "</thead>\n",
       "<tbody>\n",
       "\t<tr><th scope=row>1</th><td>1</td><td>0</td><td>3</td><td>Braund, Mr. Owen Harris                                                            </td><td>male   </td><td>22</td><td>1</td><td>0</td><td>A/5 21171          </td><td> 7.2500</td><td>                </td><td>S</td></tr>\n",
       "\t<tr><th scope=row>2</th><td>2</td><td>1</td><td>1</td><td>Cumings, Mrs. John Bradley (Florence Briggs Thayer)                                </td><td>female </td><td>38</td><td>1</td><td>0</td><td>PC 17599           </td><td>71.2833</td><td>C85             </td><td>C</td></tr>\n",
       "\t<tr><th scope=row>3</th><td>3</td><td>1</td><td>3</td><td>Heikkinen, Miss. Laina                                                             </td><td>female </td><td>26</td><td>0</td><td>0</td><td>STON/O2. 3101282   </td><td> 7.9250</td><td>                </td><td>S</td></tr>\n",
       "\t<tr><th scope=row>4</th><td>4</td><td>1</td><td>1</td><td>Futrelle, Mrs. Jacques Heath (Lily May Peel)                                       </td><td>female </td><td>35</td><td>1</td><td>0</td><td>113803             </td><td>53.1000</td><td>C123            </td><td>S</td></tr>\n",
       "\t<tr><th scope=row>5</th><td>5</td><td>0</td><td>3</td><td>Allen, Mr. William Henry                                                           </td><td>male   </td><td>35</td><td>0</td><td>0</td><td>373450             </td><td> 8.0500</td><td>                </td><td>S</td></tr>\n",
       "\t<tr><th scope=row>6</th><td>6</td><td>0</td><td>3</td><td>Moran, Mr. James                                                                   </td><td>male   </td><td>NA</td><td>0</td><td>0</td><td>330877             </td><td> 8.4583</td><td>                </td><td>Q</td></tr>\n",
       "</tbody>\n",
       "</table>\n"
      ],
      "text/latex": [
       "A data.frame: 6 × 12\n",
       "\\begin{tabular}{r|llllllllllll}\n",
       "  & PassengerId & Survived & Pclass & Name & Sex & Age & SibSp & Parch & Ticket & Fare & Cabin & Embarked\\\\\n",
       "  & <dbl> & <dbl> & <dbl> & <chr> & <chr> & <dbl> & <dbl> & <dbl> & <chr> & <dbl> & <chr> & <chr>\\\\\n",
       "\\hline\n",
       "\t1 & 1 & 0 & 3 & Braund, Mr. Owen Harris                                                             & male    & 22 & 1 & 0 & A/5 21171           &  7.2500 &                  & S\\\\\n",
       "\t2 & 2 & 1 & 1 & Cumings, Mrs. John Bradley (Florence Briggs Thayer)                                 & female  & 38 & 1 & 0 & PC 17599            & 71.2833 & C85              & C\\\\\n",
       "\t3 & 3 & 1 & 3 & Heikkinen, Miss. Laina                                                              & female  & 26 & 0 & 0 & STON/O2. 3101282    &  7.9250 &                  & S\\\\\n",
       "\t4 & 4 & 1 & 1 & Futrelle, Mrs. Jacques Heath (Lily May Peel)                                        & female  & 35 & 1 & 0 & 113803              & 53.1000 & C123             & S\\\\\n",
       "\t5 & 5 & 0 & 3 & Allen, Mr. William Henry                                                            & male    & 35 & 0 & 0 & 373450              &  8.0500 &                  & S\\\\\n",
       "\t6 & 6 & 0 & 3 & Moran, Mr. James                                                                    & male    & NA & 0 & 0 & 330877              &  8.4583 &                  & Q\\\\\n",
       "\\end{tabular}\n"
      ],
      "text/markdown": [
       "\n",
       "A data.frame: 6 × 12\n",
       "\n",
       "| <!--/--> | PassengerId &lt;dbl&gt; | Survived &lt;dbl&gt; | Pclass &lt;dbl&gt; | Name &lt;chr&gt; | Sex &lt;chr&gt; | Age &lt;dbl&gt; | SibSp &lt;dbl&gt; | Parch &lt;dbl&gt; | Ticket &lt;chr&gt; | Fare &lt;dbl&gt; | Cabin &lt;chr&gt; | Embarked &lt;chr&gt; |\n",
       "|---|---|---|---|---|---|---|---|---|---|---|---|---|\n",
       "| 1 | 1 | 0 | 3 | Braund, Mr. Owen Harris                                                             | male    | 22 | 1 | 0 | A/5 21171           |  7.2500 | <!----> | S |\n",
       "| 2 | 2 | 1 | 1 | Cumings, Mrs. John Bradley (Florence Briggs Thayer)                                 | female  | 38 | 1 | 0 | PC 17599            | 71.2833 | C85              | C |\n",
       "| 3 | 3 | 1 | 3 | Heikkinen, Miss. Laina                                                              | female  | 26 | 0 | 0 | STON/O2. 3101282    |  7.9250 | <!----> | S |\n",
       "| 4 | 4 | 1 | 1 | Futrelle, Mrs. Jacques Heath (Lily May Peel)                                        | female  | 35 | 1 | 0 | 113803              | 53.1000 | C123             | S |\n",
       "| 5 | 5 | 0 | 3 | Allen, Mr. William Henry                                                            | male    | 35 | 0 | 0 | 373450              |  8.0500 | <!----> | S |\n",
       "| 6 | 6 | 0 | 3 | Moran, Mr. James                                                                    | male    | NA | 0 | 0 | 330877              |  8.4583 | <!----> | Q |\n",
       "\n"
      ],
      "text/plain": [
       "  PassengerId Survived Pclass\n",
       "1 1           0        3     \n",
       "2 2           1        1     \n",
       "3 3           1        3     \n",
       "4 4           1        1     \n",
       "5 5           0        3     \n",
       "6 6           0        3     \n",
       "  Name                                                                               \n",
       "1 Braund, Mr. Owen Harris                                                            \n",
       "2 Cumings, Mrs. John Bradley (Florence Briggs Thayer)                                \n",
       "3 Heikkinen, Miss. Laina                                                             \n",
       "4 Futrelle, Mrs. Jacques Heath (Lily May Peel)                                       \n",
       "5 Allen, Mr. William Henry                                                           \n",
       "6 Moran, Mr. James                                                                   \n",
       "  Sex     Age SibSp Parch Ticket              Fare    Cabin            Embarked\n",
       "1 male    22  1     0     A/5 21171            7.2500                  S       \n",
       "2 female  38  1     0     PC 17599            71.2833 C85              C       \n",
       "3 female  26  0     0     STON/O2. 3101282     7.9250                  S       \n",
       "4 female  35  1     0     113803              53.1000 C123             S       \n",
       "5 male    35  0     0     373450               8.0500                  S       \n",
       "6 male    NA  0     0     330877               8.4583                  Q       "
      ]
     },
     "metadata": {},
     "output_type": "display_data"
    }
   ],
   "source": [
    "head(data)"
   ]
  },
  {
   "cell_type": "code",
   "execution_count": 111,
   "metadata": {
    "colab": {
     "base_uri": "https://localhost:8080/",
     "height": 497
    },
    "id": "z5YOje3QzhPL",
    "outputId": "7f2f4691-7acb-4762-9372-71495ab69b27"
   },
   "outputs": [
    {
     "name": "stderr",
     "output_type": "stream",
     "text": [
      "`summarise()` ungrouping output (override with `.groups` argument)\n",
      "\n"
     ]
    },
    {
     "data": {
      "text/html": [
       "<table>\n",
       "<caption>A data.frame: 4 × 3</caption>\n",
       "<thead>\n",
       "\t<tr><th></th><th scope=col>Sex</th><th scope=col>variable</th><th scope=col>value</th></tr>\n",
       "\t<tr><th></th><th scope=col>&lt;chr&gt;</th><th scope=col>&lt;chr&gt;</th><th scope=col>&lt;dbl&gt;</th></tr>\n",
       "</thead>\n",
       "<tbody>\n",
       "\t<tr><th scope=row>1</th><td>female </td><td>Fare</td><td>47.58276</td></tr>\n",
       "\t<tr><th scope=row>2</th><td>male   </td><td>Fare</td><td>27.26884</td></tr>\n",
       "\t<tr><th scope=row>3</th><td>female </td><td>Age </td><td>27.91571</td></tr>\n",
       "\t<tr><th scope=row>4</th><td>male   </td><td>Age </td><td>30.72664</td></tr>\n",
       "</tbody>\n",
       "</table>\n"
      ],
      "text/latex": [
       "A data.frame: 4 × 3\n",
       "\\begin{tabular}{r|lll}\n",
       "  & Sex & variable & value\\\\\n",
       "  & <chr> & <chr> & <dbl>\\\\\n",
       "\\hline\n",
       "\t1 & female  & Fare & 47.58276\\\\\n",
       "\t2 & male    & Fare & 27.26884\\\\\n",
       "\t3 & female  & Age  & 27.91571\\\\\n",
       "\t4 & male    & Age  & 30.72664\\\\\n",
       "\\end{tabular}\n"
      ],
      "text/markdown": [
       "\n",
       "A data.frame: 4 × 3\n",
       "\n",
       "| <!--/--> | Sex &lt;chr&gt; | variable &lt;chr&gt; | value &lt;dbl&gt; |\n",
       "|---|---|---|---|\n",
       "| 1 | female  | Fare | 47.58276 |\n",
       "| 2 | male    | Fare | 27.26884 |\n",
       "| 3 | female  | Age  | 27.91571 |\n",
       "| 4 | male    | Age  | 30.72664 |\n",
       "\n"
      ],
      "text/plain": [
       "  Sex     variable value   \n",
       "1 female  Fare     47.58276\n",
       "2 male    Fare     27.26884\n",
       "3 female  Age      27.91571\n",
       "4 male    Age      30.72664"
      ]
     },
     "metadata": {},
     "output_type": "display_data"
    },
    {
     "data": {
      "text/html": [
       "<strong>png:</strong> 2"
      ],
      "text/latex": [
       "\\textbf{png:} 2"
      ],
      "text/markdown": [
       "**png:** 2"
      ],
      "text/plain": [
       "png \n",
       "  2 "
      ]
     },
     "metadata": {},
     "output_type": "display_data"
    }
   ],
   "source": [
    "# sumarizing fare, survived, age by mean\n",
    "sex <- data_n %>% group_by(Sex) %>% summarize(Fare = mean(Fare), Age = mean(Age))\n",
    "\n",
    "# melt\n",
    "sex <- melt(sex, id.vars=c(\"Sex\"), measure.vars=c(\"Fare\",\"Age\")) %>% mutate(variable = as.character(variable))\n",
    "head(sex)\n",
    "\n",
    "# plotting lines for the 3 variables selected\n",
    "png(file=\"./plots/group_sex_fare_age_bar.png\", width=625, height=500)\n",
    "options(repr.plot.width = 10, repr.plot.height = 8)\n",
    "ggplot(sex, aes(y=value, x=variable, fill=Sex)) + \n",
    "  geom_bar(position=\"dodge\", stat=\"identity\") +\n",
    "  theme(text = element_text(size=18))\n",
    "dev.off()"
   ]
  },
  {
   "cell_type": "code",
   "execution_count": 113,
   "metadata": {
    "scrolled": true
   },
   "outputs": [
    {
     "name": "stderr",
     "output_type": "stream",
     "text": [
      "`summarise()` ungrouping output (override with `.groups` argument)\n",
      "\n"
     ]
    },
    {
     "data": {
      "text/html": [
       "<table>\n",
       "<caption>A tibble: 2 × 2</caption>\n",
       "<thead>\n",
       "\t<tr><th scope=col>Sex</th><th scope=col>Survived</th></tr>\n",
       "\t<tr><th scope=col>&lt;chr&gt;</th><th scope=col>&lt;dbl&gt;</th></tr>\n",
       "</thead>\n",
       "<tbody>\n",
       "\t<tr><td>female </td><td>0.7547893</td></tr>\n",
       "\t<tr><td>male   </td><td>0.2052980</td></tr>\n",
       "</tbody>\n",
       "</table>\n"
      ],
      "text/latex": [
       "A tibble: 2 × 2\n",
       "\\begin{tabular}{ll}\n",
       " Sex & Survived\\\\\n",
       " <chr> & <dbl>\\\\\n",
       "\\hline\n",
       "\t female  & 0.7547893\\\\\n",
       "\t male    & 0.2052980\\\\\n",
       "\\end{tabular}\n"
      ],
      "text/markdown": [
       "\n",
       "A tibble: 2 × 2\n",
       "\n",
       "| Sex &lt;chr&gt; | Survived &lt;dbl&gt; |\n",
       "|---|---|\n",
       "| female  | 0.7547893 |\n",
       "| male    | 0.2052980 |\n",
       "\n"
      ],
      "text/plain": [
       "  Sex     Survived \n",
       "1 female  0.7547893\n",
       "2 male    0.2052980"
      ]
     },
     "metadata": {},
     "output_type": "display_data"
    },
    {
     "data": {
      "text/html": [
       "<strong>png:</strong> 2"
      ],
      "text/latex": [
       "\\textbf{png:} 2"
      ],
      "text/markdown": [
       "**png:** 2"
      ],
      "text/plain": [
       "png \n",
       "  2 "
      ]
     },
     "metadata": {},
     "output_type": "display_data"
    }
   ],
   "source": [
    "# sumarizing survived by mean\n",
    "sex <- data_n %>% group_by(Sex) %>% summarize(Survived = mean(Survived))\n",
    "\n",
    "head(sex)\n",
    "\n",
    "# sex groupby survive\n",
    "png(file=\"./plots/group_sex_survived.png\", width=500, height=500)\n",
    "options(repr.plot.width = 8, repr.plot.height = 8)\n",
    "ggplot(sex, aes(y=Survived, x=Sex, fill=Sex)) + \n",
    "  geom_bar(position=\"dodge\", stat=\"identity\")+\n",
    "  theme(text = element_text(size=18))\n",
    "dev.off()"
   ]
  },
  {
   "cell_type": "markdown",
   "metadata": {},
   "source": [
    "### pclass"
   ]
  },
  {
   "cell_type": "code",
   "execution_count": 106,
   "metadata": {
    "colab": {
     "base_uri": "https://localhost:8080/",
     "height": 497
    },
    "id": "BnZiOMV9_ID-",
    "outputId": "7d7fd5b6-0508-4eea-de1e-704b666b5bd0",
    "scrolled": true
   },
   "outputs": [
    {
     "data": {
      "text/html": [
       "<strong>png:</strong> 2"
      ],
      "text/latex": [
       "\\textbf{png:} 2"
      ],
      "text/markdown": [
       "**png:** 2"
      ],
      "text/plain": [
       "png \n",
       "  2 "
      ]
     },
     "metadata": {},
     "output_type": "display_data"
    }
   ],
   "source": [
    "# sumarizing fare, survived, age by mean\n",
    "pclass <- data_n %>% group_by(Pclass) %>% summarize(Fare = mean(Fare), Age = mean(Age))\n",
    "\n",
    "# melt\n",
    "pclass <- melt(pclass, id.vars=c(\"Pclass\"), measure.vars=c(\"Fare\",\"Age\")) %>%\n",
    "  mutate(variable = as.character(variable), Pclass = as.character(Pclass))\n",
    "head(pclass)\n",
    "\n",
    "# plotting lines for the 3 variables selected\n",
    "png(file=\"./plots/group_pclass_fare_age_bar.png\", width=625, height=500)\n",
    "options(repr.plot.width = 10, repr.plot.height = 8)\n",
    "ggplot(pclass, aes(y=value, x=variable, fill=Pclass)) + \n",
    "  geom_bar(position=\"dodge\", stat=\"identity\") +\n",
    "  theme(text = element_text(size=18))\n",
    "dev.off()"
   ]
  },
  {
   "cell_type": "code",
   "execution_count": 114,
   "metadata": {
    "scrolled": true
   },
   "outputs": [
    {
     "name": "stderr",
     "output_type": "stream",
     "text": [
      "`summarise()` ungrouping output (override with `.groups` argument)\n",
      "\n"
     ]
    },
    {
     "data": {
      "text/html": [
       "<table>\n",
       "<caption>A tibble: 3 × 2</caption>\n",
       "<thead>\n",
       "\t<tr><th scope=col>Pclass</th><th scope=col>Survived</th></tr>\n",
       "\t<tr><th scope=col>&lt;chr&gt;</th><th scope=col>&lt;dbl&gt;</th></tr>\n",
       "</thead>\n",
       "<tbody>\n",
       "\t<tr><td>1</td><td>0.6559140</td></tr>\n",
       "\t<tr><td>2</td><td>0.4797688</td></tr>\n",
       "\t<tr><td>3</td><td>0.2394366</td></tr>\n",
       "</tbody>\n",
       "</table>\n"
      ],
      "text/latex": [
       "A tibble: 3 × 2\n",
       "\\begin{tabular}{ll}\n",
       " Pclass & Survived\\\\\n",
       " <chr> & <dbl>\\\\\n",
       "\\hline\n",
       "\t 1 & 0.6559140\\\\\n",
       "\t 2 & 0.4797688\\\\\n",
       "\t 3 & 0.2394366\\\\\n",
       "\\end{tabular}\n"
      ],
      "text/markdown": [
       "\n",
       "A tibble: 3 × 2\n",
       "\n",
       "| Pclass &lt;chr&gt; | Survived &lt;dbl&gt; |\n",
       "|---|---|\n",
       "| 1 | 0.6559140 |\n",
       "| 2 | 0.4797688 |\n",
       "| 3 | 0.2394366 |\n",
       "\n"
      ],
      "text/plain": [
       "  Pclass Survived \n",
       "1 1      0.6559140\n",
       "2 2      0.4797688\n",
       "3 3      0.2394366"
      ]
     },
     "metadata": {},
     "output_type": "display_data"
    },
    {
     "data": {
      "text/html": [
       "<strong>png:</strong> 2"
      ],
      "text/latex": [
       "\\textbf{png:} 2"
      ],
      "text/markdown": [
       "**png:** 2"
      ],
      "text/plain": [
       "png \n",
       "  2 "
      ]
     },
     "metadata": {},
     "output_type": "display_data"
    }
   ],
   "source": [
    "# sumarizing survived by mean\n",
    "pclass <- data_n %>% group_by(Pclass) %>% summarize(Survived = mean(Survived)) %>% mutate(Pclass = as.character(Pclass))\n",
    "\n",
    "head(pclass)\n",
    "\n",
    "# sex groupby survive\n",
    "png(file=\"./plots/group_pclass_survived.png\", width=500, height=500)\n",
    "options(repr.plot.width = 8, repr.plot.height = 8)\n",
    "ggplot(pclass, aes(y=Survived, x=Pclass, fill=Pclass)) + \n",
    "  geom_bar(position=\"dodge\", stat=\"identity\")+\n",
    "  theme(text = element_text(size=18))\n",
    "dev.off()"
   ]
  },
  {
   "cell_type": "markdown",
   "metadata": {},
   "source": [
    "### Embarked"
   ]
  },
  {
   "cell_type": "code",
   "execution_count": 116,
   "metadata": {},
   "outputs": [
    {
     "name": "stderr",
     "output_type": "stream",
     "text": [
      "`summarise()` ungrouping output (override with `.groups` argument)\n",
      "\n"
     ]
    },
    {
     "data": {
      "text/html": [
       "<table>\n",
       "<caption>A data.frame: 6 × 3</caption>\n",
       "<thead>\n",
       "\t<tr><th></th><th scope=col>Embarked</th><th scope=col>variable</th><th scope=col>value</th></tr>\n",
       "\t<tr><th></th><th scope=col>&lt;chr&gt;</th><th scope=col>&lt;chr&gt;</th><th scope=col>&lt;dbl&gt;</th></tr>\n",
       "</thead>\n",
       "<tbody>\n",
       "\t<tr><th scope=row>1</th><td> </td><td>Fare</td><td>80.00000</td></tr>\n",
       "\t<tr><th scope=row>2</th><td>C</td><td>Fare</td><td>68.29677</td></tr>\n",
       "\t<tr><th scope=row>3</th><td>Q</td><td>Fare</td><td>18.26578</td></tr>\n",
       "\t<tr><th scope=row>4</th><td>S</td><td>Fare</td><td>27.47628</td></tr>\n",
       "\t<tr><th scope=row>5</th><td> </td><td>Age </td><td>50.00000</td></tr>\n",
       "\t<tr><th scope=row>6</th><td>C</td><td>Age </td><td>30.81477</td></tr>\n",
       "</tbody>\n",
       "</table>\n"
      ],
      "text/latex": [
       "A data.frame: 6 × 3\n",
       "\\begin{tabular}{r|lll}\n",
       "  & Embarked & variable & value\\\\\n",
       "  & <chr> & <chr> & <dbl>\\\\\n",
       "\\hline\n",
       "\t1 &   & Fare & 80.00000\\\\\n",
       "\t2 & C & Fare & 68.29677\\\\\n",
       "\t3 & Q & Fare & 18.26578\\\\\n",
       "\t4 & S & Fare & 27.47628\\\\\n",
       "\t5 &   & Age  & 50.00000\\\\\n",
       "\t6 & C & Age  & 30.81477\\\\\n",
       "\\end{tabular}\n"
      ],
      "text/markdown": [
       "\n",
       "A data.frame: 6 × 3\n",
       "\n",
       "| <!--/--> | Embarked &lt;chr&gt; | variable &lt;chr&gt; | value &lt;dbl&gt; |\n",
       "|---|---|---|---|\n",
       "| 1 | <!----> | Fare | 80.00000 |\n",
       "| 2 | C | Fare | 68.29677 |\n",
       "| 3 | Q | Fare | 18.26578 |\n",
       "| 4 | S | Fare | 27.47628 |\n",
       "| 5 | <!----> | Age  | 50.00000 |\n",
       "| 6 | C | Age  | 30.81477 |\n",
       "\n"
      ],
      "text/plain": [
       "  Embarked variable value   \n",
       "1          Fare     80.00000\n",
       "2 C        Fare     68.29677\n",
       "3 Q        Fare     18.26578\n",
       "4 S        Fare     27.47628\n",
       "5          Age      50.00000\n",
       "6 C        Age      30.81477"
      ]
     },
     "metadata": {},
     "output_type": "display_data"
    },
    {
     "data": {
      "image/png": "[encoded data removed]",
      "text/plain": [
       "plot without title"
      ]
     },
     "metadata": {
      "image/png": {
       "height": 480,
       "width": 600
      }
     },
     "output_type": "display_data"
    }
   ],
   "source": [
    "# sumarizing fare, survived, age by mean\n",
    "embarked <- data_n %>% group_by(Embarked) %>% summarize(Fare = mean(Fare), Age = mean(Age))\n",
    "\n",
    "# melt\n",
    "embarked <- melt(embarked, id.vars=c(\"Embarked\"), measure.vars=c(\"Fare\",\"Age\")) %>%\n",
    "  mutate(variable = as.character(variable))\n",
    "head(embarked)\n",
    "\n",
    "# plotting lines for the 3 variables selected\n",
    "\n",
    "options(repr.plot.width = 10, repr.plot.height = 8)\n",
    "ggplot(embarked, aes(y=value, x=variable, fill=Embarked)) + \n",
    "  geom_bar(position=\"dodge\", stat=\"identity\") +\n",
    "  theme(text = element_text(size=18))\n"
   ]
  },
  {
   "cell_type": "code",
   "execution_count": null,
   "metadata": {},
   "outputs": [],
   "source": []
  }
 ],
 "metadata": {
  "colab": {
   "collapsed_sections": [],
   "name": "Homework 1.ipynb",
   "provenance": []
  },
  "kernelspec": {
   "display_name": "R",
   "language": "R",
   "name": "ir"
  },
  "language_info": {
   "codemirror_mode": "r",
   "file_extension": ".r",
   "mimetype": "text/x-r-source",
   "name": "R",
   "pygments_lexer": "r",
   "version": "4.0.3"
  }
 },
 "nbformat": 4,
 "nbformat_minor": 1
}
