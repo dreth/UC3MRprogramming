{
 "cells": [
  {
   "cell_type": "markdown",
   "metadata": {
    "id": "W39c9aUzbxhm"
   },
   "source": [
    "# Homework 1\n",
    "## Basic descriptive information and plots for our selected dataset\n",
    "\n",
    "### Daniel Alonso and Ander Iturburu\n",
    "\n",
    "#### Data extracted from <a href=\"https://www.kaggle.com/c/titanic/overview\">kaggle titanic dataset challenge</a>"
   ]
  },
  {
   "cell_type": "code",
   "execution_count": 15,
   "metadata": {
    "colab": {
     "base_uri": "https://localhost:8080/",
     "height": 125
    },
    "id": "BLEhqqrldrPQ",
    "outputId": "b70a3902-593a-4e2f-fe4a-ac40a1f0d310"
   },
   "outputs": [
    {
     "name": "stderr",
     "output_type": "stream",
     "text": [
      "Installing packages into ‘/home/dreth/R/x86_64-pc-linux-gnu-library/4.0’\n",
      "(as ‘lib’ is unspecified)\n",
      "\n"
     ]
    }
   ],
   "source": [
    "install.packages(c('dplyr', 'fitdistrplus', 'PerformanceAnalytics','reshape2','ggmosaic','vcd','EnvStats'))"
   ]
  },
  {
   "cell_type": "code",
   "execution_count": 120,
   "metadata": {
    "colab": {
     "base_uri": "https://localhost:8080/",
     "height": 215
    },
    "id": "lkA3Y92acAlY",
    "outputId": "7faeea5c-a775-4a27-b18f-0289d430f8ec"
   },
   "outputs": [],
   "source": [
    "library(dplyr)\n",
    "library(ggplot2)\n",
    "library(fitdistrplus)\n",
    "library(PerformanceAnalytics)\n",
    "library(reshape2)\n",
    "library(vcd)\n",
    "library(EnvStats)"
   ]
  },
  {
   "cell_type": "code",
   "execution_count": 121,
   "metadata": {
    "id": "VkiZGsCh3Vxk"
   },
   "outputs": [],
   "source": [
    "# setting plot sizes\n",
    "options(repr.plot.width = 14, repr.plot.height = 8)"
   ]
  },
  {
   "cell_type": "code",
   "execution_count": 122,
   "metadata": {
    "id": "GxMYXxyNcbq0"
   },
   "outputs": [],
   "source": [
    "# importing data\n",
    "data = read.csv('data/titanic.csv')"
   ]
  },
  {
   "cell_type": "code",
   "execution_count": 123,
   "metadata": {
    "colab": {
     "base_uri": "https://localhost:8080/",
     "height": 202
    },
    "id": "G6XdfvPWhXCS",
    "outputId": "1f81cfd3-9955-4f12-9d82-55d1ed7806bd"
   },
   "outputs": [
    {
     "data": {
      "text/html": [
       "<table>\n",
       "<caption>A data.frame: 6 × 12</caption>\n",
       "<thead>\n",
       "\t<tr><th></th><th scope=col>PassengerId</th><th scope=col>Survived</th><th scope=col>Pclass</th><th scope=col>Name</th><th scope=col>Sex</th><th scope=col>Age</th><th scope=col>SibSp</th><th scope=col>Parch</th><th scope=col>Ticket</th><th scope=col>Fare</th><th scope=col>Cabin</th><th scope=col>Embarked</th></tr>\n",
       "\t<tr><th></th><th scope=col>&lt;dbl&gt;</th><th scope=col>&lt;dbl&gt;</th><th scope=col>&lt;dbl&gt;</th><th scope=col>&lt;chr&gt;</th><th scope=col>&lt;chr&gt;</th><th scope=col>&lt;dbl&gt;</th><th scope=col>&lt;dbl&gt;</th><th scope=col>&lt;dbl&gt;</th><th scope=col>&lt;chr&gt;</th><th scope=col>&lt;dbl&gt;</th><th scope=col>&lt;chr&gt;</th><th scope=col>&lt;chr&gt;</th></tr>\n",
       "</thead>\n",
       "<tbody>\n",
       "\t<tr><th scope=row>1</th><td>1</td><td>0</td><td>3</td><td>Braund, Mr. Owen Harris                                                            </td><td>male   </td><td>22</td><td>1</td><td>0</td><td>A/5 21171          </td><td> 7.2500</td><td>                </td><td>S</td></tr>\n",
       "\t<tr><th scope=row>2</th><td>2</td><td>1</td><td>1</td><td>Cumings, Mrs. John Bradley (Florence Briggs Thayer)                                </td><td>female </td><td>38</td><td>1</td><td>0</td><td>PC 17599           </td><td>71.2833</td><td>C85             </td><td>C</td></tr>\n",
       "\t<tr><th scope=row>3</th><td>3</td><td>1</td><td>3</td><td>Heikkinen, Miss. Laina                                                             </td><td>female </td><td>26</td><td>0</td><td>0</td><td>STON/O2. 3101282   </td><td> 7.9250</td><td>                </td><td>S</td></tr>\n",
       "\t<tr><th scope=row>4</th><td>4</td><td>1</td><td>1</td><td>Futrelle, Mrs. Jacques Heath (Lily May Peel)                                       </td><td>female </td><td>35</td><td>1</td><td>0</td><td>113803             </td><td>53.1000</td><td>C123            </td><td>S</td></tr>\n",
       "\t<tr><th scope=row>5</th><td>5</td><td>0</td><td>3</td><td>Allen, Mr. William Henry                                                           </td><td>male   </td><td>35</td><td>0</td><td>0</td><td>373450             </td><td> 8.0500</td><td>                </td><td>S</td></tr>\n",
       "\t<tr><th scope=row>6</th><td>6</td><td>0</td><td>3</td><td>Moran, Mr. James                                                                   </td><td>male   </td><td>NA</td><td>0</td><td>0</td><td>330877             </td><td> 8.4583</td><td>                </td><td>Q</td></tr>\n",
       "</tbody>\n",
       "</table>\n"
      ],
      "text/latex": [
       "A data.frame: 6 × 12\n",
       "\\begin{tabular}{r|llllllllllll}\n",
       "  & PassengerId & Survived & Pclass & Name & Sex & Age & SibSp & Parch & Ticket & Fare & Cabin & Embarked\\\\\n",
       "  & <dbl> & <dbl> & <dbl> & <chr> & <chr> & <dbl> & <dbl> & <dbl> & <chr> & <dbl> & <chr> & <chr>\\\\\n",
       "\\hline\n",
       "\t1 & 1 & 0 & 3 & Braund, Mr. Owen Harris                                                             & male    & 22 & 1 & 0 & A/5 21171           &  7.2500 &                  & S\\\\\n",
       "\t2 & 2 & 1 & 1 & Cumings, Mrs. John Bradley (Florence Briggs Thayer)                                 & female  & 38 & 1 & 0 & PC 17599            & 71.2833 & C85              & C\\\\\n",
       "\t3 & 3 & 1 & 3 & Heikkinen, Miss. Laina                                                              & female  & 26 & 0 & 0 & STON/O2. 3101282    &  7.9250 &                  & S\\\\\n",
       "\t4 & 4 & 1 & 1 & Futrelle, Mrs. Jacques Heath (Lily May Peel)                                        & female  & 35 & 1 & 0 & 113803              & 53.1000 & C123             & S\\\\\n",
       "\t5 & 5 & 0 & 3 & Allen, Mr. William Henry                                                            & male    & 35 & 0 & 0 & 373450              &  8.0500 &                  & S\\\\\n",
       "\t6 & 6 & 0 & 3 & Moran, Mr. James                                                                    & male    & NA & 0 & 0 & 330877              &  8.4583 &                  & Q\\\\\n",
       "\\end{tabular}\n"
      ],
      "text/markdown": [
       "\n",
       "A data.frame: 6 × 12\n",
       "\n",
       "| <!--/--> | PassengerId &lt;dbl&gt; | Survived &lt;dbl&gt; | Pclass &lt;dbl&gt; | Name &lt;chr&gt; | Sex &lt;chr&gt; | Age &lt;dbl&gt; | SibSp &lt;dbl&gt; | Parch &lt;dbl&gt; | Ticket &lt;chr&gt; | Fare &lt;dbl&gt; | Cabin &lt;chr&gt; | Embarked &lt;chr&gt; |\n",
       "|---|---|---|---|---|---|---|---|---|---|---|---|---|\n",
       "| 1 | 1 | 0 | 3 | Braund, Mr. Owen Harris                                                             | male    | 22 | 1 | 0 | A/5 21171           |  7.2500 | <!----> | S |\n",
       "| 2 | 2 | 1 | 1 | Cumings, Mrs. John Bradley (Florence Briggs Thayer)                                 | female  | 38 | 1 | 0 | PC 17599            | 71.2833 | C85              | C |\n",
       "| 3 | 3 | 1 | 3 | Heikkinen, Miss. Laina                                                              | female  | 26 | 0 | 0 | STON/O2. 3101282    |  7.9250 | <!----> | S |\n",
       "| 4 | 4 | 1 | 1 | Futrelle, Mrs. Jacques Heath (Lily May Peel)                                        | female  | 35 | 1 | 0 | 113803              | 53.1000 | C123             | S |\n",
       "| 5 | 5 | 0 | 3 | Allen, Mr. William Henry                                                            | male    | 35 | 0 | 0 | 373450              |  8.0500 | <!----> | S |\n",
       "| 6 | 6 | 0 | 3 | Moran, Mr. James                                                                    | male    | NA | 0 | 0 | 330877              |  8.4583 | <!----> | Q |\n",
       "\n"
      ],
      "text/plain": [
       "  PassengerId Survived Pclass\n",
       "1 1           0        3     \n",
       "2 2           1        1     \n",
       "3 3           1        3     \n",
       "4 4           1        1     \n",
       "5 5           0        3     \n",
       "6 6           0        3     \n",
       "  Name                                                                               \n",
       "1 Braund, Mr. Owen Harris                                                            \n",
       "2 Cumings, Mrs. John Bradley (Florence Briggs Thayer)                                \n",
       "3 Heikkinen, Miss. Laina                                                             \n",
       "4 Futrelle, Mrs. Jacques Heath (Lily May Peel)                                       \n",
       "5 Allen, Mr. William Henry                                                           \n",
       "6 Moran, Mr. James                                                                   \n",
       "  Sex     Age SibSp Parch Ticket              Fare    Cabin            Embarked\n",
       "1 male    22  1     0     A/5 21171            7.2500                  S       \n",
       "2 female  38  1     0     PC 17599            71.2833 C85              C       \n",
       "3 female  26  0     0     STON/O2. 3101282     7.9250                  S       \n",
       "4 female  35  1     0     113803              53.1000 C123             S       \n",
       "5 male    35  0     0     373450               8.0500                  S       \n",
       "6 male    NA  0     0     330877               8.4583                  Q       "
      ]
     },
     "metadata": {},
     "output_type": "display_data"
    }
   ],
   "source": [
    "# looking at the data\n",
    "head(data)"
   ]
  },
  {
   "cell_type": "markdown",
   "metadata": {},
   "source": [
    "<img src=\"img/definition of variables.png\" style=\"width:500px;\">\n",
    "\n",
    "### VARIABLES:\n",
    "\n",
    "#### ID:\n",
    "\n",
    "- PassengerId\n",
    "\n",
    "#### OTHER:\n",
    "\n",
    "- Name\n",
    "- Ticket\n",
    "- Cabin\n",
    "\n",
    "#### CONTINUOUS:\n",
    "\n",
    "- Fare\n",
    "- Age\n",
    "\n",
    "#### DISCRETE:\n",
    "\n",
    "- SibSp\n",
    "- Sex\n",
    "- Survived\n",
    "- Pclass\n",
    "- parch\n",
    "\n",
    "\n",
    "\n",
    "\n",
    "#### Variable Notes\n",
    "\n",
    "**pclass**: A proxy for socio-economic status (SES)\n",
    "\n",
    "- 1st = Upper\n",
    "- 2nd = Middle\n",
    "- 3rd = Lower\n",
    "\n",
    "**age**: Age is fractional if less than 1. If the age is estimated, is it in the form of xx.5\n",
    "\n",
    "**sibsp**: The dataset defines family relations in this way...\n",
    "\n",
    "- Sibling = brother, sister, stepbrother, stepsister\n",
    "- Spouse = husband, wife (mistresses and fiancés were ignored)\n",
    "\n",
    "**parch**: The dataset defines family relations in this way...\n",
    "\n",
    "- Parent = mother, father\n",
    "- Child = daughter, son, stepdaughter, stepson\n",
    "\n",
    "note: Some children travelled only with a nanny, therefore parch=0 for them."
   ]
  },
  {
   "cell_type": "code",
   "execution_count": 124,
   "metadata": {},
   "outputs": [],
   "source": [
    "# ommitting nans\n",
    "data_n <- na.omit(data)"
   ]
  },
  {
   "cell_type": "markdown",
   "metadata": {},
   "source": [
    "## Histograms:"
   ]
  },
  {
   "cell_type": "code",
   "execution_count": 125,
   "metadata": {
    "colab": {
     "base_uri": "https://localhost:8080/",
     "height": 497
    },
    "id": "yzF8xfDRhgRz",
    "outputId": "8af8240d-0336-43d4-c580-8e92aa21c4f4"
   },
   "outputs": [
    {
     "data": {
      "text/html": [
       "<strong>png:</strong> 2"
      ],
      "text/latex": [
       "\\textbf{png:} 2"
      ],
      "text/markdown": [
       "**png:** 2"
      ],
      "text/plain": [
       "png \n",
       "  2 "
      ]
     },
     "metadata": {},
     "output_type": "display_data"
    }
   ],
   "source": [
    "# Fare\n",
    "png(file=\"./plots/fare_hist.png\", width=1200, height=800)\n",
    "hist(data$Fare)\n",
    "dev.off()"
   ]
  },
  {
   "cell_type": "code",
   "execution_count": 126,
   "metadata": {},
   "outputs": [
    {
     "data": {
      "text/html": [
       "<strong>png:</strong> 2"
      ],
      "text/latex": [
       "\\textbf{png:} 2"
      ],
      "text/markdown": [
       "**png:** 2"
      ],
      "text/plain": [
       "png \n",
       "  2 "
      ]
     },
     "metadata": {},
     "output_type": "display_data"
    }
   ],
   "source": [
    "# Age\n",
    "png(file=\"./plots/age_hist.png\", width=1200, height=800)\n",
    "hist(data$Age)\n",
    "dev.off()"
   ]
  },
  {
   "cell_type": "markdown",
   "metadata": {},
   "source": [
    "## fitting distributions to data:"
   ]
  },
  {
   "cell_type": "code",
   "execution_count": 127,
   "metadata": {
    "colab": {
     "base_uri": "https://localhost:8080/",
     "height": 497
    },
    "id": "hrc8IvrbhklT",
    "outputId": "a2a001e6-720e-40cc-d774-b6b324dd236f"
   },
   "outputs": [
    {
     "data": {
      "text/html": [
       "<strong>png:</strong> 2"
      ],
      "text/latex": [
       "\\textbf{png:} 2"
      ],
      "text/markdown": [
       "**png:** 2"
      ],
      "text/plain": [
       "png \n",
       "  2 "
      ]
     },
     "metadata": {},
     "output_type": "display_data"
    }
   ],
   "source": [
    "# Age\n",
    "png(file=\"./plots/age_fitdist.png\", width=1200, height=800)\n",
    "plot(summary(fitdist(data_n$Age,\"norm\")))\n",
    "dev.off()"
   ]
  },
  {
   "cell_type": "code",
   "execution_count": 128,
   "metadata": {},
   "outputs": [
    {
     "data": {
      "text/html": [
       "<strong>png:</strong> 2"
      ],
      "text/latex": [
       "\\textbf{png:} 2"
      ],
      "text/markdown": [
       "**png:** 2"
      ],
      "text/plain": [
       "png \n",
       "  2 "
      ]
     },
     "metadata": {},
     "output_type": "display_data"
    }
   ],
   "source": [
    "# Age\n",
    "png(file=\"./plots/fare_fitdist.png\", width=1200, height=800)\n",
    "plot(summary(fitdist(data_n$Fare+1,\"gamma\")))\n",
    "dev.off()"
   ]
  },
  {
   "cell_type": "markdown",
   "metadata": {},
   "source": [
    "## Quantiles:"
   ]
  },
  {
   "cell_type": "code",
   "execution_count": 129,
   "metadata": {
    "colab": {
     "base_uri": "https://localhost:8080/",
     "height": 497
    },
    "id": "M3k34A0zi150",
    "outputId": "a9099adf-345c-46b1-acb6-0183f9158632"
   },
   "outputs": [
    {
     "data": {
      "text/html": [
       "<strong>png:</strong> 2"
      ],
      "text/latex": [
       "\\textbf{png:} 2"
      ],
      "text/markdown": [
       "**png:** 2"
      ],
      "text/plain": [
       "png \n",
       "  2 "
      ]
     },
     "metadata": {},
     "output_type": "display_data"
    }
   ],
   "source": [
    "# boxplots\n",
    "png(file=\"./plots/age_boxplot.png\", width=700, height=1200)\n",
    "options(repr.plot.width = 8, repr.plot.height = 14)\n",
    "five <- data.frame(x=rep(1,5), five=fivenum(data_n$Age))\n",
    "ggplot(data=data_n, aes(x=0, y=data_n$Age)) + \n",
    "    geom_boxplot() + \n",
    "    theme(text = element_text(size=18)) +\n",
    "    ylab(\"Age\") +\n",
    "    scale_x_discrete(breaks = NULL) +\n",
    "    geom_text(data=five, aes(x=0, y=five, label=five),nudge_x =0.5)\n",
    "dev.off()"
   ]
  },
  {
   "cell_type": "code",
   "execution_count": 130,
   "metadata": {
    "id": "Ea2bHl5ojC5f"
   },
   "outputs": [
    {
     "data": {
      "text/html": [
       "<strong>png:</strong> 2"
      ],
      "text/latex": [
       "\\textbf{png:} 2"
      ],
      "text/markdown": [
       "**png:** 2"
      ],
      "text/plain": [
       "png \n",
       "  2 "
      ]
     },
     "metadata": {},
     "output_type": "display_data"
    }
   ],
   "source": [
    "# boxplots\n",
    "png(file=\"./plots/fare_boxplot.png\", width=700, height=1200)\n",
    "options(repr.plot.width = 8, repr.plot.height = 14)\n",
    "five <- data.frame(x=rep(1,5), five=fivenum(data_n$Fare))\n",
    "ggplot(data=data_n, aes(x=0, y=data_n$Fare)) + \n",
    "    geom_boxplot() + \n",
    "    theme(text = element_text(size=18)) +\n",
    "    ylab(\"Fare\") +\n",
    "    scale_x_discrete(breaks = NULL) +\n",
    "    geom_text(data=five, aes(x=0, y=five, label=five),nudge_x =0.5)\n",
    "dev.off()"
   ]
  },
  {
   "cell_type": "code",
   "execution_count": 131,
   "metadata": {
    "colab": {
     "base_uri": "https://localhost:8080/",
     "height": 497
    },
    "id": "ev0EC74FkReQ",
    "outputId": "50fbde67-c1f5-4579-ac62-e684624f5f54"
   },
   "outputs": [
    {
     "data": {
      "text/html": [
       "<strong>png:</strong> 2"
      ],
      "text/latex": [
       "\\textbf{png:} 2"
      ],
      "text/markdown": [
       "**png:** 2"
      ],
      "text/plain": [
       "png \n",
       "  2 "
      ]
     },
     "metadata": {},
     "output_type": "display_data"
    }
   ],
   "source": [
    "# fare quantiles\n",
    "png(file=\"./plots/fare_quants.png\", width=800, height=500)\n",
    "options(repr.plot.width = 14, repr.plot.height = 8)\n",
    "plot(quantile(data_n$Fare))\n",
    "dev.off()\n"
   ]
  },
  {
   "cell_type": "code",
   "execution_count": 132,
   "metadata": {
    "id": "zkoFsfmelvvr"
   },
   "outputs": [
    {
     "data": {
      "text/html": [
       "<strong>png:</strong> 2"
      ],
      "text/latex": [
       "\\textbf{png:} 2"
      ],
      "text/markdown": [
       "**png:** 2"
      ],
      "text/plain": [
       "png \n",
       "  2 "
      ]
     },
     "metadata": {},
     "output_type": "display_data"
    }
   ],
   "source": [
    "# fare quantiles\n",
    "png(file=\"./plots/age_quants.png\", width=800, height=500)\n",
    "options(repr.plot.width = 14, repr.plot.height = 8)\n",
    "plot(quantile(data_n$Age))\n",
    "dev.off()\n"
   ]
  },
  {
   "cell_type": "markdown",
   "metadata": {},
   "source": [
    "## relationships between variables: correlations"
   ]
  },
  {
   "cell_type": "code",
   "execution_count": 133,
   "metadata": {
    "colab": {
     "base_uri": "https://localhost:8080/",
     "height": 497
    },
    "id": "b9OurFsuk68F",
    "outputId": "968a8240-cb93-41b7-986d-39089a3d046c"
   },
   "outputs": [
    {
     "data": {
      "text/html": [
       "<strong>png:</strong> 2"
      ],
      "text/latex": [
       "\\textbf{png:} 2"
      ],
      "text/markdown": [
       "**png:** 2"
      ],
      "text/plain": [
       "png \n",
       "  2 "
      ]
     },
     "metadata": {},
     "output_type": "display_data"
    }
   ],
   "source": [
    "# age vs fare\n",
    "png(file=\"./plots/fare_vs_age_scatter_log.png\", width=800, height=500)\n",
    "log_data_n = data_n %>% mutate(logAge = log(Age), logFare = log(Fare+100))\n",
    "ggplot(data=log_data_n, aes(x=logFare, y=logAge)) + \n",
    "    geom_point() +\n",
    "    theme(text = element_text(size=18))\n",
    "dev.off()\n"
   ]
  },
  {
   "cell_type": "code",
   "execution_count": 134,
   "metadata": {
    "colab": {
     "base_uri": "https://localhost:8080/",
     "height": 99
    },
    "id": "oKR8rYyNlDgT",
    "outputId": "51b9401f-881a-4f4f-b2e3-ccc89072ce40"
   },
   "outputs": [
    {
     "data": {
      "text/html": [
       "<table>\n",
       "<caption>A matrix: 2 × 2 of type dbl</caption>\n",
       "<thead>\n",
       "\t<tr><th></th><th scope=col>Age</th><th scope=col>Fare</th></tr>\n",
       "</thead>\n",
       "<tbody>\n",
       "\t<tr><th scope=row>Age</th><td>1.0000000</td><td>0.1350512</td></tr>\n",
       "\t<tr><th scope=row>Fare</th><td>0.1350512</td><td>1.0000000</td></tr>\n",
       "</tbody>\n",
       "</table>\n"
      ],
      "text/latex": [
       "A matrix: 2 × 2 of type dbl\n",
       "\\begin{tabular}{r|ll}\n",
       "  & Age & Fare\\\\\n",
       "\\hline\n",
       "\tAge & 1.0000000 & 0.1350512\\\\\n",
       "\tFare & 0.1350512 & 1.0000000\\\\\n",
       "\\end{tabular}\n"
      ],
      "text/markdown": [
       "\n",
       "A matrix: 2 × 2 of type dbl\n",
       "\n",
       "| <!--/--> | Age | Fare |\n",
       "|---|---|---|\n",
       "| Age | 1.0000000 | 0.1350512 |\n",
       "| Fare | 0.1350512 | 1.0000000 |\n",
       "\n"
      ],
      "text/plain": [
       "     Age       Fare     \n",
       "Age  1.0000000 0.1350512\n",
       "Fare 0.1350512 1.0000000"
      ]
     },
     "metadata": {},
     "output_type": "display_data"
    }
   ],
   "source": [
    "# checking correlation between the variables using a spearman correlation coefficient\n",
    "cols <- data_n %>% dplyr::select(Age, Fare)\n",
    "cor(cols, method=\"spearman\")"
   ]
  },
  {
   "cell_type": "code",
   "execution_count": 135,
   "metadata": {
    "colab": {
     "base_uri": "https://localhost:8080/",
     "height": 497
    },
    "id": "zikK07Qpn-TP",
    "outputId": "56da3591-724a-4a9b-ecaa-41d6ada0efea",
    "scrolled": true
   },
   "outputs": [
    {
     "name": "stderr",
     "output_type": "stream",
     "text": [
      "Warning message in cor.test.default(as.numeric(x), as.numeric(y), method = method):\n",
      "“Cannot compute exact p-value with ties”\n"
     ]
    },
    {
     "data": {
      "text/html": [
       "<strong>png:</strong> 2"
      ],
      "text/latex": [
       "\\textbf{png:} 2"
      ],
      "text/markdown": [
       "**png:** 2"
      ],
      "text/plain": [
       "png \n",
       "  2 "
      ]
     },
     "metadata": {},
     "output_type": "display_data"
    }
   ],
   "source": [
    "# checking correlation for all the numerical variables using a performance analytics plot\n",
    "png(file=\"./plots/fare_vs_age_performanceanalytics.png\", width=800, height=500)\n",
    "pa <- data_n %>% dplyr::select(Age, Fare)\n",
    "chart.Correlation(pa, histogram=TRUE, pch=19, method=\"spearman\")\n",
    "dev.off()"
   ]
  },
  {
   "cell_type": "markdown",
   "metadata": {
    "id": "qmMcLvAExgt7"
   },
   "source": [
    "## categorical variables"
   ]
  },
  {
   "cell_type": "markdown",
   "metadata": {},
   "source": [
    "### proportions:"
   ]
  },
  {
   "cell_type": "code",
   "execution_count": 200,
   "metadata": {
    "scrolled": false
   },
   "outputs": [
    {
     "data": {
      "text/html": [
       "<table>\n",
       "<caption>A data.frame: 2 × 2</caption>\n",
       "<thead>\n",
       "\t<tr><th scope=col>Var1</th><th scope=col>Freq</th></tr>\n",
       "\t<tr><th scope=col>&lt;fct&gt;</th><th scope=col>&lt;dbl&gt;</th></tr>\n",
       "</thead>\n",
       "<tbody>\n",
       "\t<tr><td>female </td><td>0.3655462</td></tr>\n",
       "\t<tr><td>male   </td><td>0.6344538</td></tr>\n",
       "</tbody>\n",
       "</table>\n"
      ],
      "text/latex": [
       "A data.frame: 2 × 2\n",
       "\\begin{tabular}{ll}\n",
       " Var1 & Freq\\\\\n",
       " <fct> & <dbl>\\\\\n",
       "\\hline\n",
       "\t female  & 0.3655462\\\\\n",
       "\t male    & 0.6344538\\\\\n",
       "\\end{tabular}\n"
      ],
      "text/markdown": [
       "\n",
       "A data.frame: 2 × 2\n",
       "\n",
       "| Var1 &lt;fct&gt; | Freq &lt;dbl&gt; |\n",
       "|---|---|\n",
       "| female  | 0.3655462 |\n",
       "| male    | 0.6344538 |\n",
       "\n"
      ],
      "text/plain": [
       "  Var1    Freq     \n",
       "1 female  0.3655462\n",
       "2 male    0.6344538"
      ]
     },
     "metadata": {},
     "output_type": "display_data"
    }
   ],
   "source": [
    "# proportions for sex\n",
    "# sumarizing fare, survived, age by mean\n",
    "sex <- prop.table(table(data_n$Sex))\n",
    "sex <- data.frame(sex) %>% "
   ]
  },
  {
   "cell_type": "code",
   "execution_count": 199,
   "metadata": {},
   "outputs": [
    {
     "ename": "ERROR",
     "evalue": "Error: `data` must be a data frame, or other object coercible by `fortify()`, not an S3 object with class table\n",
     "output_type": "error",
     "traceback": [
      "Error: `data` must be a data frame, or other object coercible by `fortify()`, not an S3 object with class table\nTraceback:\n",
      "1. ggplot(sex)",
      "2. ggplot.default(sex)",
      "3. fortify(data, ...)",
      "4. fortify.default(data, ...)",
      "5. abort(msg)",
      "6. signal_abort(cnd)"
     ]
    }
   ],
   "source": [
    "ggplot(sex)"
   ]
  },
  {
   "cell_type": "markdown",
   "metadata": {},
   "source": [
    "## Grouped categorical variables"
   ]
  },
  {
   "cell_type": "markdown",
   "metadata": {},
   "source": [
    "### sex"
   ]
  },
  {
   "cell_type": "code",
   "execution_count": 136,
   "metadata": {},
   "outputs": [
    {
     "data": {
      "text/html": [
       "<table>\n",
       "<caption>A data.frame: 6 × 12</caption>\n",
       "<thead>\n",
       "\t<tr><th></th><th scope=col>PassengerId</th><th scope=col>Survived</th><th scope=col>Pclass</th><th scope=col>Name</th><th scope=col>Sex</th><th scope=col>Age</th><th scope=col>SibSp</th><th scope=col>Parch</th><th scope=col>Ticket</th><th scope=col>Fare</th><th scope=col>Cabin</th><th scope=col>Embarked</th></tr>\n",
       "\t<tr><th></th><th scope=col>&lt;dbl&gt;</th><th scope=col>&lt;dbl&gt;</th><th scope=col>&lt;dbl&gt;</th><th scope=col>&lt;chr&gt;</th><th scope=col>&lt;chr&gt;</th><th scope=col>&lt;dbl&gt;</th><th scope=col>&lt;dbl&gt;</th><th scope=col>&lt;dbl&gt;</th><th scope=col>&lt;chr&gt;</th><th scope=col>&lt;dbl&gt;</th><th scope=col>&lt;chr&gt;</th><th scope=col>&lt;chr&gt;</th></tr>\n",
       "</thead>\n",
       "<tbody>\n",
       "\t<tr><th scope=row>1</th><td>1</td><td>0</td><td>3</td><td>Braund, Mr. Owen Harris                                                            </td><td>male   </td><td>22</td><td>1</td><td>0</td><td>A/5 21171          </td><td> 7.2500</td><td>                </td><td>S</td></tr>\n",
       "\t<tr><th scope=row>2</th><td>2</td><td>1</td><td>1</td><td>Cumings, Mrs. John Bradley (Florence Briggs Thayer)                                </td><td>female </td><td>38</td><td>1</td><td>0</td><td>PC 17599           </td><td>71.2833</td><td>C85             </td><td>C</td></tr>\n",
       "\t<tr><th scope=row>3</th><td>3</td><td>1</td><td>3</td><td>Heikkinen, Miss. Laina                                                             </td><td>female </td><td>26</td><td>0</td><td>0</td><td>STON/O2. 3101282   </td><td> 7.9250</td><td>                </td><td>S</td></tr>\n",
       "\t<tr><th scope=row>4</th><td>4</td><td>1</td><td>1</td><td>Futrelle, Mrs. Jacques Heath (Lily May Peel)                                       </td><td>female </td><td>35</td><td>1</td><td>0</td><td>113803             </td><td>53.1000</td><td>C123            </td><td>S</td></tr>\n",
       "\t<tr><th scope=row>5</th><td>5</td><td>0</td><td>3</td><td>Allen, Mr. William Henry                                                           </td><td>male   </td><td>35</td><td>0</td><td>0</td><td>373450             </td><td> 8.0500</td><td>                </td><td>S</td></tr>\n",
       "\t<tr><th scope=row>6</th><td>6</td><td>0</td><td>3</td><td>Moran, Mr. James                                                                   </td><td>male   </td><td>NA</td><td>0</td><td>0</td><td>330877             </td><td> 8.4583</td><td>                </td><td>Q</td></tr>\n",
       "</tbody>\n",
       "</table>\n"
      ],
      "text/latex": [
       "A data.frame: 6 × 12\n",
       "\\begin{tabular}{r|llllllllllll}\n",
       "  & PassengerId & Survived & Pclass & Name & Sex & Age & SibSp & Parch & Ticket & Fare & Cabin & Embarked\\\\\n",
       "  & <dbl> & <dbl> & <dbl> & <chr> & <chr> & <dbl> & <dbl> & <dbl> & <chr> & <dbl> & <chr> & <chr>\\\\\n",
       "\\hline\n",
       "\t1 & 1 & 0 & 3 & Braund, Mr. Owen Harris                                                             & male    & 22 & 1 & 0 & A/5 21171           &  7.2500 &                  & S\\\\\n",
       "\t2 & 2 & 1 & 1 & Cumings, Mrs. John Bradley (Florence Briggs Thayer)                                 & female  & 38 & 1 & 0 & PC 17599            & 71.2833 & C85              & C\\\\\n",
       "\t3 & 3 & 1 & 3 & Heikkinen, Miss. Laina                                                              & female  & 26 & 0 & 0 & STON/O2. 3101282    &  7.9250 &                  & S\\\\\n",
       "\t4 & 4 & 1 & 1 & Futrelle, Mrs. Jacques Heath (Lily May Peel)                                        & female  & 35 & 1 & 0 & 113803              & 53.1000 & C123             & S\\\\\n",
       "\t5 & 5 & 0 & 3 & Allen, Mr. William Henry                                                            & male    & 35 & 0 & 0 & 373450              &  8.0500 &                  & S\\\\\n",
       "\t6 & 6 & 0 & 3 & Moran, Mr. James                                                                    & male    & NA & 0 & 0 & 330877              &  8.4583 &                  & Q\\\\\n",
       "\\end{tabular}\n"
      ],
      "text/markdown": [
       "\n",
       "A data.frame: 6 × 12\n",
       "\n",
       "| <!--/--> | PassengerId &lt;dbl&gt; | Survived &lt;dbl&gt; | Pclass &lt;dbl&gt; | Name &lt;chr&gt; | Sex &lt;chr&gt; | Age &lt;dbl&gt; | SibSp &lt;dbl&gt; | Parch &lt;dbl&gt; | Ticket &lt;chr&gt; | Fare &lt;dbl&gt; | Cabin &lt;chr&gt; | Embarked &lt;chr&gt; |\n",
       "|---|---|---|---|---|---|---|---|---|---|---|---|---|\n",
       "| 1 | 1 | 0 | 3 | Braund, Mr. Owen Harris                                                             | male    | 22 | 1 | 0 | A/5 21171           |  7.2500 | <!----> | S |\n",
       "| 2 | 2 | 1 | 1 | Cumings, Mrs. John Bradley (Florence Briggs Thayer)                                 | female  | 38 | 1 | 0 | PC 17599            | 71.2833 | C85              | C |\n",
       "| 3 | 3 | 1 | 3 | Heikkinen, Miss. Laina                                                              | female  | 26 | 0 | 0 | STON/O2. 3101282    |  7.9250 | <!----> | S |\n",
       "| 4 | 4 | 1 | 1 | Futrelle, Mrs. Jacques Heath (Lily May Peel)                                        | female  | 35 | 1 | 0 | 113803              | 53.1000 | C123             | S |\n",
       "| 5 | 5 | 0 | 3 | Allen, Mr. William Henry                                                            | male    | 35 | 0 | 0 | 373450              |  8.0500 | <!----> | S |\n",
       "| 6 | 6 | 0 | 3 | Moran, Mr. James                                                                    | male    | NA | 0 | 0 | 330877              |  8.4583 | <!----> | Q |\n",
       "\n"
      ],
      "text/plain": [
       "  PassengerId Survived Pclass\n",
       "1 1           0        3     \n",
       "2 2           1        1     \n",
       "3 3           1        3     \n",
       "4 4           1        1     \n",
       "5 5           0        3     \n",
       "6 6           0        3     \n",
       "  Name                                                                               \n",
       "1 Braund, Mr. Owen Harris                                                            \n",
       "2 Cumings, Mrs. John Bradley (Florence Briggs Thayer)                                \n",
       "3 Heikkinen, Miss. Laina                                                             \n",
       "4 Futrelle, Mrs. Jacques Heath (Lily May Peel)                                       \n",
       "5 Allen, Mr. William Henry                                                           \n",
       "6 Moran, Mr. James                                                                   \n",
       "  Sex     Age SibSp Parch Ticket              Fare    Cabin            Embarked\n",
       "1 male    22  1     0     A/5 21171            7.2500                  S       \n",
       "2 female  38  1     0     PC 17599            71.2833 C85              C       \n",
       "3 female  26  0     0     STON/O2. 3101282     7.9250                  S       \n",
       "4 female  35  1     0     113803              53.1000 C123             S       \n",
       "5 male    35  0     0     373450               8.0500                  S       \n",
       "6 male    NA  0     0     330877               8.4583                  Q       "
      ]
     },
     "metadata": {},
     "output_type": "display_data"
    }
   ],
   "source": [
    "head(data)"
   ]
  },
  {
   "cell_type": "code",
   "execution_count": 137,
   "metadata": {
    "colab": {
     "base_uri": "https://localhost:8080/",
     "height": 497
    },
    "id": "z5YOje3QzhPL",
    "outputId": "7f2f4691-7acb-4762-9372-71495ab69b27"
   },
   "outputs": [
    {
     "name": "stderr",
     "output_type": "stream",
     "text": [
      "`summarise()` ungrouping output (override with `.groups` argument)\n",
      "\n"
     ]
    },
    {
     "data": {
      "text/html": [
       "<table>\n",
       "<caption>A data.frame: 4 × 3</caption>\n",
       "<thead>\n",
       "\t<tr><th></th><th scope=col>Sex</th><th scope=col>variable</th><th scope=col>value</th></tr>\n",
       "\t<tr><th></th><th scope=col>&lt;chr&gt;</th><th scope=col>&lt;chr&gt;</th><th scope=col>&lt;dbl&gt;</th></tr>\n",
       "</thead>\n",
       "<tbody>\n",
       "\t<tr><th scope=row>1</th><td>female </td><td>Fare</td><td>47.58276</td></tr>\n",
       "\t<tr><th scope=row>2</th><td>male   </td><td>Fare</td><td>27.26884</td></tr>\n",
       "\t<tr><th scope=row>3</th><td>female </td><td>Age </td><td>27.91571</td></tr>\n",
       "\t<tr><th scope=row>4</th><td>male   </td><td>Age </td><td>30.72664</td></tr>\n",
       "</tbody>\n",
       "</table>\n"
      ],
      "text/latex": [
       "A data.frame: 4 × 3\n",
       "\\begin{tabular}{r|lll}\n",
       "  & Sex & variable & value\\\\\n",
       "  & <chr> & <chr> & <dbl>\\\\\n",
       "\\hline\n",
       "\t1 & female  & Fare & 47.58276\\\\\n",
       "\t2 & male    & Fare & 27.26884\\\\\n",
       "\t3 & female  & Age  & 27.91571\\\\\n",
       "\t4 & male    & Age  & 30.72664\\\\\n",
       "\\end{tabular}\n"
      ],
      "text/markdown": [
       "\n",
       "A data.frame: 4 × 3\n",
       "\n",
       "| <!--/--> | Sex &lt;chr&gt; | variable &lt;chr&gt; | value &lt;dbl&gt; |\n",
       "|---|---|---|---|\n",
       "| 1 | female  | Fare | 47.58276 |\n",
       "| 2 | male    | Fare | 27.26884 |\n",
       "| 3 | female  | Age  | 27.91571 |\n",
       "| 4 | male    | Age  | 30.72664 |\n",
       "\n"
      ],
      "text/plain": [
       "  Sex     variable value   \n",
       "1 female  Fare     47.58276\n",
       "2 male    Fare     27.26884\n",
       "3 female  Age      27.91571\n",
       "4 male    Age      30.72664"
      ]
     },
     "metadata": {},
     "output_type": "display_data"
    },
    {
     "data": {
      "text/html": [
       "<strong>png:</strong> 2"
      ],
      "text/latex": [
       "\\textbf{png:} 2"
      ],
      "text/markdown": [
       "**png:** 2"
      ],
      "text/plain": [
       "png \n",
       "  2 "
      ]
     },
     "metadata": {},
     "output_type": "display_data"
    }
   ],
   "source": [
    "# sumarizing fare, survived, age by mean\n",
    "sex <- data_n %>% group_by(Sex) %>% summarize(Fare = mean(Fare), Age = mean(Age))\n",
    "\n",
    "# melt\n",
    "sex <- melt(sex, id.vars=c(\"Sex\"), measure.vars=c(\"Fare\",\"Age\")) %>% mutate(variable = as.character(variable))\n",
    "head(sex)\n",
    "\n",
    "# plotting lines for the 3 variables selected\n",
    "png(file=\"./plots/group_sex_fare_age_bar.png\", width=625, height=500)\n",
    "options(repr.plot.width = 10, repr.plot.height = 8)\n",
    "ggplot(sex, aes(y=value, x=variable, fill=Sex)) + \n",
    "  geom_bar(position=\"dodge\", stat=\"identity\") +\n",
    "  theme(text = element_text(size=18))\n",
    "dev.off()"
   ]
  },
  {
   "cell_type": "code",
   "execution_count": 138,
   "metadata": {
    "scrolled": true
   },
   "outputs": [
    {
     "name": "stderr",
     "output_type": "stream",
     "text": [
      "`summarise()` ungrouping output (override with `.groups` argument)\n",
      "\n"
     ]
    },
    {
     "data": {
      "text/html": [
       "<table>\n",
       "<caption>A tibble: 2 × 2</caption>\n",
       "<thead>\n",
       "\t<tr><th scope=col>Sex</th><th scope=col>Survived</th></tr>\n",
       "\t<tr><th scope=col>&lt;chr&gt;</th><th scope=col>&lt;dbl&gt;</th></tr>\n",
       "</thead>\n",
       "<tbody>\n",
       "\t<tr><td>female </td><td>0.7547893</td></tr>\n",
       "\t<tr><td>male   </td><td>0.2052980</td></tr>\n",
       "</tbody>\n",
       "</table>\n"
      ],
      "text/latex": [
       "A tibble: 2 × 2\n",
       "\\begin{tabular}{ll}\n",
       " Sex & Survived\\\\\n",
       " <chr> & <dbl>\\\\\n",
       "\\hline\n",
       "\t female  & 0.7547893\\\\\n",
       "\t male    & 0.2052980\\\\\n",
       "\\end{tabular}\n"
      ],
      "text/markdown": [
       "\n",
       "A tibble: 2 × 2\n",
       "\n",
       "| Sex &lt;chr&gt; | Survived &lt;dbl&gt; |\n",
       "|---|---|\n",
       "| female  | 0.7547893 |\n",
       "| male    | 0.2052980 |\n",
       "\n"
      ],
      "text/plain": [
       "  Sex     Survived \n",
       "1 female  0.7547893\n",
       "2 male    0.2052980"
      ]
     },
     "metadata": {},
     "output_type": "display_data"
    },
    {
     "data": {
      "text/html": [
       "<strong>png:</strong> 2"
      ],
      "text/latex": [
       "\\textbf{png:} 2"
      ],
      "text/markdown": [
       "**png:** 2"
      ],
      "text/plain": [
       "png \n",
       "  2 "
      ]
     },
     "metadata": {},
     "output_type": "display_data"
    }
   ],
   "source": [
    "# sumarizing survived by mean\n",
    "sex <- data_n %>% group_by(Sex) %>% summarize(Survived = mean(Survived))\n",
    "\n",
    "head(sex)\n",
    "\n",
    "# sex groupby survive\n",
    "png(file=\"./plots/group_sex_survived.png\", width=500, height=500)\n",
    "options(repr.plot.width = 8, repr.plot.height = 8)\n",
    "ggplot(sex, aes(y=Survived, x=Sex, fill=Sex)) + \n",
    "  geom_bar(position=\"dodge\", stat=\"identity\")+\n",
    "  theme(text = element_text(size=18))\n",
    "dev.off()"
   ]
  },
  {
   "cell_type": "markdown",
   "metadata": {},
   "source": [
    "### pclass"
   ]
  },
  {
   "cell_type": "code",
   "execution_count": 139,
   "metadata": {
    "colab": {
     "base_uri": "https://localhost:8080/",
     "height": 497
    },
    "id": "BnZiOMV9_ID-",
    "outputId": "7d7fd5b6-0508-4eea-de1e-704b666b5bd0",
    "scrolled": true
   },
   "outputs": [
    {
     "name": "stderr",
     "output_type": "stream",
     "text": [
      "`summarise()` ungrouping output (override with `.groups` argument)\n",
      "\n"
     ]
    },
    {
     "data": {
      "text/html": [
       "<table>\n",
       "<caption>A data.frame: 6 × 3</caption>\n",
       "<thead>\n",
       "\t<tr><th></th><th scope=col>Pclass</th><th scope=col>variable</th><th scope=col>value</th></tr>\n",
       "\t<tr><th></th><th scope=col>&lt;chr&gt;</th><th scope=col>&lt;chr&gt;</th><th scope=col>&lt;dbl&gt;</th></tr>\n",
       "</thead>\n",
       "<tbody>\n",
       "\t<tr><th scope=row>1</th><td>1</td><td>Fare</td><td>87.96158</td></tr>\n",
       "\t<tr><th scope=row>2</th><td>2</td><td>Fare</td><td>21.47156</td></tr>\n",
       "\t<tr><th scope=row>3</th><td>3</td><td>Fare</td><td>13.22944</td></tr>\n",
       "\t<tr><th scope=row>4</th><td>1</td><td>Age </td><td>38.23344</td></tr>\n",
       "\t<tr><th scope=row>5</th><td>2</td><td>Age </td><td>29.87763</td></tr>\n",
       "\t<tr><th scope=row>6</th><td>3</td><td>Age </td><td>25.14062</td></tr>\n",
       "</tbody>\n",
       "</table>\n"
      ],
      "text/latex": [
       "A data.frame: 6 × 3\n",
       "\\begin{tabular}{r|lll}\n",
       "  & Pclass & variable & value\\\\\n",
       "  & <chr> & <chr> & <dbl>\\\\\n",
       "\\hline\n",
       "\t1 & 1 & Fare & 87.96158\\\\\n",
       "\t2 & 2 & Fare & 21.47156\\\\\n",
       "\t3 & 3 & Fare & 13.22944\\\\\n",
       "\t4 & 1 & Age  & 38.23344\\\\\n",
       "\t5 & 2 & Age  & 29.87763\\\\\n",
       "\t6 & 3 & Age  & 25.14062\\\\\n",
       "\\end{tabular}\n"
      ],
      "text/markdown": [
       "\n",
       "A data.frame: 6 × 3\n",
       "\n",
       "| <!--/--> | Pclass &lt;chr&gt; | variable &lt;chr&gt; | value &lt;dbl&gt; |\n",
       "|---|---|---|---|\n",
       "| 1 | 1 | Fare | 87.96158 |\n",
       "| 2 | 2 | Fare | 21.47156 |\n",
       "| 3 | 3 | Fare | 13.22944 |\n",
       "| 4 | 1 | Age  | 38.23344 |\n",
       "| 5 | 2 | Age  | 29.87763 |\n",
       "| 6 | 3 | Age  | 25.14062 |\n",
       "\n"
      ],
      "text/plain": [
       "  Pclass variable value   \n",
       "1 1      Fare     87.96158\n",
       "2 2      Fare     21.47156\n",
       "3 3      Fare     13.22944\n",
       "4 1      Age      38.23344\n",
       "5 2      Age      29.87763\n",
       "6 3      Age      25.14062"
      ]
     },
     "metadata": {},
     "output_type": "display_data"
    },
    {
     "data": {
      "text/html": [
       "<strong>png:</strong> 2"
      ],
      "text/latex": [
       "\\textbf{png:} 2"
      ],
      "text/markdown": [
       "**png:** 2"
      ],
      "text/plain": [
       "png \n",
       "  2 "
      ]
     },
     "metadata": {},
     "output_type": "display_data"
    }
   ],
   "source": [
    "# sumarizing fare, survived, age by mean\n",
    "pclass <- data_n %>% group_by(Pclass) %>% summarize(Fare = mean(Fare), Age = mean(Age))\n",
    "\n",
    "# melt\n",
    "pclass <- melt(pclass, id.vars=c(\"Pclass\"), measure.vars=c(\"Fare\",\"Age\")) %>%\n",
    "  mutate(variable = as.character(variable), Pclass = as.character(Pclass))\n",
    "head(pclass)\n",
    "\n",
    "# plotting lines for the 3 variables selected\n",
    "png(file=\"./plots/group_pclass_fare_age_bar.png\", width=625, height=500)\n",
    "options(repr.plot.width = 10, repr.plot.height = 8)\n",
    "ggplot(pclass, aes(y=value, x=variable, fill=Pclass)) + \n",
    "  geom_bar(position=\"dodge\", stat=\"identity\") +\n",
    "  theme(text = element_text(size=18))\n",
    "dev.off()"
   ]
  },
  {
   "cell_type": "code",
   "execution_count": 140,
   "metadata": {
    "scrolled": true
   },
   "outputs": [
    {
     "name": "stderr",
     "output_type": "stream",
     "text": [
      "`summarise()` ungrouping output (override with `.groups` argument)\n",
      "\n"
     ]
    },
    {
     "data": {
      "text/html": [
       "<table>\n",
       "<caption>A tibble: 3 × 2</caption>\n",
       "<thead>\n",
       "\t<tr><th scope=col>Pclass</th><th scope=col>Survived</th></tr>\n",
       "\t<tr><th scope=col>&lt;chr&gt;</th><th scope=col>&lt;dbl&gt;</th></tr>\n",
       "</thead>\n",
       "<tbody>\n",
       "\t<tr><td>1</td><td>0.6559140</td></tr>\n",
       "\t<tr><td>2</td><td>0.4797688</td></tr>\n",
       "\t<tr><td>3</td><td>0.2394366</td></tr>\n",
       "</tbody>\n",
       "</table>\n"
      ],
      "text/latex": [
       "A tibble: 3 × 2\n",
       "\\begin{tabular}{ll}\n",
       " Pclass & Survived\\\\\n",
       " <chr> & <dbl>\\\\\n",
       "\\hline\n",
       "\t 1 & 0.6559140\\\\\n",
       "\t 2 & 0.4797688\\\\\n",
       "\t 3 & 0.2394366\\\\\n",
       "\\end{tabular}\n"
      ],
      "text/markdown": [
       "\n",
       "A tibble: 3 × 2\n",
       "\n",
       "| Pclass &lt;chr&gt; | Survived &lt;dbl&gt; |\n",
       "|---|---|\n",
       "| 1 | 0.6559140 |\n",
       "| 2 | 0.4797688 |\n",
       "| 3 | 0.2394366 |\n",
       "\n"
      ],
      "text/plain": [
       "  Pclass Survived \n",
       "1 1      0.6559140\n",
       "2 2      0.4797688\n",
       "3 3      0.2394366"
      ]
     },
     "metadata": {},
     "output_type": "display_data"
    },
    {
     "data": {
      "text/html": [
       "<strong>png:</strong> 2"
      ],
      "text/latex": [
       "\\textbf{png:} 2"
      ],
      "text/markdown": [
       "**png:** 2"
      ],
      "text/plain": [
       "png \n",
       "  2 "
      ]
     },
     "metadata": {},
     "output_type": "display_data"
    }
   ],
   "source": [
    "# sumarizing survived by mean\n",
    "pclass <- data_n %>% group_by(Pclass) %>% summarize(Survived = mean(Survived)) %>% mutate(Pclass = as.character(Pclass))\n",
    "\n",
    "head(pclass)\n",
    "\n",
    "# sex groupby survive\n",
    "png(file=\"./plots/group_pclass_survived.png\", width=500, height=500)\n",
    "options(repr.plot.width = 8, repr.plot.height = 8)\n",
    "ggplot(pclass, aes(y=Survived, x=Pclass, fill=Pclass)) + \n",
    "  geom_bar(position=\"dodge\", stat=\"identity\")+\n",
    "  theme(text = element_text(size=18))\n",
    "dev.off()"
   ]
  },
  {
   "cell_type": "markdown",
   "metadata": {},
   "source": [
    "### Embarked"
   ]
  },
  {
   "cell_type": "code",
   "execution_count": 154,
   "metadata": {},
   "outputs": [
    {
     "name": "stderr",
     "output_type": "stream",
     "text": [
      "`summarise()` ungrouping output (override with `.groups` argument)\n",
      "\n"
     ]
    },
    {
     "data": {
      "text/html": [
       "<table>\n",
       "<caption>A data.frame: 6 × 3</caption>\n",
       "<thead>\n",
       "\t<tr><th scope=col>Embarked</th><th scope=col>variable</th><th scope=col>value</th></tr>\n",
       "\t<tr><th scope=col>&lt;chr&gt;</th><th scope=col>&lt;chr&gt;</th><th scope=col>&lt;dbl&gt;</th></tr>\n",
       "</thead>\n",
       "<tbody>\n",
       "\t<tr><td>C</td><td>Fare</td><td>68.29677</td></tr>\n",
       "\t<tr><td>Q</td><td>Fare</td><td>18.26578</td></tr>\n",
       "\t<tr><td>S</td><td>Fare</td><td>27.47628</td></tr>\n",
       "\t<tr><td>C</td><td>Age </td><td>30.81477</td></tr>\n",
       "\t<tr><td>Q</td><td>Age </td><td>28.08929</td></tr>\n",
       "\t<tr><td>S</td><td>Age </td><td>29.44540</td></tr>\n",
       "</tbody>\n",
       "</table>\n"
      ],
      "text/latex": [
       "A data.frame: 6 × 3\n",
       "\\begin{tabular}{lll}\n",
       " Embarked & variable & value\\\\\n",
       " <chr> & <chr> & <dbl>\\\\\n",
       "\\hline\n",
       "\t C & Fare & 68.29677\\\\\n",
       "\t Q & Fare & 18.26578\\\\\n",
       "\t S & Fare & 27.47628\\\\\n",
       "\t C & Age  & 30.81477\\\\\n",
       "\t Q & Age  & 28.08929\\\\\n",
       "\t S & Age  & 29.44540\\\\\n",
       "\\end{tabular}\n"
      ],
      "text/markdown": [
       "\n",
       "A data.frame: 6 × 3\n",
       "\n",
       "| Embarked &lt;chr&gt; | variable &lt;chr&gt; | value &lt;dbl&gt; |\n",
       "|---|---|---|\n",
       "| C | Fare | 68.29677 |\n",
       "| Q | Fare | 18.26578 |\n",
       "| S | Fare | 27.47628 |\n",
       "| C | Age  | 30.81477 |\n",
       "| Q | Age  | 28.08929 |\n",
       "| S | Age  | 29.44540 |\n",
       "\n"
      ],
      "text/plain": [
       "  Embarked variable value   \n",
       "1 C        Fare     68.29677\n",
       "2 Q        Fare     18.26578\n",
       "3 S        Fare     27.47628\n",
       "4 C        Age      30.81477\n",
       "5 Q        Age      28.08929\n",
       "6 S        Age      29.44540"
      ]
     },
     "metadata": {},
     "output_type": "display_data"
    },
    {
     "data": {
      "text/html": [
       "<strong>png:</strong> 2"
      ],
      "text/latex": [
       "\\textbf{png:} 2"
      ],
      "text/markdown": [
       "**png:** 2"
      ],
      "text/plain": [
       "png \n",
       "  2 "
      ]
     },
     "metadata": {},
     "output_type": "display_data"
    }
   ],
   "source": [
    "# sumarizing fare, survived, age by mean\n",
    "embarked <- data_n %>% group_by(Embarked) %>% summarize(Fare = mean(Fare), Age = mean(Age)) %>%\n",
    " filter(Embarked != '')\n",
    "\n",
    "# melt\n",
    "embarked <- melt(embarked, id.vars=c(\"Embarked\"), measure.vars=c(\"Fare\",\"Age\")) %>%\n",
    "  mutate(variable = as.character(variable))\n",
    "embarked\n",
    "\n",
    "# plotting lines for the 3 variables selected\n",
    "png(file=\"./plots/group_embarked_fare_age_bar.png\", width=625, height=500)\n",
    "options(repr.plot.width = 10, repr.plot.height = 8)\n",
    "ggplot(embarked, aes(y=value, x=variable, fill=Embarked)) + \n",
    "  geom_bar(position=\"dodge\", stat=\"identity\") +\n",
    "  theme(text = element_text(size=18))\n",
    "dev.off()"
   ]
  },
  {
   "cell_type": "code",
   "execution_count": 169,
   "metadata": {},
   "outputs": [
    {
     "name": "stderr",
     "output_type": "stream",
     "text": [
      "`summarise()` ungrouping output (override with `.groups` argument)\n",
      "\n"
     ]
    },
    {
     "data": {
      "text/html": [
       "<table>\n",
       "<caption>A tibble: 3 × 2</caption>\n",
       "<thead>\n",
       "\t<tr><th scope=col>Embarked</th><th scope=col>Survived</th></tr>\n",
       "\t<tr><th scope=col>&lt;chr&gt;</th><th scope=col>&lt;dbl&gt;</th></tr>\n",
       "</thead>\n",
       "<tbody>\n",
       "\t<tr><td>C</td><td>0.6076923</td></tr>\n",
       "\t<tr><td>Q</td><td>0.2857143</td></tr>\n",
       "\t<tr><td>S</td><td>0.3628159</td></tr>\n",
       "</tbody>\n",
       "</table>\n"
      ],
      "text/latex": [
       "A tibble: 3 × 2\n",
       "\\begin{tabular}{ll}\n",
       " Embarked & Survived\\\\\n",
       " <chr> & <dbl>\\\\\n",
       "\\hline\n",
       "\t C & 0.6076923\\\\\n",
       "\t Q & 0.2857143\\\\\n",
       "\t S & 0.3628159\\\\\n",
       "\\end{tabular}\n"
      ],
      "text/markdown": [
       "\n",
       "A tibble: 3 × 2\n",
       "\n",
       "| Embarked &lt;chr&gt; | Survived &lt;dbl&gt; |\n",
       "|---|---|\n",
       "| C | 0.6076923 |\n",
       "| Q | 0.2857143 |\n",
       "| S | 0.3628159 |\n",
       "\n"
      ],
      "text/plain": [
       "  Embarked Survived \n",
       "1 C        0.6076923\n",
       "2 Q        0.2857143\n",
       "3 S        0.3628159"
      ]
     },
     "metadata": {},
     "output_type": "display_data"
    },
    {
     "data": {
      "text/html": [
       "<strong>png:</strong> 2"
      ],
      "text/latex": [
       "\\textbf{png:} 2"
      ],
      "text/markdown": [
       "**png:** 2"
      ],
      "text/plain": [
       "png \n",
       "  2 "
      ]
     },
     "metadata": {},
     "output_type": "display_data"
    }
   ],
   "source": [
    "# sumarizing survived by mean\n",
    "embarked <- data_n %>% group_by(Embarked) %>% summarize(Survived = mean(Survived)) %>% filter(Embarked != '')\n",
    "head(embarked)\n",
    "\n",
    "# sex groupby survive\n",
    "png(file=\"./plots/group_embarked_survived.png\", width=500, height=500)\n",
    "options(repr.plot.width = 8, repr.plot.height = 8)\n",
    "ggplot(embarked, aes(y=Survived, x=Embarked, fill=Embarked)) + \n",
    "  geom_bar(position=\"dodge\", stat=\"identity\")+\n",
    "  theme(text = element_text(size=18))\n",
    "dev.off()"
   ]
  },
  {
   "cell_type": "markdown",
   "metadata": {},
   "source": [
    "### Survived"
   ]
  },
  {
   "cell_type": "code",
   "execution_count": 162,
   "metadata": {},
   "outputs": [
    {
     "name": "stderr",
     "output_type": "stream",
     "text": [
      "`summarise()` ungrouping output (override with `.groups` argument)\n",
      "\n"
     ]
    },
    {
     "data": {
      "text/html": [
       "<table>\n",
       "<caption>A data.frame: 4 × 3</caption>\n",
       "<thead>\n",
       "\t<tr><th scope=col>Survived</th><th scope=col>variable</th><th scope=col>value</th></tr>\n",
       "\t<tr><th scope=col>&lt;chr&gt;</th><th scope=col>&lt;chr&gt;</th><th scope=col>&lt;dbl&gt;</th></tr>\n",
       "</thead>\n",
       "<tbody>\n",
       "\t<tr><td>0</td><td>Fare</td><td>22.96546</td></tr>\n",
       "\t<tr><td>1</td><td>Fare</td><td>51.84321</td></tr>\n",
       "\t<tr><td>0</td><td>Age </td><td>30.62618</td></tr>\n",
       "\t<tr><td>1</td><td>Age </td><td>28.34369</td></tr>\n",
       "</tbody>\n",
       "</table>\n"
      ],
      "text/latex": [
       "A data.frame: 4 × 3\n",
       "\\begin{tabular}{lll}\n",
       " Survived & variable & value\\\\\n",
       " <chr> & <chr> & <dbl>\\\\\n",
       "\\hline\n",
       "\t 0 & Fare & 22.96546\\\\\n",
       "\t 1 & Fare & 51.84321\\\\\n",
       "\t 0 & Age  & 30.62618\\\\\n",
       "\t 1 & Age  & 28.34369\\\\\n",
       "\\end{tabular}\n"
      ],
      "text/markdown": [
       "\n",
       "A data.frame: 4 × 3\n",
       "\n",
       "| Survived &lt;chr&gt; | variable &lt;chr&gt; | value &lt;dbl&gt; |\n",
       "|---|---|---|\n",
       "| 0 | Fare | 22.96546 |\n",
       "| 1 | Fare | 51.84321 |\n",
       "| 0 | Age  | 30.62618 |\n",
       "| 1 | Age  | 28.34369 |\n",
       "\n"
      ],
      "text/plain": [
       "  Survived variable value   \n",
       "1 0        Fare     22.96546\n",
       "2 1        Fare     51.84321\n",
       "3 0        Age      30.62618\n",
       "4 1        Age      28.34369"
      ]
     },
     "metadata": {},
     "output_type": "display_data"
    },
    {
     "data": {
      "text/html": [
       "<strong>png:</strong> 2"
      ],
      "text/latex": [
       "\\textbf{png:} 2"
      ],
      "text/markdown": [
       "**png:** 2"
      ],
      "text/plain": [
       "png \n",
       "  2 "
      ]
     },
     "metadata": {},
     "output_type": "display_data"
    }
   ],
   "source": [
    "# sumarizing fare, survived, age by mean\n",
    "survived <- data_n %>% group_by(Survived) %>% summarize(Fare = mean(Fare), Age = mean(Age))\n",
    "\n",
    "# melt\n",
    "survived <- melt(survived, id.vars=c(\"Survived\"), measure.vars=c(\"Fare\",\"Age\")) %>%\n",
    "  mutate(variable = as.character(variable), Survived = as.character(Survived))\n",
    "survived\n",
    "\n",
    "# plotting lines for the 3 variables selected\n",
    "png(file=\"./plots/group_survived_fare_age_bar.png\", width=625, height=500)\n",
    "options(repr.plot.width = 10, repr.plot.height = 8)\n",
    "ggplot(survived, aes(y=value, x=variable, fill=Survived)) + \n",
    "  geom_bar(position=\"dodge\", stat=\"identity\") +\n",
    "  theme(text = element_text(size=18))\n",
    "dev.off()"
   ]
  },
  {
   "cell_type": "code",
   "execution_count": 178,
   "metadata": {},
   "outputs": [
    {
     "name": "stderr",
     "output_type": "stream",
     "text": [
      "`summarise()` ungrouping output (override with `.groups` argument)\n",
      "\n"
     ]
    },
    {
     "data": {
      "text/html": [
       "<table>\n",
       "<caption>A tibble: 2 × 2</caption>\n",
       "<thead>\n",
       "\t<tr><th scope=col>Survived</th><th scope=col>SibSp</th></tr>\n",
       "\t<tr><th scope=col>&lt;chr&gt;</th><th scope=col>&lt;dbl&gt;</th></tr>\n",
       "</thead>\n",
       "<tbody>\n",
       "\t<tr><td>0</td><td>1.742188</td></tr>\n",
       "\t<tr><td>1</td><td>1.243478</td></tr>\n",
       "</tbody>\n",
       "</table>\n"
      ],
      "text/latex": [
       "A tibble: 2 × 2\n",
       "\\begin{tabular}{ll}\n",
       " Survived & SibSp\\\\\n",
       " <chr> & <dbl>\\\\\n",
       "\\hline\n",
       "\t 0 & 1.742188\\\\\n",
       "\t 1 & 1.243478\\\\\n",
       "\\end{tabular}\n"
      ],
      "text/markdown": [
       "\n",
       "A tibble: 2 × 2\n",
       "\n",
       "| Survived &lt;chr&gt; | SibSp &lt;dbl&gt; |\n",
       "|---|---|\n",
       "| 0 | 1.742188 |\n",
       "| 1 | 1.243478 |\n",
       "\n"
      ],
      "text/plain": [
       "  Survived SibSp   \n",
       "1 0        1.742188\n",
       "2 1        1.243478"
      ]
     },
     "metadata": {},
     "output_type": "display_data"
    },
    {
     "data": {
      "text/html": [
       "<strong>png:</strong> 2"
      ],
      "text/latex": [
       "\\textbf{png:} 2"
      ],
      "text/markdown": [
       "**png:** 2"
      ],
      "text/plain": [
       "png \n",
       "  2 "
      ]
     },
     "metadata": {},
     "output_type": "display_data"
    }
   ],
   "source": [
    "# sumarizing sibsp by mean if sibsp >= 1\n",
    "survived <- data_n %>% group_by(Survived) %>% \n",
    " filter(SibSp >= 1) %>%\n",
    " summarize(SibSp = mean(SibSp)) %>% \n",
    " mutate(Survived = as.character(Survived))\n",
    "head(survived)\n",
    "\n",
    "# sex groupby survive\n",
    "png(file=\"./plots/group_survived_sibsp_ONE_plus.png\", width=500, height=500)\n",
    "options(repr.plot.width = 8, repr.plot.height = 8)\n",
    "ggplot(survived, aes(y=SibSp, x=Survived, fill=Survived)) + \n",
    "  geom_bar(position=\"dodge\", stat=\"identity\")+\n",
    "  theme(text = element_text(size=18))\n",
    "dev.off()"
   ]
  },
  {
   "cell_type": "code",
   "execution_count": 180,
   "metadata": {},
   "outputs": [
    {
     "name": "stderr",
     "output_type": "stream",
     "text": [
      "`summarise()` ungrouping output (override with `.groups` argument)\n",
      "\n"
     ]
    },
    {
     "data": {
      "text/html": [
       "<table>\n",
       "<caption>A tibble: 2 × 2</caption>\n",
       "<thead>\n",
       "\t<tr><th scope=col>Survived</th><th scope=col>Parch</th></tr>\n",
       "\t<tr><th scope=col>&lt;chr&gt;</th><th scope=col>&lt;dbl&gt;</th></tr>\n",
       "</thead>\n",
       "<tbody>\n",
       "\t<tr><td>0</td><td>1.741573</td></tr>\n",
       "\t<tr><td>1</td><td>1.471154</td></tr>\n",
       "</tbody>\n",
       "</table>\n"
      ],
      "text/latex": [
       "A tibble: 2 × 2\n",
       "\\begin{tabular}{ll}\n",
       " Survived & Parch\\\\\n",
       " <chr> & <dbl>\\\\\n",
       "\\hline\n",
       "\t 0 & 1.741573\\\\\n",
       "\t 1 & 1.471154\\\\\n",
       "\\end{tabular}\n"
      ],
      "text/markdown": [
       "\n",
       "A tibble: 2 × 2\n",
       "\n",
       "| Survived &lt;chr&gt; | Parch &lt;dbl&gt; |\n",
       "|---|---|\n",
       "| 0 | 1.741573 |\n",
       "| 1 | 1.471154 |\n",
       "\n"
      ],
      "text/plain": [
       "  Survived Parch   \n",
       "1 0        1.741573\n",
       "2 1        1.471154"
      ]
     },
     "metadata": {},
     "output_type": "display_data"
    },
    {
     "data": {
      "text/html": [
       "<strong>png:</strong> 2"
      ],
      "text/latex": [
       "\\textbf{png:} 2"
      ],
      "text/markdown": [
       "**png:** 2"
      ],
      "text/plain": [
       "png \n",
       "  2 "
      ]
     },
     "metadata": {},
     "output_type": "display_data"
    }
   ],
   "source": [
    "# sumarizing sibsp by mean if sibsp >= 1\n",
    "survived <- data_n %>% group_by(Survived) %>% \n",
    " filter(Parch >= 1) %>%\n",
    " summarize(Parch = mean(Parch)) %>% \n",
    " mutate(Survived = as.character(Survived))\n",
    "head(survived)\n",
    "\n",
    "# sex groupby survive\n",
    "png(file=\"./plots/group_survived_parch_ONE_plus.png\", width=500, height=500)\n",
    "options(repr.plot.width = 8, repr.plot.height = 8)\n",
    "ggplot(survived, aes(y=Parch, x=Survived, fill=Survived)) + \n",
    "  geom_bar(position=\"dodge\", stat=\"identity\")+\n",
    "  theme(text = element_text(size=18))\n",
    "dev.off()"
   ]
  },
  {
   "cell_type": "code",
   "execution_count": null,
   "metadata": {},
   "outputs": [],
   "source": []
  },
  {
   "cell_type": "code",
   "execution_count": null,
   "metadata": {},
   "outputs": [],
   "source": []
  },
  {
   "cell_type": "code",
   "execution_count": null,
   "metadata": {},
   "outputs": [],
   "source": []
  },
  {
   "cell_type": "code",
   "execution_count": null,
   "metadata": {},
   "outputs": [],
   "source": []
  },
  {
   "cell_type": "code",
   "execution_count": null,
   "metadata": {},
   "outputs": [],
   "source": []
  }
 ],
 "metadata": {
  "colab": {
   "collapsed_sections": [],
   "name": "Homework 1.ipynb",
   "provenance": []
  },
  "kernelspec": {
   "display_name": "R",
   "language": "R",
   "name": "ir"
  },
  "language_info": {
   "codemirror_mode": "r",
   "file_extension": ".r",
   "mimetype": "text/x-r-source",
   "name": "R",
   "pygments_lexer": "r",
   "version": "4.0.3"
  }
 },
 "nbformat": 4,
 "nbformat_minor": 1
}
